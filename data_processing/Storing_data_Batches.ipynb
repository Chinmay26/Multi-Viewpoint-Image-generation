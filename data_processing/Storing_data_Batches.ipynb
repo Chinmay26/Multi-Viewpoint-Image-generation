{
 "cells": [
  {
   "cell_type": "code",
   "execution_count": 9,
   "metadata": {
    "collapsed": true
   },
   "outputs": [],
   "source": [
    "%matplotlib inline\n",
    "import matplotlib\n"
   ]
  },
  {
   "cell_type": "code",
   "execution_count": 10,
   "metadata": {
    "collapsed": true
   },
   "outputs": [],
   "source": [
    "\n",
    "import tensorflow as tf\n",
    "import numpy as np\n",
    "import pickle\n",
    "import matplotlib.pyplot as plt\n",
    "from scipy import misc\n",
    "from scipy import ndimage\n",
    "import os\n",
    "from matplotlib.pyplot import imshow\n",
    "import matplotlib.image as mpimg\n",
    "from sklearn.utils import shuffle\n",
    "import h5py"
   ]
  },
  {
   "cell_type": "code",
   "execution_count": 49,
   "metadata": {},
   "outputs": [
    {
     "name": "stdout",
     "output_type": "stream",
     "text": [
      "loading data\n"
     ]
    }
   ],
   "source": [
    "#load data\n",
    "print (\"loading data\")\n",
    "#iterate over directory and get all png images\\n\n",
    "#imageset = np.empty((7704,64,64,3), dtype='float32')\n",
    "\n",
    "'''\n",
    "rootdir is the path to a batch folder\n",
    "'''\n",
    "rootdir = \"C:/Users/nitis/OneDrive/Documents/Deep Learning/Project/datasets/car_batches/3dw/Train/1\"\n",
    "#rootdir = \"C:/Users/nitis/OneDrive/Documents/Deep Learning/Project/datasets/car_batches/3dw/Train/1\"\n",
    "\n",
    "def get_image_data(root_dir):\n",
    "    img_data = np.zeros((36,64,64,3)) # to do start with zero\n",
    "    cnt = 0\n",
    "    total_cnt = 0\n",
    "    k=0\n",
    "    cur_model =  np.empty((36,64,64,3), dtype='float32')\n",
    "    for subdir, dirs, files in os.walk(root_dir):\n",
    "        for file in files:\n",
    "            filepath = subdir + os.sep + file\n",
    "            k += 1\n",
    "            if filepath.endswith('.png'):\n",
    "                #print('check')\n",
    "                if cnt == 36:\n",
    "                    cnt = 0\n",
    "                    total_cnt += 1\n",
    "                    \n",
    "                    img_data = np.concatenate((img_data,cur_model),axis=0)\n",
    "                    #print(cur_model)\n",
    "                    #cur_model =  np.empty((36,64,64,3), dtype='float32')\n",
    "\n",
    "                cnt += 1\n",
    "                seq_number = int(filepath.split('-')[-1].split('.')[0])\n",
    "                cur_model[seq_number] = misc.imread(filepath).astype(np.float32)\n",
    "                #plt.imshow(cur_model[seq_number]/255)\n",
    "                #plt.show()\n",
    "    to_del = range(0,36) #To remove first row of zeros\n",
    "    print(to_del)\n",
    "    img_data = np.delete(img_data, to_del, axis=0)\n",
    "    return img_data\n",
    "                \n"
   ]
  },
  {
   "cell_type": "code",
   "execution_count": 50,
   "metadata": {},
   "outputs": [
    {
     "name": "stdout",
     "output_type": "stream",
     "text": [
      "range(0, 36)\n",
      "(17964, 64, 64, 3)\n"
     ]
    }
   ],
   "source": [
    "image_data = get_image_data(rootdir)\n",
    "print(image_data.shape)\n",
    "\n"
   ]
  },
  {
   "cell_type": "code",
   "execution_count": 51,
   "metadata": {},
   "outputs": [
    {
     "name": "stdout",
     "output_type": "stream",
     "text": [
      "(64, 64, 3)\n"
     ]
    },
    {
     "data": {
      "image/png": "[encoded data removed]",
      "text/plain": [
       "<matplotlib.figure.Figure at 0x1718ce8fac8>"
      ]
     },
     "metadata": {},
     "output_type": "display_data"
    }
   ],
   "source": [
    "print(image_data[0].shape)\n",
    "\n",
    "plt.imshow(image_data[0]/255)\n",
    "plt.show()"
   ]
  },
  {
   "cell_type": "code",
   "execution_count": 52,
   "metadata": {
    "collapsed": true
   },
   "outputs": [],
   "source": [
    "def data_store(images,labels,poses,batch_no):\n",
    "    new_dir= \"./data_batch_\"+str(batch_no)\n",
    "    os.mkdir(new_dir)\n",
    "    \n",
    "    datafile = os.path.join(new_dir,\"data.npy\")\n",
    "    np.save(datafile, images)\n",
    "    \n",
    "    posefile = os.path.join(new_dir,\"pose.npy\")\n",
    "    np.save(posefile, poses)\n",
    "\n",
    "    labelfile = os.path.join(new_dir,\"label.npy\")\n",
    "    np.save(labelfile, labels)"
   ]
  },
  {
   "cell_type": "code",
   "execution_count": 53,
   "metadata": {
    "collapsed": true
   },
   "outputs": [],
   "source": [
    "\n",
    "def get_train(data, pairs_per_model):\n",
    "    W,H,C = 64,64,3\n",
    "    images_per_model = 36\n",
    "    pose_W, pose_H, pose_D = 8,8,36\n",
    "\n",
    "    total_models = int(data.shape[0] / images_per_model)\n",
    "    #print(total_models)\n",
    "    data_train = np.zeros((total_models * pairs_per_model, W,H,C))\n",
    "    \n",
    "    data_ = np.zeros((total_models * pairs_per_model,W,H,C))\n",
    "    labels_ = np.zeros((total_models * pairs_per_model,W,H,C))\n",
    "    pose = np.zeros((total_models * pairs_per_model,pose_W,pose_H,pose_D))\n",
    "    \n",
    "    for cnt in range(total_models ):\n",
    "        tmp_data = np.zeros((images_per_model * images_per_model,W,H,C))\n",
    "        tmp_labels = np.zeros((images_per_model * images_per_model,W,H,C))\n",
    "        tmp_pose = np.zeros((images_per_model * images_per_model, pose_W,pose_H,pose_D))\n",
    "        for i in range(images_per_model):\n",
    "            for j in range(images_per_model):\n",
    "                num = (j-i) % images_per_model\n",
    "                pose_tmp = np.zeros(images_per_model)\n",
    "                pose_tmp[num] = 1\n",
    "                tmp_pose[i*images_per_model + j] = np.broadcast_to(pose_tmp,(pose_W,pose_H,pose_D))\n",
    "                tmp_data[i*images_per_model + j] = data[cnt*images_per_model + i]\n",
    "                tmp_labels[i*images_per_model + j] = data[cnt *images_per_model + j]         \n",
    "        rand_nums = np.random.randint(0,images_per_model * images_per_model - 1,pairs_per_model)\n",
    "        data_[cnt*pairs_per_model : (cnt+1)*pairs_per_model] = tmp_data[rand_nums]\n",
    "        labels_[cnt*pairs_per_model : (cnt+1)*pairs_per_model] = tmp_labels[rand_nums]\n",
    "        pose[cnt*pairs_per_model : (cnt+1)*pairs_per_model] = tmp_pose[rand_nums]\n",
    "        \n",
    "    data_, labels_, pose = shuffle(data_, labels_, pose, random_state=0)\n",
    "    dirname = os.path.basename(rootdir)\n",
    "    data_store(data_,labels_,pose,dirname)\n",
    "    "
   ]
  },
  {
   "cell_type": "code",
   "execution_count": 54,
   "metadata": {},
   "outputs": [],
   "source": [
    "get_train(image_data,100)"
   ]
  },
  {
   "cell_type": "code",
   "execution_count": 65,
   "metadata": {},
   "outputs": [
    {
     "name": "stdout",
     "output_type": "stream",
     "text": [
      "[ 0.  0.  0.  0.  0.  0.  0.  0.  0.  0.  0.  0.  0.  0.  0.  0.  0.  0.\n",
      "  0.  0.  0.  0.  0.  0.  0.  0.  0.  0.  0.  0.  0.  0.  0.  0.  0.  1.]\n"
     ]
    }
   ],
   "source": [
    "pose_ = np.load(\"./data_batch_1/pose.npy\")\n",
    "data_ = np.load(\"./data_batch_1/data.npy\")\n",
    "labels_ = np.load(\"./data_batch_1/label.npy\")\n",
    "print((pose[5][0][0]))"
   ]
  },
  {
   "cell_type": "code",
   "execution_count": 72,
   "metadata": {},
   "outputs": [
    {
     "name": "stdout",
     "output_type": "stream",
     "text": [
      "[ 0.  0.  0.  0.  0.  0.  0.  1.  0.  0.  0.  0.  0.  0.  0.  0.  0.  0.\n",
      "  0.  0.  0.  0.  0.  0.  0.  0.  0.  0.  0.  0.  0.  0.  0.  0.  0.  0.]\n"
     ]
    },
    {
     "data": {
      "image/png": "[encoded data removed]",
      "text/plain": [
       "<matplotlib.figure.Figure at 0x171889c3e48>"
      ]
     },
     "metadata": {},
     "output_type": "display_data"
    },
    {
     "data": {
      "image/png": "[encoded data removed]",
      "text/plain": [
       "<matplotlib.figure.Figure at 0x17188b78e80>"
      ]
     },
     "metadata": {},
     "output_type": "display_data"
    }
   ],
   "source": [
    "\n",
    "number = 255\n",
    "print(pose_[number][0][0])\n",
    "plt.imshow(data_[number][...,::-1]/255)\n",
    "plt.show()\n",
    "\n",
    "plt.imshow(labels_[number][...,::-1]/255)\n",
    "plt.show()\n",
    "\n"
   ]
  },
  {
   "cell_type": "code",
   "execution_count": null,
   "metadata": {
    "collapsed": true
   },
   "outputs": [],
   "source": []
  }
 ],
 "metadata": {
  "kernelspec": {
   "display_name": "Python 3",
   "language": "python",
   "name": "python3"
  },
  "language_info": {
   "codemirror_mode": {
    "name": "ipython",
    "version": 3
   },
   "file_extension": ".py",
   "mimetype": "text/x-python",
   "name": "python",
   "nbconvert_exporter": "python",
   "pygments_lexer": "ipython3",
   "version": "3.5.3"
  }
 },
 "nbformat": 4,
 "nbformat_minor": 1
}
