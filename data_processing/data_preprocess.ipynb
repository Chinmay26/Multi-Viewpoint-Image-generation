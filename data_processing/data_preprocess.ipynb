{
 "cells": [
  {
   "cell_type": "code",
   "execution_count": 1,
   "metadata": {
    "collapsed": true
   },
   "outputs": [],
   "source": [
    "%matplotlib inline\n",
    "import matplotlib\n"
   ]
  },
  {
   "cell_type": "code",
   "execution_count": 2,
   "metadata": {
    "collapsed": true
   },
   "outputs": [],
   "source": [
    "import tensorflow as tf\n",
    "import numpy as np\n",
    "import matplotlib.pyplot as plt\n",
    "from scipy import misc\n",
    "from scipy import ndimage\n",
    "import os\n",
    "from matplotlib.pyplot import imshow\n",
    "import matplotlib.image as mpimg\n",
    "from sklearn.utils import shuffle\n"
   ]
  },
  {
   "cell_type": "code",
   "execution_count": 3,
   "metadata": {},
   "outputs": [],
   "source": [
    "\n",
    "# Make car_ directory before running this scrpit \n",
    "\n",
    "def get_train(data, pairs_per_model):\n",
    "    W,H,C = 64,64,3\n",
    "    images_per_model = 36\n",
    "    pose_W, pose_H, pose_D = 8,8,36\n",
    "\n",
    "    total_models = int(data.shape[0] / images_per_model)\n",
    "    print(total_models)\n",
    "    data_train = np.zeros((total_models * pairs_per_model, W,H,C))\n",
    "    \n",
    "    data_ = np.zeros((total_models * pairs_per_model,W,H,C))\n",
    "    labels_ = np.zeros((total_models * pairs_per_model,W,H,C))\n",
    "    pose = np.zeros((total_models * pairs_per_model,pose_W,pose_H,pose_D))\n",
    "    \n",
    "    for cnt in range(total_models ):\n",
    "        tmp_data = np.zeros((images_per_model * images_per_model,W,H,C))\n",
    "        tmp_labels = np.zeros((images_per_model * images_per_model,W,H,C))\n",
    "        tmp_pose = np.zeros((images_per_model * images_per_model, pose_W,pose_H,pose_D))\n",
    "        for i in range(images_per_model):\n",
    "            for j in range(images_per_model):\n",
    "                num = (j-i) % images_per_model\n",
    "                pose_tmp = np.zeros(images_per_model)\n",
    "                pose_tmp[num] = 1\n",
    "                tmp_pose[i*images_per_model + j] = np.broadcast_to(pose_tmp,(pose_W,pose_H,pose_D))\n",
    "                tmp_data[i*images_per_model + j] = data[cnt*images_per_model + i]\n",
    "                tmp_labels[i*images_per_model + j] = data[cnt *images_per_model + j]         \n",
    "        rand_nums = np.random.randint(0,images_per_model * images_per_model - 1,pairs_per_model)\n",
    "        data_[cnt*pairs_per_model : (cnt+1)*pairs_per_model] = tmp_data[rand_nums]\n",
    "        labels_[cnt*pairs_per_model : (cnt+1)*pairs_per_model] = tmp_labels[rand_nums]\n",
    "        pose[cnt*pairs_per_model : (cnt+1)*pairs_per_model] = tmp_pose[rand_nums]\n",
    "        \n",
    "    data_, labels_, pose = shuffle(data_, labels_, pose, random_state=0)\n",
    "    return data_, labels_, pose\n",
    "\n",
    "\n",
    "def save_data(data_, labels_, pose_, dir_name):\n",
    "    print (dir_name)\n",
    "    os.mkdir(dir_name)\n",
    "    datafile = os.path.join(dir_name,\"data.npy\")\n",
    "    np.save(datafile, data_)\n",
    "    posefile = os.path.join(dir_name,\"pose.npy\")\n",
    "    np.save(posefile, pose_)\n",
    "    labelfile = os.path.join(dir_name,\"label.npy\")\n",
    "    np.save(labelfile, labels_)"
   ]
  },
  {
   "cell_type": "code",
   "execution_count": 4,
   "metadata": {},
   "outputs": [
    {
     "name": "stdout",
     "output_type": "stream",
     "text": [
      "loading data\n"
     ]
    }
   ],
   "source": [
    "#load data\n",
    "print (\"loading data\")\n",
    "#iterate over directory and get all png images\\n\n",
    "#imageset = np.empty((7704,64,64,3), dtype='float32')\n",
    "rootdir = '/home/chsarath/kaushal_project/car/3dw'\n",
    "target_dir = '/home/chsarath/kaushal_project/car_'\n",
    "\n",
    "\n",
    "def get_image_data(root_dir, target_dir):\n",
    "    cnt = 0\n",
    "    total_cnt = 0\n",
    "    folder_cnt = 50\n",
    "    cur_sub_dir = 1\n",
    "    img_data = np.zeros((36*folder_cnt,64,64,3))\n",
    "    \n",
    "    for subdir, dirs, files in os.walk(root_dir):\n",
    "        for file in files:\n",
    "            filepath = subdir + os.sep + file\n",
    "            if filepath.endswith('.png'):\n",
    "                #print('check')\n",
    "                if cnt == 36:\n",
    "                    cnt = 0\n",
    "                    total_cnt += 1\n",
    "                    if total_cnt == folder_cnt:\n",
    "                        total_cnt = 0\n",
    "                        sub_dir_name = target_dir + '/batch_' + str(cur_sub_dir)\n",
    "                        cur_sub_dir += 1\n",
    "                        data_, labels_, pose_ = get_train(img_data, 100)\n",
    "                        save_data(data_, labels_, pose_, sub_dir_name)\n",
    "                        img_data.fill(0) \n",
    "                cnt += 1\n",
    "                seq_number = int(filepath.split('-')[-1].split('.')[0])\n",
    "                img_data[total_cnt*36 + seq_number] = misc.imread(filepath).astype(np.float32)\n",
    "                #plt.imshow(cur_model[seq_number]/255)\n",
    "                #plt.show()\n",
    "    return\n"
   ]
  },
  {
   "cell_type": "code",
   "execution_count": null,
   "metadata": {},
   "outputs": [
    {
     "name": "stdout",
     "output_type": "stream",
     "text": [
      "50\n",
      "/home/chsarath/kaushal_project/car_/batch_1\n",
      "50\n",
      "/home/chsarath/kaushal_project/car_/batch_2\n",
      "50\n",
      "/home/chsarath/kaushal_project/car_/batch_3\n",
      "50\n",
      "/home/chsarath/kaushal_project/car_/batch_4\n",
      "50\n",
      "/home/chsarath/kaushal_project/car_/batch_5\n",
      "50\n",
      "/home/chsarath/kaushal_project/car_/batch_6\n",
      "50\n",
      "/home/chsarath/kaushal_project/car_/batch_7\n",
      "50\n",
      "/home/chsarath/kaushal_project/car_/batch_8\n",
      "50\n",
      "/home/chsarath/kaushal_project/car_/batch_9\n",
      "50\n",
      "/home/chsarath/kaushal_project/car_/batch_10\n",
      "50\n",
      "/home/chsarath/kaushal_project/car_/batch_11\n",
      "50\n",
      "/home/chsarath/kaushal_project/car_/batch_12\n",
      "50\n",
      "/home/chsarath/kaushal_project/car_/batch_13\n",
      "50\n",
      "/home/chsarath/kaushal_project/car_/batch_14\n",
      "50\n",
      "/home/chsarath/kaushal_project/car_/batch_15\n",
      "50\n",
      "/home/chsarath/kaushal_project/car_/batch_16\n",
      "50\n",
      "/home/chsarath/kaushal_project/car_/batch_17\n",
      "50\n",
      "/home/chsarath/kaushal_project/car_/batch_18\n",
      "50\n",
      "/home/chsarath/kaushal_project/car_/batch_19\n",
      "50\n",
      "/home/chsarath/kaushal_project/car_/batch_20\n",
      "50\n",
      "/home/chsarath/kaushal_project/car_/batch_21\n",
      "50\n",
      "/home/chsarath/kaushal_project/car_/batch_22\n",
      "50\n",
      "/home/chsarath/kaushal_project/car_/batch_23\n",
      "50\n",
      "/home/chsarath/kaushal_project/car_/batch_24\n",
      "50\n",
      "/home/chsarath/kaushal_project/car_/batch_25\n",
      "50\n",
      "/home/chsarath/kaushal_project/car_/batch_26\n"
     ]
    }
   ],
   "source": [
    "\n",
    "get_image_data(rootdir, target_dir)\n"
   ]
  },
  {
   "cell_type": "code",
   "execution_count": 18,
   "metadata": {},
   "outputs": [],
   "source": [
    "dir = '/home/chsarath/kaushal_project/car_/batch_1'\n",
    "\n",
    "data = np.load(dir+'/'+'data.npy')\n",
    "labels = np.load(dir+'/'+'label.npy')\n",
    "pose = np.load(dir+'/'+'pose.npy')\n"
   ]
  },
  {
   "cell_type": "code",
   "execution_count": 28,
   "metadata": {},
   "outputs": [
    {
     "name": "stdout",
     "output_type": "stream",
     "text": [
      "[ 0.  0.  0.  0.  0.  0.  0.  0.  0.  0.  1.  0.  0.  0.  0.  0.  0.  0.\n",
      "  0.  0.  0.  0.  0.  0.  0.  0.  0.  0.  0.  0.  0.  0.  0.  0.  0.  0.]\n"
     ]
    },
    {
     "data": {
      "image/png": "[encoded data removed]",
      "text/plain": [
       "<matplotlib.figure.Figure at 0x7f8c74f669e8>"
      ]
     },
     "metadata": {},
     "output_type": "display_data"
    }
   ],
   "source": []
  },
  {
   "cell_type": "code",
   "execution_count": null,
   "metadata": {
    "collapsed": true
   },
   "outputs": [],
   "source": []
  }
 ],
 "metadata": {
  "kernelspec": {
   "display_name": "Python 3",
   "language": "python",
   "name": "python3"
  },
  "language_info": {
   "codemirror_mode": {
    "name": "ipython",
    "version": 3
   },
   "file_extension": ".py",
   "mimetype": "text/x-python",
   "name": "python",
   "nbconvert_exporter": "python",
   "pygments_lexer": "ipython3",
   "version": "3.6.2"
  }
 },
 "nbformat": 4,
 "nbformat_minor": 2
}
