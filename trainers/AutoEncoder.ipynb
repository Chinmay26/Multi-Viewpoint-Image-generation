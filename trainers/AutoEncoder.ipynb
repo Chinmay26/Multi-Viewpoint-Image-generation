{
 "cells": [
  {
   "cell_type": "code",
   "execution_count": 18,
   "metadata": {
    "collapsed": true
   },
   "outputs": [],
   "source": [
    "%matplotlib inline\n",
    "import matplotlib\n"
   ]
  },
  {
   "cell_type": "code",
   "execution_count": 19,
   "metadata": {
    "collapsed": false
   },
   "outputs": [],
   "source": [
    "\n",
    "import tensorflow as tf\n",
    "import numpy as np\n",
    "import matplotlib.pyplot as plt\n",
    "import scipy.misc\n",
    "import os\n",
    "from matplotlib.pyplot import imshow\n",
    "import matplotlib.image as mpimg\n"
   ]
  },
  {
   "cell_type": "code",
   "execution_count": 20,
   "metadata": {
    "collapsed": false
   },
   "outputs": [
    {
     "name": "stdout",
     "output_type": "stream",
     "text": [
      "loading data\n",
      "loading done\n"
     ]
    }
   ],
   "source": [
    "#load data\n",
    "print \"loading data\"\n",
    "#iterate over directory and get all png images\\n\n",
    "imageset = np.zeros((7704,64,64,3))\n",
    "\n",
    "#There are 7704 images in the dataset.\n",
    "#214 folders. Each having 36 images.\n",
    "rootdir = '/home/chsarath/kaushal_project/mug/models/3dw'\n",
    "cnt = 0\n",
    "total_cnt = 0\n",
    "\n",
    "for subdir, dirs, files in os.walk(rootdir):\n",
    "    for file in files:\n",
    "        filepath = subdir + os.sep + file\n",
    "        if filepath.endswith('.png'):\n",
    "            if cnt == 36:\n",
    "                cnt = 0\n",
    "                total_cnt += 1\n",
    "            cnt += 1\n",
    "            seq_number = int(filepath.split('-')[-1].split('.')[0])\n",
    "            \n",
    "            imageset[total_cnt*36 + seq_number] = scipy.misc.imread(filepath)\n",
    "            \n",
    "print 'loading done'"
   ]
  },
  {
   "cell_type": "code",
   "execution_count": 21,
   "metadata": {
    "collapsed": false
   },
   "outputs": [
    {
     "name": "stdout",
     "output_type": "stream",
     "text": [
      "(64, 64, 3)\n"
     ]
    },
    {
     "data": {
      "image/png": "[encoded data removed]",
      "text/plain": [
       "<matplotlib.figure.Figure at 0x7f634c332890>"
      ]
     },
     "metadata": {},
     "output_type": "display_data"
    }
   ],
   "source": [
    "#this part is to visulize image\n",
    "tmp = imageset[6920][...,::-1]\n",
    "print tmp.shape\n",
    "plt.imshow(tmp)\n",
    "plt.show()"
   ]
  },
  {
   "cell_type": "code",
   "execution_count": 22,
   "metadata": {
    "collapsed": false
   },
   "outputs": [
    {
     "data": {
      "image/png": "[encoded data removed]",
      "text/plain": [
       "<matplotlib.figure.Figure at 0x7f63da1db7d0>"
      ]
     },
     "metadata": {},
     "output_type": "display_data"
    },
    {
     "data": {
      "image/png": "[encoded data removed]",
      "text/plain": [
       "<matplotlib.figure.Figure at 0x7f63b638dcd0>"
      ]
     },
     "metadata": {},
     "output_type": "display_data"
    }
   ],
   "source": [
    "#First 170 folders. 170*36 = 6120 images would be used for training\n",
    "# rest 46 folders would be used for testing\n",
    "\n",
    "data_train = np.array(imageset[:6120])\n",
    "data_test = np.array(imageset[6120:])\n",
    "\n",
    "\n",
    "#This code will generate labels for the dataset\n",
    "\n",
    "# For current image label is the next image (image with 10 degree rotation)\n",
    "# For last image in the set (36th image) label would be first image\n",
    "\n",
    "train_labels = np.zeros(data_train.shape)\n",
    "test_labels = np.zeros(data_test.shape)\n",
    "\n",
    "for cnt in range(170):\n",
    "    train_labels[cnt*36:(cnt+1)*36] = np.roll(data_train[cnt*36:(cnt+1)*36], 1, axis=0)\n",
    "\n",
    "for cnt in range(46):\n",
    "    test_labels[cnt*36:(cnt+1)*36] = np.roll(data_test[cnt*36:(cnt+1)*36], 1, axis=0)\n",
    "\n",
    "\n",
    "#tmp = data_test[600]\n",
    "tmp = data_train[35]\n",
    "tmp1 = test_labels[555][...,::-1]\n",
    "\n",
    "\n",
    "plt.imshow(tmp)\n",
    "plt.show()\n",
    "plt.imshow(tmp1)\n",
    "plt.show()\n"
   ]
  },
  {
   "cell_type": "code",
   "execution_count": 23,
   "metadata": {
    "collapsed": true
   },
   "outputs": [],
   "source": [
    "#normalize data\n",
    "\n",
    "\n",
    "mean_image = np.mean(data_train, axis=0)\n",
    "max_image = np.amax(data_train, axis=0)\n",
    "\n",
    "data_train -= mean_image\n",
    "data_train /= max_image\n",
    "\n",
    "data_test -= mean_image\n",
    "data_test /= max_image\n",
    "\n",
    "\n",
    "mean_labels = np.mean(train_labels, axis=0)\n",
    "max_labels = np.amax(train_labels, axis=0)\n",
    "\n",
    "train_labels -= mean_labels\n",
    "train_labels /= max_labels\n",
    "\n",
    "test_labels -= mean_labels\n",
    "test_labels /= max_labels\n",
    "\n",
    "tmp = np.array(data_test[800])\n",
    "#tmp1 = train_labels[35]\n",
    "\n",
    "# tmp *= max_labels\n",
    "# tmp += mean_labels\n",
    "\n",
    "# plt.imshow(tmp)\n",
    "# plt.show()\n"
   ]
  },
  {
   "cell_type": "code",
   "execution_count": 28,
   "metadata": {
    "collapsed": true
   },
   "outputs": [],
   "source": [
    "tf.reset_default_graph()\n",
    "#to Reset Tensor Flow Graph"
   ]
  },
  {
   "cell_type": "code",
   "execution_count": 29,
   "metadata": {
    "collapsed": true
   },
   "outputs": [],
   "source": [
    "#defination of my layers\n",
    "\n",
    "def conv2d(input, kernel_size, stride, num_filter):\n",
    "    stride_shape = [1, stride, stride, 1]\n",
    "    filter_shape = [kernel_size, kernel_size, input.get_shape()[3], num_filter]\n",
    "\n",
    "    W = tf.get_variable('w', filter_shape, tf.float32, tf.random_normal_initializer(0.0, 0.02))\n",
    "    b = tf.get_variable('b', [1, 1, 1, num_filter], initializer=tf.constant_initializer(0.0))\n",
    "    return tf.nn.conv2d(input, W, stride_shape, padding='SAME') + b\n",
    "\n",
    "def max_pool(input, kernel_size, stride):\n",
    "    ksize = [1, kernel_size, kernel_size, 1]\n",
    "    strides = [1, stride, stride, 1]\n",
    "    return tf.nn.max_pool(input, ksize=ksize, strides=strides, padding='SAME')\n",
    "\n",
    "def deconv2d(input, kernel_size, stride, num_filter):\n",
    "    filter_shape = [kernel_size, kernel_size, num_filter, input.get_shape()[3]]\n",
    "    # tf.constant([input.get_shape()[0], input.get_shape()[1]*2, input.get_shape()[1]*2, num_filter], tf.int32)\n",
    "    input_dim = input.get_shape().as_list()\n",
    "    batch_size = input_dim[0]\n",
    "    w = input_dim[1]\n",
    "#     print type(input_dim)\n",
    "#     print input_dim\n",
    "    print batch_size\n",
    "    print w\n",
    "    print num_filter\n",
    "    print type(num_filter)\n",
    "    print type(w)\n",
    "    out_shape = tf.stack([batch_size, w*2, w*2, num_filter])    \n",
    "\n",
    "    stride_shape = [1, stride, stride, 1]\n",
    "    W = tf.get_variable('w', filter_shape, tf.float32, tf.random_normal_initializer(0.0, 0.02))\n",
    "    \n",
    "    return tf.nn.conv2d_transpose(input, W, out_shape, stride_shape)"
   ]
  },
  {
   "cell_type": "code",
   "execution_count": 30,
   "metadata": {
    "collapsed": true
   },
   "outputs": [],
   "source": [
    "\n",
    "# Network Parameters\n",
    "\n",
    "#Encoder\n",
    "# input is 64 * 64 * 3 \n",
    "# batch_size is 72\n",
    "\n",
    "\n",
    "# tf Graph input (only pictures)\n",
    "\n",
    "inputs_ = tf.placeholder(tf.float32, (72, 64,64,3), name=\"input\")\n",
    "targets_ = tf.placeholder(tf.float32, (72, 64,64,3), name=\"target\")"
   ]
  },
  {
   "cell_type": "code",
   "execution_count": 31,
   "metadata": {
    "collapsed": false
   },
   "outputs": [
    {
     "name": "stdout",
     "output_type": "stream",
     "text": [
      "72\n",
      "8\n",
      "32\n",
      "<type 'int'>\n",
      "<type 'int'>\n",
      "[72, 16, 16, 32]\n",
      "72\n",
      "16\n",
      "16\n",
      "<type 'int'>\n",
      "<type 'int'>\n",
      "[72, 32, 32, 16]\n",
      "72\n",
      "32\n",
      "3\n",
      "<type 'int'>\n",
      "<type 'int'>\n",
      "[72, 64, 64, 3]\n"
     ]
    }
   ],
   "source": [
    "# Building the encoder\n",
    "#Layer Architecture\n",
    "# Encoder will have Conv + relu + Max pool + Conv + relu  + Max pool + Conv + relu  + Max pool\n",
    "# After 3 Convolution ,we will have a latent space\n",
    "\n",
    "with tf.variable_scope('conv1'):\n",
    "    conv1 = conv2d(inputs_, 3, 2, 16)\n",
    "    tanh1 = tf.nn.relu(conv1)\n",
    "    #pool1 = max_pool(tanh1, 3, 2)\n",
    "\n",
    "# Size of pool1 would be 32*32*32\n",
    "\n",
    "with tf.variable_scope('conv2'):\n",
    "    conv2 = conv2d(tanh1, 3, 2, 32)\n",
    "    tanh2 = tf.nn.relu(conv2)\n",
    "    #pool2 = max_pool(tanh2, 3, 2)\n",
    "\n",
    "# # Size of pool2 would be 16*16*16\n",
    "\n",
    "with tf.variable_scope('conv3'):\n",
    "    conv3 = conv2d(tanh2, 3, 2, 64)\n",
    "    tanh3 = tf.nn.relu(conv3)\n",
    "    #pool3 = max_pool(tanh3, 3, 2)\n",
    "\n",
    "# # Latent space is 8*8*8\n",
    "# print pool3.get_shape().as_list()\n",
    "# #Building the decoder\n",
    "\n",
    "with tf.variable_scope('deconv1'):\n",
    "    deconv1 = deconv2d(tanh3, 3, 2, 32)\n",
    "    tanh4 = tf.nn.relu(deconv1)\n",
    "\n",
    "print tanh4.get_shape().as_list()\n",
    "with tf.variable_scope('deconv2'):\n",
    "    deconv2 = deconv2d(tanh4, 3, 2, 16)\n",
    "    tanh5 = tf.nn.relu(deconv2)\n",
    "print tanh5.get_shape().as_list()\n",
    "\n",
    "with tf.variable_scope('deconv3'):\n",
    "    deconv3 = deconv2d(tanh5, 3, 2, 3)\n",
    "    tanh6 = tf.nn.tanh(deconv3)\n",
    "\n",
    "print tanh6.get_shape().as_list()\n"
   ]
  },
  {
   "cell_type": "code",
   "execution_count": 32,
   "metadata": {
    "collapsed": true
   },
   "outputs": [],
   "source": [
    "\n",
    "#calculate loss\n",
    "loss_op = tf.reduce_mean(abs(tanh6 - targets_))\n",
    "\n",
    "#Optimizer\n",
    "global_step = tf.Variable(0,trainable=False)\n",
    "lr = tf.train.exponential_decay(5e-4, global_step, 1000, 0.96, staircase=True)\n",
    "optimizer = tf.train.AdamOptimizer(lr)\n",
    "train_op = optimizer.minimize(loss=loss_op)\n",
    "\n"
   ]
  },
  {
   "cell_type": "code",
   "execution_count": 33,
   "metadata": {
    "collapsed": false
   },
   "outputs": [
    {
     "name": "stdout",
     "output_type": "stream",
     "text": [
      "('Epoch: 1/5...', 'Training loss: 0.1582')\n",
      "('Epoch: 1/5...', 'Training loss: 0.1609')\n",
      "('Epoch: 1/5...', 'Training loss: 0.1806')\n",
      "('Epoch: 1/5...', 'Training loss: 0.1478')\n",
      "('Epoch: 1/5...', 'Training loss: 0.1469')\n",
      "('Epoch: 1/5...', 'Training loss: 0.1956')\n",
      "('Epoch: 1/5...', 'Training loss: 0.2058')\n",
      "('Epoch: 1/5...', 'Training loss: 0.1888')\n",
      "('Epoch: 1/5...', 'Training loss: 0.2336')\n",
      "('Epoch: 1/5...', 'Training loss: 0.1919')\n",
      "('Epoch: 1/5...', 'Training loss: 0.1727')\n",
      "('Epoch: 1/5...', 'Training loss: 0.1704')\n",
      "('Epoch: 1/5...', 'Training loss: 0.2076')\n",
      "('Epoch: 1/5...', 'Training loss: 0.1756')\n",
      "('Epoch: 1/5...', 'Training loss: 0.2375')\n",
      "('Epoch: 1/5...', 'Training loss: 0.2179')\n",
      "('Epoch: 1/5...', 'Training loss: 0.1583')\n",
      "('Epoch: 1/5...', 'Training loss: 0.1854')\n",
      "('Epoch: 1/5...', 'Training loss: 0.1918')\n",
      "('Epoch: 1/5...', 'Training loss: 0.1960')\n",
      "('Epoch: 1/5...', 'Training loss: 0.1815')\n",
      "('Epoch: 1/5...', 'Training loss: 0.1766')\n",
      "('Epoch: 1/5...', 'Training loss: 0.1537')\n",
      "('Epoch: 1/5...', 'Training loss: 0.1741')\n",
      "('Epoch: 1/5...', 'Training loss: 0.1562')\n",
      "('Epoch: 1/5...', 'Training loss: 0.2302')\n",
      "('Epoch: 1/5...', 'Training loss: 0.1749')\n",
      "('Epoch: 1/5...', 'Training loss: 0.1607')\n",
      "('Epoch: 1/5...', 'Training loss: 0.1647')\n",
      "('Epoch: 1/5...', 'Training loss: 0.1921')\n",
      "('Epoch: 1/5...', 'Training loss: 0.1922')\n",
      "('Epoch: 1/5...', 'Training loss: 0.1601')\n",
      "('Epoch: 1/5...', 'Training loss: 0.1653')\n",
      "('Epoch: 1/5...', 'Training loss: 0.1828')\n",
      "('Epoch: 1/5...', 'Training loss: 0.1643')\n",
      "('Epoch: 1/5...', 'Training loss: 0.2116')\n",
      "('Epoch: 1/5...', 'Training loss: 0.1757')\n",
      "('Epoch: 1/5...', 'Training loss: 0.1804')\n",
      "('Epoch: 1/5...', 'Training loss: 0.1595')\n",
      "('Epoch: 1/5...', 'Training loss: 0.2031')\n",
      "('Epoch: 1/5...', 'Training loss: 0.1836')\n",
      "('Epoch: 1/5...', 'Training loss: 0.1902')\n",
      "('Epoch: 1/5...', 'Training loss: 0.1410')\n",
      "('Epoch: 1/5...', 'Training loss: 0.2194')\n",
      "('Epoch: 1/5...', 'Training loss: 0.1957')\n",
      "('Epoch: 1/5...', 'Training loss: 0.1629')\n",
      "('Epoch: 1/5...', 'Training loss: 0.1938')\n",
      "('Epoch: 1/5...', 'Training loss: 0.1745')\n",
      "('Epoch: 1/5...', 'Training loss: 0.1957')\n",
      "('Epoch: 1/5...', 'Training loss: 0.1991')\n",
      "('Epoch: 1/5...', 'Training loss: 0.1408')\n",
      "('Epoch: 1/5...', 'Training loss: 0.1496')\n",
      "('Epoch: 1/5...', 'Training loss: 0.1425')\n",
      "('Epoch: 1/5...', 'Training loss: 0.1298')\n",
      "('Epoch: 1/5...', 'Training loss: 0.1271')\n",
      "('Epoch: 1/5...', 'Training loss: 0.1738')\n",
      "('Epoch: 1/5...', 'Training loss: 0.1552')\n",
      "('Epoch: 1/5...', 'Training loss: 0.1722')\n",
      "('Epoch: 1/5...', 'Training loss: 0.1120')\n",
      "('Epoch: 1/5...', 'Training loss: 0.1338')\n",
      "('Epoch: 1/5...', 'Training loss: 0.1398')\n",
      "('Epoch: 1/5...', 'Training loss: 0.1669')\n",
      "('Epoch: 1/5...', 'Training loss: 0.1734')\n",
      "('Epoch: 1/5...', 'Training loss: 0.1531')\n",
      "('Epoch: 1/5...', 'Training loss: 0.1187')\n",
      "('Epoch: 1/5...', 'Training loss: 0.1349')\n",
      "('Epoch: 1/5...', 'Training loss: 0.1652')\n",
      "('Epoch: 1/5...', 'Training loss: 0.1045')\n",
      "('Epoch: 1/5...', 'Training loss: 0.1128')\n",
      "('Epoch: 1/5...', 'Training loss: 0.1532')\n",
      "('Epoch: 1/5...', 'Training loss: 0.1535')\n",
      "('Epoch: 1/5...', 'Training loss: 0.1106')\n",
      "('Epoch: 1/5...', 'Training loss: 0.1471')\n",
      "('Epoch: 1/5...', 'Training loss: 0.1258')\n",
      "('Epoch: 1/5...', 'Training loss: 0.1314')\n",
      "('Epoch: 1/5...', 'Training loss: 0.0940')\n",
      "('Epoch: 1/5...', 'Training loss: 0.0996')\n",
      "('Epoch: 1/5...', 'Training loss: 0.1526')\n",
      "('Epoch: 1/5...', 'Training loss: 0.1201')\n",
      "('Epoch: 1/5...', 'Training loss: 0.0899')\n",
      "('Epoch: 1/5...', 'Training loss: 0.1182')\n",
      "('Epoch: 1/5...', 'Training loss: 0.0972')\n",
      "('Epoch: 1/5...', 'Training loss: 0.1218')\n",
      "('Epoch: 1/5...', 'Training loss: 0.0926')\n",
      "('Epoch: 1/5...', 'Training loss: 0.1159')\n",
      "('Epoch: 2/5...', 'Training loss: 0.0993')\n",
      "('Epoch: 2/5...', 'Training loss: 0.1114')\n",
      "('Epoch: 2/5...', 'Training loss: 0.0932')\n",
      "('Epoch: 2/5...', 'Training loss: 0.0941')\n",
      "('Epoch: 2/5...', 'Training loss: 0.0959')\n",
      "('Epoch: 2/5...', 'Training loss: 0.0929')\n",
      "('Epoch: 2/5...', 'Training loss: 0.1207')\n",
      "('Epoch: 2/5...', 'Training loss: 0.1135')\n",
      "('Epoch: 2/5...', 'Training loss: 0.1216')\n",
      "('Epoch: 2/5...', 'Training loss: 0.1111')\n",
      "('Epoch: 2/5...', 'Training loss: 0.1158')\n",
      "('Epoch: 2/5...', 'Training loss: 0.1000')\n",
      "('Epoch: 2/5...', 'Training loss: 0.1086')\n",
      "('Epoch: 2/5...', 'Training loss: 0.0851')\n",
      "('Epoch: 2/5...', 'Training loss: 0.1575')\n",
      "('Epoch: 2/5...', 'Training loss: 0.0992')\n",
      "('Epoch: 2/5...', 'Training loss: 0.0977')\n",
      "('Epoch: 2/5...', 'Training loss: 0.0878')\n",
      "('Epoch: 2/5...', 'Training loss: 0.0955')\n",
      "('Epoch: 2/5...', 'Training loss: 0.0888')\n",
      "('Epoch: 2/5...', 'Training loss: 0.0867')\n",
      "('Epoch: 2/5...', 'Training loss: 0.0767')\n",
      "('Epoch: 2/5...', 'Training loss: 0.0873')\n",
      "('Epoch: 2/5...', 'Training loss: 0.1017')\n",
      "('Epoch: 2/5...', 'Training loss: 0.0878')\n",
      "('Epoch: 2/5...', 'Training loss: 0.1307')\n",
      "('Epoch: 2/5...', 'Training loss: 0.0935')\n",
      "('Epoch: 2/5...', 'Training loss: 0.0899')\n",
      "('Epoch: 2/5...', 'Training loss: 0.0752')\n",
      "('Epoch: 2/5...', 'Training loss: 0.1125')\n",
      "('Epoch: 2/5...', 'Training loss: 0.0869')\n",
      "('Epoch: 2/5...', 'Training loss: 0.0926')\n",
      "('Epoch: 2/5...', 'Training loss: 0.0867')\n",
      "('Epoch: 2/5...', 'Training loss: 0.1093')\n",
      "('Epoch: 2/5...', 'Training loss: 0.1074')\n",
      "('Epoch: 2/5...', 'Training loss: 0.1009')\n",
      "('Epoch: 2/5...', 'Training loss: 0.0958')\n",
      "('Epoch: 2/5...', 'Training loss: 0.1203')\n",
      "('Epoch: 2/5...', 'Training loss: 0.0863')\n",
      "('Epoch: 2/5...', 'Training loss: 0.1049')\n",
      "('Epoch: 2/5...', 'Training loss: 0.1069')\n",
      "('Epoch: 2/5...', 'Training loss: 0.1067')\n",
      "('Epoch: 2/5...', 'Training loss: 0.0764')\n",
      "('Epoch: 2/5...', 'Training loss: 0.1089')\n",
      "('Epoch: 2/5...', 'Training loss: 0.1189')\n",
      "('Epoch: 2/5...', 'Training loss: 0.1031')\n",
      "('Epoch: 2/5...', 'Training loss: 0.0996')\n",
      "('Epoch: 2/5...', 'Training loss: 0.1009')\n",
      "('Epoch: 2/5...', 'Training loss: 0.1115')\n",
      "('Epoch: 2/5...', 'Training loss: 0.0974')\n",
      "('Epoch: 2/5...', 'Training loss: 0.0834')\n",
      "('Epoch: 2/5...', 'Training loss: 0.0889')\n",
      "('Epoch: 2/5...', 'Training loss: 0.0909')\n",
      "('Epoch: 2/5...', 'Training loss: 0.0774')\n",
      "('Epoch: 2/5...', 'Training loss: 0.0889')\n",
      "('Epoch: 2/5...', 'Training loss: 0.1146')\n",
      "('Epoch: 2/5...', 'Training loss: 0.1052')\n",
      "('Epoch: 2/5...', 'Training loss: 0.0958')\n",
      "('Epoch: 2/5...', 'Training loss: 0.0705')\n",
      "('Epoch: 2/5...', 'Training loss: 0.0940')\n",
      "('Epoch: 2/5...', 'Training loss: 0.0880')\n",
      "('Epoch: 2/5...', 'Training loss: 0.0934')\n",
      "('Epoch: 2/5...', 'Training loss: 0.0952')\n",
      "('Epoch: 2/5...', 'Training loss: 0.0943')\n",
      "('Epoch: 2/5...', 'Training loss: 0.0743')\n",
      "('Epoch: 2/5...', 'Training loss: 0.0998')\n",
      "('Epoch: 2/5...', 'Training loss: 0.1058')\n",
      "('Epoch: 2/5...', 'Training loss: 0.0709')\n",
      "('Epoch: 2/5...', 'Training loss: 0.0831')\n",
      "('Epoch: 2/5...', 'Training loss: 0.0980')\n",
      "('Epoch: 2/5...', 'Training loss: 0.1020')\n",
      "('Epoch: 2/5...', 'Training loss: 0.0774')\n",
      "('Epoch: 2/5...', 'Training loss: 0.1110')\n",
      "('Epoch: 2/5...', 'Training loss: 0.0885')\n",
      "('Epoch: 2/5...', 'Training loss: 0.0932')\n",
      "('Epoch: 2/5...', 'Training loss: 0.0766')\n",
      "('Epoch: 2/5...', 'Training loss: 0.0731')\n",
      "('Epoch: 2/5...', 'Training loss: 0.1154')\n",
      "('Epoch: 2/5...', 'Training loss: 0.0886')\n",
      "('Epoch: 2/5...', 'Training loss: 0.0688')\n",
      "('Epoch: 2/5...', 'Training loss: 0.0964')\n",
      "('Epoch: 2/5...', 'Training loss: 0.0784')\n",
      "('Epoch: 2/5...', 'Training loss: 0.0888')\n",
      "('Epoch: 2/5...', 'Training loss: 0.0732')\n",
      "('Epoch: 2/5...', 'Training loss: 0.0907')\n",
      "('Epoch: 3/5...', 'Training loss: 0.0823')\n",
      "('Epoch: 3/5...', 'Training loss: 0.0884')\n",
      "('Epoch: 3/5...', 'Training loss: 0.0781')\n",
      "('Epoch: 3/5...', 'Training loss: 0.0701')\n",
      "('Epoch: 3/5...', 'Training loss: 0.0736')\n",
      "('Epoch: 3/5...', 'Training loss: 0.0694')\n",
      "('Epoch: 3/5...', 'Training loss: 0.0905')\n",
      "('Epoch: 3/5...', 'Training loss: 0.0892')\n",
      "('Epoch: 3/5...', 'Training loss: 0.0932')\n",
      "('Epoch: 3/5...', 'Training loss: 0.0855')\n",
      "('Epoch: 3/5...', 'Training loss: 0.1019')\n",
      "('Epoch: 3/5...', 'Training loss: 0.0842')\n",
      "('Epoch: 3/5...', 'Training loss: 0.0933')\n",
      "('Epoch: 3/5...', 'Training loss: 0.0706')\n",
      "('Epoch: 3/5...', 'Training loss: 0.1365')\n",
      "('Epoch: 3/5...', 'Training loss: 0.0880')\n",
      "('Epoch: 3/5...', 'Training loss: 0.0867')\n",
      "('Epoch: 3/5...', 'Training loss: 0.0774')\n",
      "('Epoch: 3/5...', 'Training loss: 0.0835')\n",
      "('Epoch: 3/5...', 'Training loss: 0.0748')\n",
      "('Epoch: 3/5...', 'Training loss: 0.0773')\n",
      "('Epoch: 3/5...', 'Training loss: 0.0667')\n",
      "('Epoch: 3/5...', 'Training loss: 0.0775')\n",
      "('Epoch: 3/5...', 'Training loss: 0.0878')\n",
      "('Epoch: 3/5...', 'Training loss: 0.0759')\n",
      "('Epoch: 3/5...', 'Training loss: 0.1197')\n",
      "('Epoch: 3/5...', 'Training loss: 0.0790')\n",
      "('Epoch: 3/5...', 'Training loss: 0.0821')\n",
      "('Epoch: 3/5...', 'Training loss: 0.0689')\n",
      "('Epoch: 3/5...', 'Training loss: 0.0967')\n",
      "('Epoch: 3/5...', 'Training loss: 0.0775')\n",
      "('Epoch: 3/5...', 'Training loss: 0.0840')\n",
      "('Epoch: 3/5...', 'Training loss: 0.0801')\n",
      "('Epoch: 3/5...', 'Training loss: 0.0974')\n",
      "('Epoch: 3/5...', 'Training loss: 0.0972')\n",
      "('Epoch: 3/5...', 'Training loss: 0.0887')\n",
      "('Epoch: 3/5...', 'Training loss: 0.0859')\n",
      "('Epoch: 3/5...', 'Training loss: 0.1108')\n",
      "('Epoch: 3/5...', 'Training loss: 0.0764')\n",
      "('Epoch: 3/5...', 'Training loss: 0.0918')\n",
      "('Epoch: 3/5...', 'Training loss: 0.0987')\n",
      "('Epoch: 3/5...', 'Training loss: 0.0956')\n",
      "('Epoch: 3/5...', 'Training loss: 0.0657')\n",
      "('Epoch: 3/5...', 'Training loss: 0.0952')\n",
      "('Epoch: 3/5...', 'Training loss: 0.1079')\n",
      "('Epoch: 3/5...', 'Training loss: 0.0941')\n",
      "('Epoch: 3/5...', 'Training loss: 0.0887')\n",
      "('Epoch: 3/5...', 'Training loss: 0.0913')\n",
      "('Epoch: 3/5...', 'Training loss: 0.1005')\n",
      "('Epoch: 3/5...', 'Training loss: 0.0828')\n",
      "('Epoch: 3/5...', 'Training loss: 0.0775')\n",
      "('Epoch: 3/5...', 'Training loss: 0.0822')\n",
      "('Epoch: 3/5...', 'Training loss: 0.0842')\n",
      "('Epoch: 3/5...', 'Training loss: 0.0688')\n",
      "('Epoch: 3/5...', 'Training loss: 0.0807')\n",
      "('Epoch: 3/5...', 'Training loss: 0.1060')\n",
      "('Epoch: 3/5...', 'Training loss: 0.0991')\n",
      "('Epoch: 3/5...', 'Training loss: 0.0885')\n",
      "('Epoch: 3/5...', 'Training loss: 0.0625')\n",
      "('Epoch: 3/5...', 'Training loss: 0.0868')\n",
      "('Epoch: 3/5...', 'Training loss: 0.0810')\n",
      "('Epoch: 3/5...', 'Training loss: 0.0878')\n",
      "('Epoch: 3/5...', 'Training loss: 0.0873')\n",
      "('Epoch: 3/5...', 'Training loss: 0.0863')\n",
      "('Epoch: 3/5...', 'Training loss: 0.0642')\n",
      "('Epoch: 3/5...', 'Training loss: 0.0936')\n",
      "('Epoch: 3/5...', 'Training loss: 0.1027')\n",
      "('Epoch: 3/5...', 'Training loss: 0.0643')\n",
      "('Epoch: 3/5...', 'Training loss: 0.0781')\n",
      "('Epoch: 3/5...', 'Training loss: 0.0924')\n",
      "('Epoch: 3/5...', 'Training loss: 0.0948')\n",
      "('Epoch: 3/5...', 'Training loss: 0.0723')\n",
      "('Epoch: 3/5...', 'Training loss: 0.1061')\n",
      "('Epoch: 3/5...', 'Training loss: 0.0831')\n",
      "('Epoch: 3/5...', 'Training loss: 0.0878')\n",
      "('Epoch: 3/5...', 'Training loss: 0.0744')\n",
      "('Epoch: 3/5...', 'Training loss: 0.0684')\n",
      "('Epoch: 3/5...', 'Training loss: 0.1097')\n",
      "('Epoch: 3/5...', 'Training loss: 0.0828')\n",
      "('Epoch: 3/5...', 'Training loss: 0.0641')\n",
      "('Epoch: 3/5...', 'Training loss: 0.0904')\n",
      "('Epoch: 3/5...', 'Training loss: 0.0739')\n",
      "('Epoch: 3/5...', 'Training loss: 0.0811')\n",
      "('Epoch: 3/5...', 'Training loss: 0.0684')\n",
      "('Epoch: 3/5...', 'Training loss: 0.0878')\n",
      "('Epoch: 4/5...', 'Training loss: 0.0761')\n",
      "('Epoch: 4/5...', 'Training loss: 0.0833')\n",
      "('Epoch: 4/5...', 'Training loss: 0.0738')\n",
      "('Epoch: 4/5...', 'Training loss: 0.0643')\n",
      "('Epoch: 4/5...', 'Training loss: 0.0671')\n",
      "('Epoch: 4/5...', 'Training loss: 0.0626')\n",
      "('Epoch: 4/5...', 'Training loss: 0.0842')\n",
      "('Epoch: 4/5...', 'Training loss: 0.0813')\n",
      "('Epoch: 4/5...', 'Training loss: 0.0803')\n",
      "('Epoch: 4/5...', 'Training loss: 0.0789')\n",
      "('Epoch: 4/5...', 'Training loss: 0.0966')\n",
      "('Epoch: 4/5...', 'Training loss: 0.0759')\n",
      "('Epoch: 4/5...', 'Training loss: 0.0844')\n",
      "('Epoch: 4/5...', 'Training loss: 0.0632')\n",
      "('Epoch: 4/5...', 'Training loss: 0.1325')\n",
      "('Epoch: 4/5...', 'Training loss: 0.0775')\n",
      "('Epoch: 4/5...', 'Training loss: 0.0798')\n",
      "('Epoch: 4/5...', 'Training loss: 0.0712')\n",
      "('Epoch: 4/5...', 'Training loss: 0.0761')\n",
      "('Epoch: 4/5...', 'Training loss: 0.0665')\n",
      "('Epoch: 4/5...', 'Training loss: 0.0729')\n",
      "('Epoch: 4/5...', 'Training loss: 0.0628')\n",
      "('Epoch: 4/5...', 'Training loss: 0.0723')\n",
      "('Epoch: 4/5...', 'Training loss: 0.0813')\n",
      "('Epoch: 4/5...', 'Training loss: 0.0692')\n",
      "('Epoch: 4/5...', 'Training loss: 0.1119')\n",
      "('Epoch: 4/5...', 'Training loss: 0.0709')\n",
      "('Epoch: 4/5...', 'Training loss: 0.0754')\n",
      "('Epoch: 4/5...', 'Training loss: 0.0634')\n",
      "('Epoch: 4/5...', 'Training loss: 0.0929')\n",
      "('Epoch: 4/5...', 'Training loss: 0.0722')\n",
      "('Epoch: 4/5...', 'Training loss: 0.0778')\n",
      "('Epoch: 4/5...', 'Training loss: 0.0732')\n",
      "('Epoch: 4/5...', 'Training loss: 0.0923')\n",
      "('Epoch: 4/5...', 'Training loss: 0.0923')\n",
      "('Epoch: 4/5...', 'Training loss: 0.0825')\n",
      "('Epoch: 4/5...', 'Training loss: 0.0826')\n",
      "('Epoch: 4/5...', 'Training loss: 0.1071')\n",
      "('Epoch: 4/5...', 'Training loss: 0.0719')\n",
      "('Epoch: 4/5...', 'Training loss: 0.0819')\n",
      "('Epoch: 4/5...', 'Training loss: 0.0944')\n",
      "('Epoch: 4/5...', 'Training loss: 0.0907')\n",
      "('Epoch: 4/5...', 'Training loss: 0.0612')\n",
      "('Epoch: 4/5...', 'Training loss: 0.0881')\n",
      "('Epoch: 4/5...', 'Training loss: 0.1028')\n",
      "('Epoch: 4/5...', 'Training loss: 0.0904')\n",
      "('Epoch: 4/5...', 'Training loss: 0.0832')\n",
      "('Epoch: 4/5...', 'Training loss: 0.0843')\n",
      "('Epoch: 4/5...', 'Training loss: 0.0935')\n",
      "('Epoch: 4/5...', 'Training loss: 0.0783')\n",
      "('Epoch: 4/5...', 'Training loss: 0.0756')\n",
      "('Epoch: 4/5...', 'Training loss: 0.0785')\n",
      "('Epoch: 4/5...', 'Training loss: 0.0789')\n",
      "('Epoch: 4/5...', 'Training loss: 0.0641')\n",
      "('Epoch: 4/5...', 'Training loss: 0.0774')\n",
      "('Epoch: 4/5...', 'Training loss: 0.1041')\n",
      "('Epoch: 4/5...', 'Training loss: 0.0957')\n",
      "('Epoch: 4/5...', 'Training loss: 0.0823')\n",
      "('Epoch: 4/5...', 'Training loss: 0.0584')\n",
      "('Epoch: 4/5...', 'Training loss: 0.0841')\n",
      "('Epoch: 4/5...', 'Training loss: 0.0793')\n",
      "('Epoch: 4/5...', 'Training loss: 0.0838')\n",
      "('Epoch: 4/5...', 'Training loss: 0.0807')\n",
      "('Epoch: 4/5...', 'Training loss: 0.0854')\n",
      "('Epoch: 4/5...', 'Training loss: 0.0639')\n",
      "('Epoch: 4/5...', 'Training loss: 0.0909')\n",
      "('Epoch: 4/5...', 'Training loss: 0.0935')\n",
      "('Epoch: 4/5...', 'Training loss: 0.0610')\n",
      "('Epoch: 4/5...', 'Training loss: 0.0777')\n",
      "('Epoch: 4/5...', 'Training loss: 0.0923')\n",
      "('Epoch: 4/5...', 'Training loss: 0.0922')\n",
      "('Epoch: 4/5...', 'Training loss: 0.0691')\n",
      "('Epoch: 4/5...', 'Training loss: 0.1023')\n",
      "('Epoch: 4/5...', 'Training loss: 0.0811')\n",
      "('Epoch: 4/5...', 'Training loss: 0.0878')\n",
      "('Epoch: 4/5...', 'Training loss: 0.0730')\n",
      "('Epoch: 4/5...', 'Training loss: 0.0657')\n",
      "('Epoch: 4/5...', 'Training loss: 0.1066')\n",
      "('Epoch: 4/5...', 'Training loss: 0.0830')\n",
      "('Epoch: 4/5...', 'Training loss: 0.0627')\n",
      "('Epoch: 4/5...', 'Training loss: 0.0885')\n",
      "('Epoch: 4/5...', 'Training loss: 0.0716')\n",
      "('Epoch: 4/5...', 'Training loss: 0.0782')\n",
      "('Epoch: 4/5...', 'Training loss: 0.0668')\n",
      "('Epoch: 4/5...', 'Training loss: 0.0855')\n",
      "('Epoch: 5/5...', 'Training loss: 0.0736')\n",
      "('Epoch: 5/5...', 'Training loss: 0.0802')\n",
      "('Epoch: 5/5...', 'Training loss: 0.0736')\n",
      "('Epoch: 5/5...', 'Training loss: 0.0615')\n",
      "('Epoch: 5/5...', 'Training loss: 0.0644')\n",
      "('Epoch: 5/5...', 'Training loss: 0.0603')\n",
      "('Epoch: 5/5...', 'Training loss: 0.0817')\n",
      "('Epoch: 5/5...', 'Training loss: 0.0778')\n",
      "('Epoch: 5/5...', 'Training loss: 0.0772')\n",
      "('Epoch: 5/5...', 'Training loss: 0.0750')\n",
      "('Epoch: 5/5...', 'Training loss: 0.0946')\n",
      "('Epoch: 5/5...', 'Training loss: 0.0734')\n",
      "('Epoch: 5/5...', 'Training loss: 0.0821')\n",
      "('Epoch: 5/5...', 'Training loss: 0.0605')\n",
      "('Epoch: 5/5...', 'Training loss: 0.1298')\n",
      "('Epoch: 5/5...', 'Training loss: 0.0759')\n",
      "('Epoch: 5/5...', 'Training loss: 0.0779')\n",
      "('Epoch: 5/5...', 'Training loss: 0.0691')\n",
      "('Epoch: 5/5...', 'Training loss: 0.0732')\n",
      "('Epoch: 5/5...', 'Training loss: 0.0642')\n",
      "('Epoch: 5/5...', 'Training loss: 0.0715')\n",
      "('Epoch: 5/5...', 'Training loss: 0.0611')\n",
      "('Epoch: 5/5...', 'Training loss: 0.0703')\n",
      "('Epoch: 5/5...', 'Training loss: 0.0790')\n",
      "('Epoch: 5/5...', 'Training loss: 0.0669')\n",
      "('Epoch: 5/5...', 'Training loss: 0.1092')\n",
      "('Epoch: 5/5...', 'Training loss: 0.0676')\n",
      "('Epoch: 5/5...', 'Training loss: 0.0727')\n",
      "('Epoch: 5/5...', 'Training loss: 0.0612')\n",
      "('Epoch: 5/5...', 'Training loss: 0.0917')\n",
      "('Epoch: 5/5...', 'Training loss: 0.0701')\n",
      "('Epoch: 5/5...', 'Training loss: 0.0753')\n",
      "('Epoch: 5/5...', 'Training loss: 0.0713')\n",
      "('Epoch: 5/5...', 'Training loss: 0.0900')\n",
      "('Epoch: 5/5...', 'Training loss: 0.0906')\n",
      "('Epoch: 5/5...', 'Training loss: 0.0799')\n",
      "('Epoch: 5/5...', 'Training loss: 0.0809')\n",
      "('Epoch: 5/5...', 'Training loss: 0.1053')\n",
      "('Epoch: 5/5...', 'Training loss: 0.0698')\n",
      "('Epoch: 5/5...', 'Training loss: 0.0794')\n",
      "('Epoch: 5/5...', 'Training loss: 0.0923')\n",
      "('Epoch: 5/5...', 'Training loss: 0.0893')\n",
      "('Epoch: 5/5...', 'Training loss: 0.0602')\n",
      "('Epoch: 5/5...', 'Training loss: 0.0852')\n",
      "('Epoch: 5/5...', 'Training loss: 0.1003')\n",
      "('Epoch: 5/5...', 'Training loss: 0.0883')\n",
      "('Epoch: 5/5...', 'Training loss: 0.0806')\n",
      "('Epoch: 5/5...', 'Training loss: 0.0825')\n",
      "('Epoch: 5/5...', 'Training loss: 0.0920')\n",
      "('Epoch: 5/5...', 'Training loss: 0.0758')\n",
      "('Epoch: 5/5...', 'Training loss: 0.0736')\n",
      "('Epoch: 5/5...', 'Training loss: 0.0772')\n",
      "('Epoch: 5/5...', 'Training loss: 0.0784')\n",
      "('Epoch: 5/5...', 'Training loss: 0.0625')\n",
      "('Epoch: 5/5...', 'Training loss: 0.0754')\n",
      "('Epoch: 5/5...', 'Training loss: 0.1014')\n",
      "('Epoch: 5/5...', 'Training loss: 0.0941')\n",
      "('Epoch: 5/5...', 'Training loss: 0.0817')\n",
      "('Epoch: 5/5...', 'Training loss: 0.0566')\n",
      "('Epoch: 5/5...', 'Training loss: 0.0818')\n",
      "('Epoch: 5/5...', 'Training loss: 0.0773')\n",
      "('Epoch: 5/5...', 'Training loss: 0.0823')\n",
      "('Epoch: 5/5...', 'Training loss: 0.0792')\n",
      "('Epoch: 5/5...', 'Training loss: 0.0818')\n",
      "('Epoch: 5/5...', 'Training loss: 0.0610')\n",
      "('Epoch: 5/5...', 'Training loss: 0.0898')\n",
      "('Epoch: 5/5...', 'Training loss: 0.0942')\n",
      "('Epoch: 5/5...', 'Training loss: 0.0590')\n",
      "('Epoch: 5/5...', 'Training loss: 0.0754')\n",
      "('Epoch: 5/5...', 'Training loss: 0.0899')\n",
      "('Epoch: 5/5...', 'Training loss: 0.0903')\n",
      "('Epoch: 5/5...', 'Training loss: 0.0684')\n",
      "('Epoch: 5/5...', 'Training loss: 0.1006')\n",
      "('Epoch: 5/5...', 'Training loss: 0.0785')\n",
      "('Epoch: 5/5...', 'Training loss: 0.0850')\n",
      "('Epoch: 5/5...', 'Training loss: 0.0725')\n",
      "('Epoch: 5/5...', 'Training loss: 0.0648')\n",
      "('Epoch: 5/5...', 'Training loss: 0.1053')\n",
      "('Epoch: 5/5...', 'Training loss: 0.0803')\n",
      "('Epoch: 5/5...', 'Training loss: 0.0608')\n",
      "('Epoch: 5/5...', 'Training loss: 0.0868')\n",
      "('Epoch: 5/5...', 'Training loss: 0.0705')\n",
      "('Epoch: 5/5...', 'Training loss: 0.0760')\n",
      "('Epoch: 5/5...', 'Training loss: 0.0652')\n",
      "('Epoch: 5/5...', 'Training loss: 0.0838')\n"
     ]
    }
   ],
   "source": [
    "sess = tf.Session()\n",
    "sess.run(tf.global_variables_initializer())\n",
    "\n",
    "# Training Parameters\n",
    "\n",
    "epochs = 5\n",
    "batch_size = 72\n",
    "total_images = 6120\n",
    "\n",
    "display_step = 1000\n",
    "examples_to_show = 10\n",
    "\n",
    "\n",
    "for e in range(epochs):\n",
    "    for ii in range(total_images // batch_size):\n",
    "        batch = data_train[ii*batch_size : (ii+1)*batch_size]\n",
    "        batch_labels = train_labels[ii*batch_size : (ii+1)*batch_size]\n",
    "        feed_dict = {inputs_: batch, targets_: batch_labels}\n",
    "\n",
    "        fetches = [train_op, loss_op]\n",
    "        _, loss = sess.run(fetches, feed_dict=feed_dict)\n",
    "        print(\"Epoch: {}/{}...\".format(e+1, epochs),\n",
    "            \"Training loss: {:.4f}\".format(loss))\n"
   ]
  },
  {
   "cell_type": "code",
   "execution_count": 34,
   "metadata": {
    "collapsed": false,
    "scrolled": true
   },
   "outputs": [
    {
     "name": "stdout",
     "output_type": "stream",
     "text": [
      "(64, 64, 3)\n"
     ]
    },
    {
     "data": {
      "image/png": "[encoded data removed]",
      "text/plain": [
       "<matplotlib.figure.Figure at 0x7f63504189d0>"
      ]
     },
     "metadata": {},
     "output_type": "display_data"
    }
   ],
   "source": [
    "\n",
    "#compare test image \n",
    "\n",
    "tmp = imageset[6120+71]\n",
    "print tmp.shape\n",
    "plt.imshow(tmp)\n",
    "plt.show()\n"
   ]
  },
  {
   "cell_type": "code",
   "execution_count": 35,
   "metadata": {
    "collapsed": false
   },
   "outputs": [
    {
     "name": "stdout",
     "output_type": "stream",
     "text": [
      "0.105179\n"
     ]
    }
   ],
   "source": [
    "\n",
    "\n",
    "feed_dict = {inputs_: data_test[0:72], targets_: test_labels[0:72]}\n",
    "\n",
    "fetches = [tanh6, loss_op]\n",
    "out, loss = sess.run(fetches, feed_dict=feed_dict)\n",
    "print loss"
   ]
  },
  {
   "cell_type": "code",
   "execution_count": 36,
   "metadata": {
    "collapsed": false
   },
   "outputs": [
    {
     "name": "stdout",
     "output_type": "stream",
     "text": [
      "(72, 64, 64, 3)\n"
     ]
    }
   ],
   "source": [
    "other = np.array(out)\n",
    "\n",
    "print other.shape"
   ]
  },
  {
   "cell_type": "code",
   "execution_count": 189,
   "metadata": {
    "collapsed": false
   },
   "outputs": [
    {
     "data": {
      "image/png": "[encoded data removed]",
      "text/plain": [
       "<matplotlib.figure.Figure at 0x7f4921f8bd90>"
      ]
     },
     "metadata": {},
     "output_type": "display_data"
    }
   ],
   "source": [
    "# test_labels_copy = test_labels[0:72]\n",
    "\n",
    "# test_labels_copy *= max_labels\n",
    "# test_labels_copy += mean_labels\n",
    "\n",
    "# tmp = test_labels_copy[36]\n",
    "\n",
    "# tmp = np.where(tmp>255,255,tmp)\n",
    "# tmp = np.where(tmp<0,0,tmp)\n",
    "# tmp = tmp[...,::-1]\n",
    "# plt.imshow(tmp)\n",
    "# plt.show()"
   ]
  },
  {
   "cell_type": "code",
   "execution_count": 276,
   "metadata": {
    "collapsed": true
   },
   "outputs": [],
   "source": [
    "out = 1 / (1 + np.exp(-other))"
   ]
  },
  {
   "cell_type": "code",
   "execution_count": 37,
   "metadata": {
    "collapsed": false
   },
   "outputs": [
    {
     "name": "stdout",
     "output_type": "stream",
     "text": [
      "<type 'numpy.ndarray'>\n",
      "(72, 64, 64, 3)\n",
      "(64, 64, 3)\n",
      "255.0\n",
      "71.3630718954\n",
      "255.0\n",
      "0.0\n",
      "(64, 64, 3)\n"
     ]
    },
    {
     "data": {
      "image/png": "[encoded data removed]",
      "text/plain": [
       "<matplotlib.figure.Figure at 0x7f6350415390>"
      ]
     },
     "metadata": {},
     "output_type": "display_data"
    }
   ],
   "source": [
    "\n",
    "out *= max_labels\n",
    "out += mean_labels\n",
    "\n",
    "print type(tmp)\n",
    "tmp = out[0][...,::-1]\n",
    "print out.shape\n",
    "print max_labels.shape\n",
    "print np.amax(mean_labels)\n",
    "print np.amin(mean_labels)\n",
    "out = np.around(out)\n",
    "out = np.where(out>255,255,out)\n",
    "out = np.where(out<0,0,out)\n",
    "\n",
    "#mmax = np.max(out)\n",
    "#mmin = np.min(out)\n",
    "\n",
    "#out = (out - mmin) / (mmax - mmin)\n",
    "#out *= 255\n",
    "#out = np.around(out)\n",
    "\n",
    "print np.amax(out)\n",
    "print np.amin(out)\n",
    "tmp = out[71]\n",
    "print tmp.shape\n",
    "plt.imshow(tmp)\n",
    "plt.show()\n"
   ]
  },
  {
   "cell_type": "code",
   "execution_count": null,
   "metadata": {
    "collapsed": true
   },
   "outputs": [],
   "source": []
  },
  {
   "cell_type": "code",
   "execution_count": 170,
   "metadata": {
    "collapsed": false
   },
   "outputs": [
    {
     "data": {
      "image/png": "[encoded data removed]",
      "text/plain": [
       "<matplotlib.figure.Figure at 0x7f48b0124b10>"
      ]
     },
     "metadata": {},
     "output_type": "display_data"
    }
   ],
   "source": [
    "test_labels *= max_labels\n",
    "test_labels += mean_labels\n",
    "\n",
    "tmp = test_labels[36]\n",
    "\n",
    "tmp = np.where(tmp>255,255,tmp)\n",
    "tmp = np.where(tmp<0,0,tmp)\n",
    "tmp = tmp[...,::-1]\n",
    "plt.imshow(tmp)\n",
    "plt.show()"
   ]
  },
  {
   "cell_type": "code",
   "execution_count": null,
   "metadata": {
    "collapsed": true
   },
   "outputs": [],
   "source": []
  }
 ],
 "metadata": {
  "kernelspec": {
   "display_name": "Python 2",
   "language": "python",
   "name": "python2"
  },
  "language_info": {
   "codemirror_mode": {
    "name": "ipython",
    "version": 2
   },
   "file_extension": ".py",
   "mimetype": "text/x-python",
   "name": "python",
   "nbconvert_exporter": "python",
   "pygments_lexer": "ipython2",
   "version": "2.7.14"
  }
 },
 "nbformat": 4,
 "nbformat_minor": 1
}
