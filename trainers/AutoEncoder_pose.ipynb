{
 "cells": [
  {
   "cell_type": "code",
   "execution_count": 1,
   "metadata": {
    "collapsed": true
   },
   "outputs": [],
   "source": [
    "%matplotlib inline\n",
    "import matplotlib\n"
   ]
  },
  {
   "cell_type": "code",
   "execution_count": 29,
   "metadata": {
    "collapsed": true
   },
   "outputs": [],
   "source": [
    "\n",
    "import tensorflow as tf\n",
    "import numpy as np\n",
    "import matplotlib.pyplot as plt\n",
    "from scipy import misc\n",
    "from scipy import ndimage\n",
    "import os\n",
    "from matplotlib.pyplot import imshow\n",
    "import matplotlib.image as mpimg\n",
    "from sklearn.utils import shuffle\n",
    "import h5py"
   ]
  },
  {
   "cell_type": "code",
   "execution_count": 3,
   "metadata": {
    "collapsed": false
   },
   "outputs": [
    {
     "name": "stdout",
     "output_type": "stream",
     "text": [
      "loading data\n"
     ]
    }
   ],
   "source": [
    "#load data\n",
    "print (\"loading data\")\n",
    "#iterate over directory and get all png images\\n\n",
    "#imageset = np.empty((7704,64,64,3), dtype='float32')\n",
    "rootdir = '/home/chsarath/kaushal_project/mug/models/3dw'\n",
    "\n",
    "\n",
    "def get_image_data(root_dir):\n",
    "    img_data = np.zeros((36,64,64,3)) # to do start with zero\n",
    "    cnt = 0\n",
    "    total_cnt = 0\n",
    "    \n",
    "    cur_model =  np.empty((36,64,64,3), dtype='float32')\n",
    "    for subdir, dirs, files in os.walk(root_dir):\n",
    "        for file in files:\n",
    "            filepath = subdir + os.sep + file\n",
    "            k += 1\n",
    "            if filepath.endswith('.png'):\n",
    "                #print('check')\n",
    "                if cnt == 36:\n",
    "                    cnt = 0\n",
    "                    total_cnt += 1\n",
    "                    \n",
    "                    img_data = np.concatenate((img_data,cur_model),axis=0)\n",
    "                    #print(cur_model)\n",
    "                    #cur_model =  np.empty((36,64,64,3), dtype='float32')\n",
    "\n",
    "                cnt += 1\n",
    "                seq_number = int(filepath.split('-')[-1].split('.')[0])\n",
    "                cur_model[seq_number] = misc.imread(filepath).astype(np.float32)\n",
    "                #plt.imshow(cur_model[seq_number]/255)\n",
    "                #plt.show()\n",
    "    return img_data\n",
    "                \n",
    "                #img_data.concatenate(cur_model)\n",
    "                \n",
    "\n",
    "                #imageset[total_cnt*36 + seq_number] = misc.imread(filepath).astype(np.float32)\n",
    "    #print(len(img_data))\n",
    "    #return np.asarray(img_data)\n",
    "    print(img_data.shape)\n",
    "            \n",
    "    print ('loading done')"
   ]
  },
  {
   "cell_type": "code",
   "execution_count": 4,
   "metadata": {
    "collapsed": false
   },
   "outputs": [
    {
     "name": "stdout",
     "output_type": "stream",
     "text": [
      "(360, 64, 64, 3)\n"
     ]
    }
   ],
   "source": [
    "\n",
    "\n",
    "i = get_image_data('/home/chinmay/work/screenshots/models/chair_train/batch1')\n",
    "print(i.shape)\n",
    "\n",
    "\n",
    "#TO-DO Remove first zeros image"
   ]
  },
  {
   "cell_type": "code",
   "execution_count": 5,
   "metadata": {
    "collapsed": false
   },
   "outputs": [
    {
     "name": "stdout",
     "output_type": "stream",
     "text": [
      "(64, 64, 3)\n"
     ]
    },
    {
     "data": {
      "image/png": "[encoded data removed]",
      "text/plain": [
       "<matplotlib.figure.Figure at 0x7fe59e9c4908>"
      ]
     },
     "metadata": {},
     "output_type": "display_data"
    }
   ],
   "source": [
    "print(i[37].shape)\n",
    "#print(i[10])\n",
    "\n",
    "plt.imshow(i[140]/255)\n",
    "plt.show()"
   ]
  },
  {
   "cell_type": "code",
   "execution_count": 8,
   "metadata": {
    "collapsed": true
   },
   "outputs": [],
   "source": [
    "\n",
    "def get_train(data, pairs_per_model):\n",
    "    W,H,C = 64,64,3\n",
    "    images_per_model = 36\n",
    "    pose_W, pose_H, pose_D = 8,8,36\n",
    "\n",
    "    total_models = int(data.shape[0] / images_per_model)\n",
    "    print(total_models)\n",
    "    data_train = np.zeros((total_models * pairs_per_model, W,H,C))\n",
    "    \n",
    "    data_ = np.zeros((total_models * pairs_per_model,W,H,C))\n",
    "    labels_ = np.zeros((total_models * pairs_per_model,W,H,C))\n",
    "    pose = np.zeros((total_models * pairs_per_model,pose_W,pose_H,pose_D))\n",
    "    \n",
    "    for cnt in range(total_models ):\n",
    "        tmp_data = np.zeros((images_per_model * images_per_model,W,H,C))\n",
    "        tmp_labels = np.zeros((images_per_model * images_per_model,W,H,C))\n",
    "        tmp_pose = np.zeros((images_per_model * images_per_model, pose_W,pose_H,pose_D))\n",
    "        for i in range(images_per_model):\n",
    "            for j in range(images_per_model):\n",
    "                num = (j-i) % images_per_model\n",
    "                pose_tmp = np.zeros(images_per_model)\n",
    "                pose_tmp[num] = 1\n",
    "                tmp_pose[i*images_per_model + j] = np.broadcast_to(pose_tmp,(pose_W,pose_H,pose_D))\n",
    "                tmp_data[i*images_per_model + j] = data[cnt*images_per_model + i]\n",
    "                tmp_labels[i*images_per_model + j] = data[cnt *images_per_model + j]         \n",
    "        rand_nums = np.random.randint(0,images_per_model * images_per_model - 1,pairs_per_model)\n",
    "        data_[cnt*pairs_per_model : (cnt+1)*pairs_per_model] = tmp_data[rand_nums]\n",
    "        labels_[cnt*pairs_per_model : (cnt+1)*pairs_per_model] = tmp_labels[rand_nums]\n",
    "        pose[cnt*pairs_per_model : (cnt+1)*pairs_per_model] = tmp_pose[rand_nums]\n",
    "        \n",
    "    data_, labels_, pose = shuffle(data_, labels_, pose, random_state=0)\n",
    "    return data_, labels_, pose"
   ]
  },
  {
   "cell_type": "code",
   "execution_count": 9,
   "metadata": {
    "collapsed": false
   },
   "outputs": [
    {
     "name": "stdout",
     "output_type": "stream",
     "text": [
      "10\n"
     ]
    }
   ],
   "source": [
    "data_, labels_, pose_ = get_train(i,100)\n"
   ]
  },
  {
   "cell_type": "code",
   "execution_count": null,
   "metadata": {
    "collapsed": true
   },
   "outputs": [],
   "source": []
  },
  {
   "cell_type": "code",
   "execution_count": 25,
   "metadata": {
    "collapsed": false
   },
   "outputs": [
    {
     "name": "stdout",
     "output_type": "stream",
     "text": [
      "[ 0.  0.  0.  0.  0.  0.  0.  0.  0.  0.  0.  0.  0.  0.  0.  0.  0.  0.\n",
      "  0.  0.  0.  0.  0.  0.  0.  0.  1.  0.  0.  0.  0.  0.  0.  0.  0.  0.]\n"
     ]
    },
    {
     "data": {
      "image/png": "[encoded data removed]",
      "text/plain": [
       "<matplotlib.figure.Figure at 0x7fe59ecbd0f0>"
      ]
     },
     "metadata": {},
     "output_type": "display_data"
    },
    {
     "data": {
      "image/png": "[encoded data removed]",
      "text/plain": [
       "<matplotlib.figure.Figure at 0x7fe59eb8ccf8>"
      ]
     },
     "metadata": {},
     "output_type": "display_data"
    }
   ],
   "source": [
    "\n",
    "i = 255\n",
    "print(pose_[i][0][0])\n",
    "plt.imshow(data_[i][...,::-1]/255)\n",
    "plt.show()\n",
    "plt.imshow(labels_[i][...,::-1]/255)\n",
    "plt.show()\n"
   ]
  },
  {
   "cell_type": "code",
   "execution_count": null,
   "metadata": {
    "collapsed": true
   },
   "outputs": [],
   "source": [
    "#normalize data\n",
    "def normalize(data):\n",
    "    data *= 2\n",
    "    data /= 255\n",
    "    data -= 1\n",
    "    return data\n",
    " \n",
    "#denormalize data\n",
    "def denormalize(data):\n",
    "    data += 1\n",
    "    data *=  255\n",
    "    data /= 2\n",
    "    return data\n"
   ]
  },
  {
   "cell_type": "code",
   "execution_count": null,
   "metadata": {
    "collapsed": true
   },
   "outputs": [],
   "source": [
    "tf.reset_default_graph()\n",
    "#to Reset Tensor Flow Graph"
   ]
  },
  {
   "cell_type": "code",
   "execution_count": null,
   "metadata": {
    "collapsed": true
   },
   "outputs": [],
   "source": [
    "#defination of my layers\n",
    "'''\n",
    "def conv2d(input, kernel_size, stride, num_filter):\n",
    "    stride_shape = [1, stride, stride, 1]\n",
    "    filter_shape = [kernel_size, kernel_size, input.get_shape()[3], num_filter]\n",
    "\n",
    "    W = tf.get_variable('w', filter_shape, tf.float32, tf.random_normal_initializer(0.0, 0.02))\n",
    "    b = tf.get_variable('b', [1, 1, 1, num_filter], initializer=tf.constant_initializer(0.0))\n",
    "    return tf.nn.conv2d(input, W, stride_shape, padding='SAME') + b\n",
    "'''\n",
    "def conv2d(input, kernel_size, stride, num_filter, name = 'conv2d'):\n",
    "    with tf.variable_scope(name):\n",
    "        stride_shape = [1, stride, stride, 1]\n",
    "        filter_shape = [kernel_size, kernel_size, input.get_shape()[3], num_filter]\n",
    "\n",
    "        W = tf.get_variable('w', filter_shape, tf.float32, tf.random_normal_initializer(0.0, 0.02))\n",
    "        b = tf.get_variable('b', [1, 1, 1, num_filter], initializer = tf.constant_initializer(0.0))\n",
    "        return tf.nn.conv2d(input, W, stride_shape, padding = 'SAME') + b\n",
    "\n",
    "def max_pool(input, kernel_size, stride):\n",
    "    ksize = [1, kernel_size, kernel_size, 1]\n",
    "    strides = [1, stride, stride, 1]\n",
    "    return tf.nn.max_pool(input, ksize=ksize, strides=strides, padding='SAME')\n",
    "\n",
    "def deconv2d(input, kernel_size, stride, num_filter):\n",
    "    filter_shape = [kernel_size, kernel_size, num_filter, input.get_shape()[3]]\n",
    "    # tf.constant([input.get_shape()[0], input.get_shape()[1]*2, input.get_shape()[1]*2, num_filter], tf.int32)\n",
    "    input_dim = input.get_shape().as_list()\n",
    "    batch_size = input_dim[0]\n",
    "    w = input_dim[1]\n",
    "    out_shape = tf.stack([batch_size, w*2, w*2, num_filter])    \n",
    "    b = tf.get_variable('b', [1, 1, 1, num_filter], initializer = tf.constant_initializer(0.0))\n",
    "    stride_shape = [1, stride, stride, 1]\n",
    "    W = tf.get_variable('w', filter_shape, tf.float32, tf.contrib.layers.xavier_initializer())\n",
    "    \n",
    "    return tf.nn.conv2d_transpose(input, W, out_shape, stride_shape) + b\n",
    "\n",
    "def conv2d_transpose(input, kernel_size, stride, num_filter, name = 'conv2d_transpose'):\n",
    "    with tf.variable_scope(name):\n",
    "        stride_shape = [1, stride, stride, 1]\n",
    "        filter_shape = [kernel_size, kernel_size, num_filter, input.get_shape()[3]]\n",
    "        output_shape = tf.stack([tf.shape(input)[0], tf.shape(input)[1] * 2, tf.shape(input)[2] * 2, num_filter])\n",
    "\n",
    "        W = tf.get_variable('w', filter_shape, tf.float32, tf.random_normal_initializer(0.0, 0.02))\n",
    "        b = tf.get_variable('b', [1, 1, 1, num_filter], initializer = tf.constant_initializer(0.0))\n",
    "        return tf.nn.conv2d_transpose(input, W, output_shape, stride_shape, padding = 'SAME') + b\n",
    "\n",
    "\n",
    "def batch_norm(input, is_training):\n",
    "    out = tf.contrib.layers.batch_norm(input, decay = 0.99, center = True, scale = True,\n",
    "                                       is_training = is_training, updates_collections = None)\n",
    "    return out"
   ]
  },
  {
   "cell_type": "code",
   "execution_count": null,
   "metadata": {
    "collapsed": true
   },
   "outputs": [],
   "source": [
    "\n",
    "class AutoEncoder(object):\n",
    "    \n",
    "    def __init__(self):\n",
    "        self.inputs_ = tf.placeholder(tf.float32, [None, 64, 64, 3])\n",
    "        self.targets_ = tf.placeholder(tf.float32, [None, 64, 64, 3])\n",
    "        self.pose_ = tf.placeholder(tf.float32, [None, 8, 8, 36])\n",
    "        self.is_train = tf.placeholder(tf.bool)\n",
    "        self.num_epoch = 100\n",
    "        self.batch_size = 20\n",
    "        self.num_training = 17000\n",
    "        self._build_model()\n",
    "        \n",
    "    def _encoder_decoder(self):\n",
    "        with tf.variable_scope('conv1'):\n",
    "            _ = conv2d(self.inputs_, 3, 2, 16, 'conv1')\n",
    "            #_ = batch_norm(_, self.is_train)\n",
    "            _ = tf.nn.relu(_)\n",
    "            _ = conv2d(_, 3, 2, 32, 'conv2')\n",
    "            #_ = batch_norm(_, self.is_train)\n",
    "            _ = tf.nn.relu(_)\n",
    "            #_ = conv2d(_, 3, 2, 64, 'conv3')\n",
    "            #_ = tf.nn.relu(_)\n",
    "            _ = conv2d(_, 3, 2, 64, 'conv4')\n",
    "            _ = tf.nn.relu(_)\n",
    "            _ = tf.concat([_, self.pose_], 3)\n",
    "            #_ = conv2d_transpose(_, 3, 2, 64, 'deconv0')\n",
    "            #_ = tf.nn.relu(_)\n",
    "            _ = conv2d_transpose(_, 3, 2, 32, 'deconv1')\n",
    "            #_ = batch_norm(_, self.is_train)\n",
    "            _ = tf.nn.relu(_)\n",
    "            _ = conv2d_transpose(_, 3, 2, 16, 'deconv2')\n",
    "            #_ = batch_norm(_, self.is_train)\n",
    "            _ = tf.nn.relu(_)\n",
    "            _ = conv2d_transpose(_, 3, 2, 3, 'deconv3')\n",
    "            _ = tf.nn.tanh(_)\n",
    "            return _\n",
    "\n",
    "    def _loss(self, labels, logits):\n",
    "        self.loss_op = tf.reduce_mean(abs(labels - logits))\n",
    "    \n",
    "    def _build_optimizer(self):\n",
    "        global_step = tf.Variable(0,trainable=False)\n",
    "        lr = tf.train.exponential_decay(5e-4, global_step, 1000, 0.96, staircase=True)\n",
    "        optimizer = tf.train.AdamOptimizer(lr)\n",
    "        self.train_op = optimizer.minimize(loss=self.loss_op)\n",
    "\n",
    "    def _build_model(self):\n",
    "        self.out = self._encoder_decoder()\n",
    "        self._loss(self.out, self.targets_)\n",
    "        self._build_optimizer()\n",
    "        \n",
    "    def train(self, sess, X_train, Y_train, pose):\n",
    "        sess.run(tf.global_variables_initializer())\n",
    "        print('-' * 5 + '  Start training  ' + '-' * 5)\n",
    "        for e in range(self.num_epoch):\n",
    "            for ii in range(X_train.shape[0] // self.batch_size):\n",
    "                batch = X_train[ii*self.batch_size : (ii+1)*self.batch_size]\n",
    "                batch_labels = Y_train[ii*self.batch_size : (ii+1)*self.batch_size]\n",
    "                pose_labels = pose[ii*self.batch_size : (ii+1)*self.batch_size]\n",
    "                feed_dict = {self.inputs_: batch, self.targets_: batch_labels, self.pose_:pose_labels, self.is_train:True}\n",
    "                fetches = [self.train_op, self.loss_op]\n",
    "                _, loss = sess.run(fetches, feed_dict=feed_dict)\n",
    "            print(\"Epoch: {}/{}...\".format(e+1, self.num_epoch),\n",
    "                \"Training loss: {:.4f}\".format(loss))\n",
    "    \n",
    "    def evaluate(self, sess, X_eval, Y_eval, pose_eval):\n",
    "        out = np.zeros(Y_eval.shape)\n",
    "        for ii in range(X_eval.shape[0] // self.batch_size):\n",
    "            batch = X_eval[ii*self.batch_size : (ii+1)*self.batch_size]\n",
    "            batch_labels = Y_eval[ii*self.batch_size : (ii+1)*self.batch_size]\n",
    "            pose_labels = pose_eval[ii*self.batch_size : (ii+1)*self.batch_size]\n",
    "            feed_dict = {self.inputs_: batch, self.targets_: batch_labels, self.pose_:pose_labels, self.is_train:False}\n",
    "            fetches = [self.train_op, self.loss_op, self.out]\n",
    "            _, loss, out[ii*self.batch_size : (ii+1)*self.batch_size] = sess.run(fetches, feed_dict=feed_dict)\n",
    "            print (\"loss: {:.4f}\".format(loss))\n",
    "        return out"
   ]
  },
  {
   "cell_type": "code",
   "execution_count": null,
   "metadata": {
    "collapsed": true
   },
   "outputs": [],
   "source": [
    "base_dir = '/home/chinmay/work/screenshots/models/chair_train'"
   ]
  },
  {
   "cell_type": "code",
   "execution_count": null,
   "metadata": {
    "collapsed": false
   },
   "outputs": [],
   "source": [
    "tf.reset_default_graph()\n",
    "\n",
    "# Train our sample model\n",
    "with tf.Session() as sess:\n",
    "    #with tf.device('/device:gpu:0'):\n",
    "    model = AutoEncoder()\n",
    "    model.train(sess, data_train, train_labels, pose_train)\n",
    "    output = model.evaluate(sess, data_test, test_labels, pose_test)\n",
    "    saver = tf.train.Saver()\n",
    "    model_path = saver.save(sess, \"saved_models/encoder_pose.ckpt\")\n",
    "    print(\"Model saved in %s\" % model_path)\n"
   ]
  },
  {
   "cell_type": "code",
   "execution_count": null,
   "metadata": {
    "collapsed": false
   },
   "outputs": [],
   "source": [
    "other = np.array(output)\n",
    "\n",
    "print (other.shape)"
   ]
  },
  {
   "cell_type": "code",
   "execution_count": null,
   "metadata": {
    "collapsed": true
   },
   "outputs": [],
   "source": [
    "\n",
    "other += 1\n",
    "other *=  255\n",
    "other /= 2\n"
   ]
  },
  {
   "cell_type": "code",
   "execution_count": null,
   "metadata": {
    "collapsed": false
   },
   "outputs": [],
   "source": [
    "\n",
    "tmp = other[1240]\n",
    "print (tmp.shape)\n",
    "plt.imshow(tmp/255)\n",
    "plt.show()"
   ]
  },
  {
   "cell_type": "code",
   "execution_count": null,
   "metadata": {
    "collapsed": true
   },
   "outputs": [],
   "source": [
    "\n",
    "test_labels += 1\n",
    "test_labels *=  255\n",
    "test_labels /= 2\n",
    "\n",
    "\n"
   ]
  },
  {
   "cell_type": "code",
   "execution_count": null,
   "metadata": {
    "collapsed": false
   },
   "outputs": [],
   "source": [
    "tmp = test_labels[3102]\n",
    "print (tmp.shape)\n",
    "plt.imshow(tmp/255)\n",
    "plt.show()\n",
    "print (pose_test[451][0][0])"
   ]
  },
  {
   "cell_type": "code",
   "execution_count": null,
   "metadata": {
    "collapsed": true
   },
   "outputs": [],
   "source": []
  }
 ],
 "metadata": {
  "kernelspec": {
   "display_name": "Python 3",
   "language": "python",
   "name": "python3"
  },
  "language_info": {
   "codemirror_mode": {
    "name": "ipython",
    "version": 3
   },
   "file_extension": ".py",
   "mimetype": "text/x-python",
   "name": "python",
   "nbconvert_exporter": "python",
   "pygments_lexer": "ipython3",
   "version": "3.5.2"
  }
 },
 "nbformat": 4,
 "nbformat_minor": 1
}
