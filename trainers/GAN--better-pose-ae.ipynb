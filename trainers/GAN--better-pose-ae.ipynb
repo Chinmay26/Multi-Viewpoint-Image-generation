{
 "cells": [
  {
   "cell_type": "code",
   "execution_count": 1,
   "metadata": {
    "collapsed": true
   },
   "outputs": [],
   "source": [
    "%matplotlib inline\n",
    "import matplotlib\n",
    "import tensorflow as tf\n",
    "import numpy as np\n",
    "import matplotlib.pyplot as plt\n",
    "from scipy import misc\n",
    "from scipy import ndimage\n",
    "import os\n",
    "from matplotlib.pyplot import imshow\n",
    "import matplotlib.image as mpimg\n",
    "from sklearn.utils import shuffle\n",
    "import tensorflow.contrib.layers as layers\n",
    "import tensorflow.contrib.slim as slim\n",
    "from random import shuffle"
   ]
  },
  {
   "cell_type": "code",
   "execution_count": 2,
   "metadata": {
    "collapsed": true
   },
   "outputs": [],
   "source": [
    "total_azimuth_angles = 36\n",
    "train_split = 0.8\n",
    "image_H, image_W, image_D = 64,64,3\n",
    "pose_w, pose_h, pose_d = 4,4,36"
   ]
  },
  {
   "cell_type": "code",
   "execution_count": 3,
   "metadata": {
    "collapsed": true
   },
   "outputs": [],
   "source": [
    "dataset = np.load('../datasets/car_64.npy')\n"
   ]
  },
  {
   "cell_type": "code",
   "execution_count": 4,
   "metadata": {
    "collapsed": false
   },
   "outputs": [
    {
     "name": "stdout",
     "output_type": "stream",
     "text": [
      "1553596416\n"
     ]
    },
    {
     "data": {
      "image/png": "[encoded data removed]",
      "text/plain": [
       "<matplotlib.figure.Figure at 0x7f56815ae8d0>"
      ]
     },
     "metadata": {},
     "output_type": "display_data"
    }
   ],
   "source": [
    "print(dataset.nbytes)\n",
    "plt.imshow(dataset[711]/255)\n",
    "plt.show()"
   ]
  },
  {
   "cell_type": "code",
   "execution_count": 5,
   "metadata": {
    "collapsed": false
   },
   "outputs": [
    {
     "name": "stdout",
     "output_type": "stream",
     "text": [
      "3512 2809 703\n"
     ]
    }
   ],
   "source": [
    " \n",
    "total_models = dataset.shape[0] // total_azimuth_angles\n",
    "\n",
    "\n",
    "train_models_len = int(total_models * train_split)\n",
    "test_models_len = total_models - train_models_len\n",
    "\n",
    "print(total_models,train_models_len,test_models_len)"
   ]
  },
  {
   "cell_type": "code",
   "execution_count": 6,
   "metadata": {
    "collapsed": false
   },
   "outputs": [
    {
     "name": "stdout",
     "output_type": "stream",
     "text": [
      "(25308, 64, 64, 3)\n",
      "(101124, 64, 64, 3)\n"
     ]
    }
   ],
   "source": [
    "dataset_train = dataset[:train_models_len*total_azimuth_angles]\n",
    "dataset_test = dataset[train_models_len*total_azimuth_angles:]\n",
    "\n",
    "print(dataset_test.shape)\n",
    "print(dataset_train.shape)"
   ]
  },
  {
   "cell_type": "code",
   "execution_count": 7,
   "metadata": {
    "collapsed": false
   },
   "outputs": [
    {
     "data": {
      "text/plain": [
       "1242611712"
      ]
     },
     "execution_count": 7,
     "metadata": {},
     "output_type": "execute_result"
    }
   ],
   "source": [
    "del dataset\n",
    "dataset_train.nbytes"
   ]
  },
  {
   "cell_type": "code",
   "execution_count": 8,
   "metadata": {
    "collapsed": false
   },
   "outputs": [
    {
     "data": {
      "image/png": "[encoded data removed]",
      "text/plain": [
       "<matplotlib.figure.Figure at 0x7f56815ae208>"
      ]
     },
     "metadata": {},
     "output_type": "display_data"
    },
    {
     "data": {
      "image/png": "[encoded data removed]",
      "text/plain": [
       "<matplotlib.figure.Figure at 0x7f5622b4c780>"
      ]
     },
     "metadata": {},
     "output_type": "display_data"
    }
   ],
   "source": [
    "plt.imshow(dataset_train[1023]/255)\n",
    "plt.show()\n",
    "plt.imshow(dataset_test[1023]/255)\n",
    "plt.show()"
   ]
  },
  {
   "cell_type": "code",
   "execution_count": 9,
   "metadata": {
    "collapsed": true
   },
   "outputs": [],
   "source": [
    "train_pairs = []\n",
    "start_pose = [0]\n",
    "for i in range(train_models_len):\n",
    "    for j in start_pose:\n",
    "        for k in range(total_azimuth_angles):\n",
    "            if j != k:\n",
    "                train_pairs.append((i,j,k))\n",
    "                \n",
    "test_pairs = []\n",
    "start_pose = [0]\n",
    "for i in range(test_models_len):\n",
    "    for j in start_pose:\n",
    "        for k in range(total_azimuth_angles):\n",
    "            if j != k:\n",
    "                test_pairs.append((i,j,k))\n"
   ]
  },
  {
   "cell_type": "code",
   "execution_count": 10,
   "metadata": {
    "collapsed": false
   },
   "outputs": [
    {
     "name": "stdout",
     "output_type": "stream",
     "text": [
      "(1, 0, 1)\n",
      "(1, 0, 1)\n",
      "(1519, 0, 5)\n",
      "(106, 0, 31)\n"
     ]
    }
   ],
   "source": [
    "print(train_pairs[35])\n",
    "print(test_pairs[35])\n",
    "shuffle(train_pairs)\n",
    "shuffle(test_pairs)\n",
    "print(train_pairs[35])\n",
    "print(test_pairs[35])"
   ]
  },
  {
   "cell_type": "code",
   "execution_count": 11,
   "metadata": {
    "collapsed": false
   },
   "outputs": [
    {
     "name": "stdout",
     "output_type": "stream",
     "text": [
      "(1518, 0, 8)\n",
      "(285, 0, 3)\n",
      "98315\n"
     ]
    },
    {
     "data": {
      "image/png": "[encoded data removed]",
      "text/plain": [
       "<matplotlib.figure.Figure at 0x7f5622b9fe48>"
      ]
     },
     "metadata": {},
     "output_type": "display_data"
    },
    {
     "data": {
      "image/png": "[encoded data removed]",
      "text/plain": [
       "<matplotlib.figure.Figure at 0x7f5622274a58>"
      ]
     },
     "metadata": {},
     "output_type": "display_data"
    }
   ],
   "source": [
    "print(train_pairs[0])\n",
    "print(test_pairs[0])\n",
    "\n",
    "print(len(train_pairs))\n",
    "\n",
    "i = dataset_train[(10*36) + 27]\n",
    "j = dataset_train[(10*36) + 5]\n",
    "plt.imshow(i/255)\n",
    "plt.show()\n",
    "plt.imshow(j/255)\n",
    "plt.show()"
   ]
  },
  {
   "cell_type": "code",
   "execution_count": 12,
   "metadata": {
    "collapsed": true
   },
   "outputs": [],
   "source": [
    "def normalize(data):\n",
    "    data = data * 2.0\n",
    "    data = data / 255.0\n",
    "    data = data - 1.0\n",
    "    return data\n",
    "\n",
    "def denormalize(data):\n",
    "    data = data + 1.0\n",
    "    data = data * 255.0\n",
    "    data = data / 2.0\n",
    "    return data"
   ]
  },
  {
   "cell_type": "code",
   "execution_count": 13,
   "metadata": {
    "collapsed": false
   },
   "outputs": [
    {
     "name": "stdout",
     "output_type": "stream",
     "text": [
      "35\n"
     ]
    }
   ],
   "source": [
    "c = 0\n",
    "for p in train_pairs:\n",
    "    if p[0] == 12 and p[1] == 0:\n",
    "        c += 1\n",
    "print(c)"
   ]
  },
  {
   "cell_type": "code",
   "execution_count": 14,
   "metadata": {
    "collapsed": true
   },
   "outputs": [],
   "source": [
    "#pairs (index_no, input, output)\n",
    "def get_batch_data(pairs, train=True):\n",
    "    l = train_models_len if train else test_models_len\n",
    "    d = dataset_train if train else dataset_test\n",
    "    i, ip, op = 0, 1, 2\n",
    "    batch, batch_labels, pose = [], [], []\n",
    "    for p in pairs:\n",
    "        ip_index = (p[i] * total_azimuth_angles) + p[1]\n",
    "        batch.append(d[ip_index])\n",
    "        \n",
    "        op_index = (p[i] * total_azimuth_angles) + p[2]\n",
    "        batch_labels.append(d[op_index])\n",
    "        \n",
    "        cur_pose =  np.zeros(36, dtype='uint8')\n",
    "        cur_pose[(p[2] - p[1]) % total_azimuth_angles] = 1\n",
    "        pose.append(np.broadcast_to(cur_pose,(pose_w, pose_h, pose_d)))\n",
    "        \n",
    "    batch = np.array(batch, dtype=np.float64)\n",
    "    batch_labels = np.array(batch_labels, dtype=np.float64)\n",
    "    pose = np.array(pose, dtype=np.float64)\n",
    "    \n",
    "    #normalize\n",
    "    batch = normalize(batch)\n",
    "    batch_labels =  normalize(batch_labels)\n",
    "    \n",
    "    return batch,batch_labels,pose\n",
    "\n",
    "batch, batch_labels, pose_labels = get_batch_data(test_pairs[35*36:36*36], False)"
   ]
  },
  {
   "cell_type": "code",
   "execution_count": 15,
   "metadata": {
    "collapsed": false
   },
   "outputs": [
    {
     "name": "stdout",
     "output_type": "stream",
     "text": [
      "(36, 64, 64, 3) (36, 64, 64, 3) (36, 4, 4, 36)\n",
      "[ 0.  0.  1.  0.  0.  0.  0.  0.  0.  0.  0.  0.  0.  0.  0.  0.  0.  0.\n",
      "  0.  0.  0.  0.  0.  0.  0.  0.  0.  0.  0.  0.  0.  0.  0.  0.  0.  0.]\n",
      "<class 'numpy.float64'>\n",
      "1.0 -1.0\n"
     ]
    },
    {
     "data": {
      "image/png": "[encoded data removed]",
      "text/plain": [
       "<matplotlib.figure.Figure at 0x7f56221d5d68>"
      ]
     },
     "metadata": {},
     "output_type": "display_data"
    },
    {
     "data": {
      "image/png": "[encoded data removed]",
      "text/plain": [
       "<matplotlib.figure.Figure at 0x7f5622197f60>"
      ]
     },
     "metadata": {},
     "output_type": "display_data"
    }
   ],
   "source": [
    "print(batch.shape, batch_labels.shape, pose_labels.shape)\n",
    "\n",
    "t = 13\n",
    "print(pose_labels[t][0][0])\n",
    "\n",
    "print(type(batch_labels[t][0][0][0]))\n",
    "\n",
    "print(np.max((batch[t])), np.min((batch[t])))\n",
    "\n",
    "plt.imshow(denormalize(batch[t]) / 255)\n",
    "plt.show()\n",
    "plt.imshow(denormalize(batch_labels[t]) / 255)\n",
    "plt.show()\n"
   ]
  },
  {
   "cell_type": "code",
   "execution_count": 16,
   "metadata": {
    "collapsed": true
   },
   "outputs": [],
   "source": [
    "def lrelu(x, leak=0.2, name=\"lrelu\"):\n",
    "    with tf.variable_scope(name):\n",
    "        f1 = 0.5 * (1 + leak)\n",
    "        f2 = 0.5 * (1 - leak)\n",
    "        return f1 * x + f2 * abs(x)\n",
    "\n",
    "\n",
    "def conv2d(input, output, kernel_h=3, kernel_w=3, k_stride=2, scope_name=\"conv2d\", act=lrelu):\n",
    "    #act = tf.nn.leaky_relu\n",
    "    with tf.variable_scope(scope_name):\n",
    "        return layers.conv2d(inputs=input, num_outputs=output, kernel_size=[kernel_h, kernel_w], stride=k_stride, activation_fn=act,\n",
    "         #biases_initializer=tf.zeros_initializer(), weights_initializer=tf.random_normal_initializer(0.0, 0.02))\n",
    "         biases_initializer=tf.zeros_initializer(), weights_initializer=tf.contrib.layers.xavier_initializer())\n",
    "    \n",
    "def deconv2d(input, kernel_size, stride, num_filter, scope_name='deconv2d', act=lrelu):\n",
    "    with tf.variable_scope(scope_name): \n",
    "        stride_shape = [stride, stride]\n",
    "        kernel_shape = [kernel_size, kernel_size]\n",
    "        return layers.conv2d_transpose(inputs=input, num_outputs=num_filter, stride=stride_shape, kernel_size= kernel_shape,\n",
    "            #padding='SAME', biases_initializer=tf.zeros_initializer(), weights_initializer=tf.random_normal_initializer(0.0, 0.02),\n",
    "            padding='SAME', biases_initializer=tf.zeros_initializer(), weights_initializer=tf.contrib.layers.xavier_initializer(),\n",
    "            activation_fn=act\n",
    "        )\n",
    "\n",
    "def max_pool(input, kernel_size, stride):\n",
    "    ksize = [1, kernel_size, kernel_size, 1]\n",
    "    strides = [1, stride, stride, 1]\n",
    "    return tf.nn.max_pool(input, ksize=ksize, strides=strides, padding='SAME')\n",
    "\n",
    "\n",
    "def batch_norm(inputs_, is_training):\n",
    "    out = tf.contrib.layers.batch_norm(inputs_, decay = 0.99, center = True, scale = True,\n",
    "                                       is_training = is_training, updates_collections = None)\n",
    "    return out\n",
    "\n",
    "def fc(input, num_output, name = 'fc'):\n",
    "    with tf.variable_scope(name):\n",
    "        num_input = input.get_shape()[1]\n",
    "        W = tf.get_variable('w', [num_input, num_output], tf.float32, tf.random_normal_initializer(0.0, 0.02))\n",
    "        b = tf.get_variable('b', [num_output], initializer = tf.constant_initializer(0.0))\n",
    "        return tf.matmul(input, W) + b\n",
    "\n",
    "def l1_loss(inputs_, targets_):\n",
    "    loss = tf.reduce_mean(abs(inputs_ - targets_))\n",
    "    return loss\n",
    "\n",
    "def ce_loss(labels, logits):\n",
    "    loss = tf.nn.sigmoid_cross_entropy_with_logits(labels = labels, logits = logits)\n",
    "    return tf.reduce_mean(loss)\n",
    "\n",
    "def local_moment_loss(pred, gt):\n",
    "    with tf.name_scope('local_moment_loss'):\n",
    "\n",
    "        ksz, kst = 4, 2\n",
    "        local_patch = tf.ones((ksz, ksz, 1, 1))\n",
    "        c = pred.get_shape()[-1]\n",
    "\n",
    "        # Normalize by kernel size\n",
    "        pr_mean = tf.concat([tf.nn.conv2d(x, local_patch, strides=[1, kst, kst, 1], padding='VALID') for x in tf.split(pred, c, axis=3)], axis=3)\n",
    "        pr_var = tf.concat([tf.nn.conv2d(tf.square(x), local_patch, strides=[1, kst, kst, 1], padding='VALID') for x in tf.split(pred, c, axis=3)], axis=3)\n",
    "        pr_var = (pr_var - tf.square(pr_mean)/(ksz**2)) / (ksz ** 2)\n",
    "        pr_mean = pr_mean / (ksz ** 2)\n",
    "\n",
    "        gt_mean = tf.concat([tf.nn.conv2d(x, local_patch, strides=[1, kst, kst, 1], padding='VALID') for x in tf.split(gt, c, axis=3)], axis=3)\n",
    "        gt_var = tf.concat([tf.nn.conv2d(tf.square(x), local_patch, strides=[1, kst, kst, 1], padding='VALID') for x in tf.split(gt, c, axis=3)], axis=3)\n",
    "        gt_var = (gt_var - tf.square(gt_mean)/(ksz**2)) / (ksz ** 2)\n",
    "        gt_mean = gt_mean / (ksz ** 2)\n",
    "\n",
    "        # scaling by local patch size\n",
    "        local_mean_loss = tf.reduce_mean(tf.abs(pr_mean - gt_mean))\n",
    "        local_var_loss = tf.reduce_mean(tf.abs(pr_var - gt_var))\n",
    "    return local_mean_loss + local_var_loss\n",
    "    "
   ]
  },
  {
   "cell_type": "code",
   "execution_count": 17,
   "metadata": {
    "collapsed": true
   },
   "outputs": [],
   "source": [
    "tf.reset_default_graph()"
   ]
  },
  {
   "cell_type": "code",
   "execution_count": 18,
   "metadata": {
    "collapsed": false
   },
   "outputs": [],
   "source": [
    "batch_size = 36\n",
    "# tf Graph input (only pictures)\n",
    "inputs_ = tf.placeholder(tf.float32, (batch_size, 64,64,3), name=\"input\")\n",
    "targets_ = tf.placeholder(tf.float32, (batch_size, 64,64,3), name=\"target\")\n",
    "pose_ = tf.placeholder(tf.float32, (batch_size, pose_w, pose_h, pose_d), name=\"pose\")\n",
    "\n",
    "disc_inputs = tf.placeholder(tf.float32, (batch_size, 64,64,3), name=\"input\")\n",
    "\n",
    "real_label = tf.placeholder(tf.float32, [batch_size, 1])\n",
    "fake_label = tf.placeholder(tf.float32, [batch_size, 1])"
   ]
  },
  {
   "cell_type": "code",
   "execution_count": 19,
   "metadata": {
    "collapsed": true
   },
   "outputs": [],
   "source": [
    "ae_reuse= False\n",
    "disc_reuse = False\n",
    "\n",
    "#https://github.com/skaae/vaeblog\n",
    "\n",
    "def auto_encoder(inputs_, pose_):\n",
    "    global ae_reuse\n",
    "    with tf.variable_scope('encoder', reuse=ae_reuse):\n",
    "        ae_reuse = True\n",
    "        _ = conv2d(inputs_, output=32 ,kernel_h=3, kernel_w=3, k_stride=2, scope_name=\"conv1\",act=lrelu)\n",
    "        _ = batch_norm(_, True)\n",
    "        _ = conv2d(_, output=48 ,kernel_h=3, kernel_w=3, k_stride=2, scope_name=\"conv2\",act=lrelu)\n",
    "        _ = batch_norm(_, True)\n",
    "        _ = conv2d(_, output=64 ,kernel_h=3, kernel_w=3, k_stride=2, scope_name=\"conv3\",act=lrelu)\n",
    "        _ = batch_norm(_, True)\n",
    "        _ = conv2d(_, output=92 ,kernel_h=3, kernel_w=3, k_stride=2, scope_name=\"conv4\",act=lrelu)\n",
    "        _ = tf.concat([pose_, _], 3)\n",
    "       \n",
    "\n",
    "        _ = deconv2d(_, kernel_size=3, stride=2, num_filter=64, scope_name='deconv1',act=lrelu)\n",
    "        _ = deconv2d(_, kernel_size=3, stride=2, num_filter=32, scope_name='deconv2',act=lrelu)\n",
    "        _ = deconv2d(_, kernel_size=3, stride=2, num_filter=16, scope_name='deconv3',act=lrelu)\n",
    "        _ = deconv2d(_, kernel_size=3, stride=2, num_filter=3, scope_name='deconv4',act=None)\n",
    "        print(\"O1\", _.get_shape())\n",
    "        _ = tf.nn.tanh(_)\n",
    "    return _ \n",
    "    \n",
    "    \n",
    "# discriminator should give a fc layer\n",
    "# No batch norm layer\n",
    "def discriminator(inputs_):\n",
    "    global disc_reuse \n",
    "    with tf.variable_scope('dis', reuse=disc_reuse):\n",
    "        disc_reuse = True\n",
    "        \n",
    "        _ = conv2d(inputs_, output=32 ,kernel_h=5, kernel_w=5, k_stride=2, scope_name=\"dis_conv1\", act=lrelu)\n",
    "        print(_.get_shape())\n",
    "        _ = conv2d(_, output=64 ,kernel_h=5, kernel_w=5, k_stride=2, scope_name=\"dis_conv2\", act=lrelu)\n",
    "        _ = tf.nn.dropout(_, keep_prob = 0.5, name='dis_drop_1')\n",
    "        _ = conv2d(_, output=96 ,kernel_h=5, kernel_w=5, k_stride=2, scope_name=\"dis_conv3\", act=lrelu)\n",
    "        _ = tf.nn.dropout(_, keep_prob = 0.5, name='dis_drop_2')\n",
    "        _ = tf.reshape(_, [-1, 8 * 8 * 96])        \n",
    "        _ = fc(_, 1, 'dis_fc1')\n",
    "        o1 = tf.nn.sigmoid(_)\n",
    "        o2 = _\n",
    "        return o1, o2\n"
   ]
  },
  {
   "cell_type": "code",
   "execution_count": 20,
   "metadata": {
    "collapsed": true
   },
   "outputs": [],
   "source": [
    "global_step = tf.Variable(0,trainable=False)\n",
    "lr = 5e-4"
   ]
  },
  {
   "cell_type": "code",
   "execution_count": 21,
   "metadata": {
    "collapsed": false
   },
   "outputs": [
    {
     "name": "stdout",
     "output_type": "stream",
     "text": [
      "O1 (36, 64, 64, 3)\n",
      "O1 (36, 64, 64, 3)\n",
      "(36, 32, 32, 32)\n",
      "(36, 32, 32, 32)\n",
      "(36, 32, 32, 32)\n"
     ]
    }
   ],
   "source": [
    "alpha = 0.2 #0.2\n",
    "beta = 1.0 #1.0\n",
    "\n",
    "\n",
    "\n",
    "generated_images = auto_encoder(inputs_, pose_)\n",
    "noise = np.random.normal(0, 0.2, inputs_.get_shape()).astype(np.float32)\n",
    "generated_noise = auto_encoder(noise, pose_)\n",
    "\n",
    "dreal, dreal_logits = discriminator(disc_inputs)\n",
    "dfake, dfake_logits = discriminator(generated_images)\n",
    "dnoise, dnoise_logits = discriminator(generated_noise)\n",
    "\n",
    "\n",
    "dreal_labels = tf.zeros_like(dreal, dtype=tf.float32)\n",
    "dfake_labels = 0.98 * tf.ones_like(dfake, dtype=tf.float32)\n",
    "\n",
    "dreal_loss = ce_loss(dreal_labels, dreal_logits) #+ 0.2 * ce_loss(dfake_labels, dnoise_logits)\n",
    "dfake_loss = ce_loss(dfake_labels, dfake_logits)# + \n",
    "dis_loss_op = dreal_loss + dfake_loss \n",
    "\n",
    "\n",
    "#gan_loss = alpha * ce_loss(tf.zeros_like(dfake), dfake_logits)\n",
    "gan_loss = alpha * ce_loss(tf.ones_like(dfake), dfake_logits)\n",
    "supervised_loss = beta * l1_loss(generated_images, targets_)\n",
    "#supervised_loss = beta * local_moment_loss(generated_images, targets_)\n",
    "gen_loss_op = gan_loss + supervised_loss\n",
    "\n",
    "\n",
    "# Build Loss\n",
    "#gen_loss_op = -tf.reduce_mean(tf.log(dis_fake_samples_op))\n",
    "#dis_loss_op = -tf.reduce_mean(tf.log(dis_real_samples_op) + tf.log(1. - dis_fake_samples_op))\n",
    "\n",
    "# Build Optimizers\n",
    "#optimizer_gen = tf.train.AdamOptimizer(learning_rate=learning_rate)\n",
    "#optimizer_disc = tf.train.AdamOptimizer(learning_rate=learning_rate)\n",
    "\n",
    "\n"
   ]
  },
  {
   "cell_type": "code",
   "execution_count": 22,
   "metadata": {
    "collapsed": false
   },
   "outputs": [],
   "source": [
    "disriminator_vars = tf.get_collection(tf.GraphKeys.GLOBAL_VARIABLES, 'dis')\n",
    "generator_vars = tf.get_collection(tf.GraphKeys.GLOBAL_VARIABLES, 'encoder')\n",
    "#print (generator_vars)\n",
    "#dis_optimizer = tf.train.RMSPropOptimizer(lr)\n",
    "#dis_train_op = dis_optimizer.minimize(dis_loss_op, var_list=disriminator_vars)\n",
    "#gen_optimizer = tf.train.RMSPropOptimizer(lr)\n",
    "#gen_train_op = gen_optimizer.minimize(gen_loss_op, var_list=generator_vars)\n",
    "\n",
    "\n",
    "#dis_optimizer = tf.train.AdamOptimizer(learning_rate=lr)\n",
    "#dis_train_op = dis_optimizer.minimize(dis_loss_op, var_list=disriminator_vars)\n",
    "#gen_optimizer = tf.train.AdamOptimizer(learning_rate=lr)\n",
    "#gen_train_op = gen_optimizer.minimize(gen_loss_op, var_list=generator_vars)\n",
    "dlr = 1e-5#1e-4\n",
    "glr = 5e-5#5e-4\n",
    "\n",
    "#dis_optimizer = tf.train.AdamOptimizer(dlr)\n",
    "#dis_train_op = dis_optimizer.minimize(dis_loss_op, var_list=disriminator_vars)\n",
    "\n",
    "#gen_optimizer = tf.train.AdamOptimizer(glr)\n",
    "#gen_train_op = gen_optimizer.minimize(gen_loss_op, var_list=generator_vars)\n",
    "\n",
    "'''\n",
    "dis_optimizer = tf.train.AdamOptimizer(learning_rate=dlr)\n",
    "gvs = dis_optimizer.compute_gradients(dis_loss_op, var_list=generator_vars)\n",
    "gcapped_gvs = [(tf.clip_by_value(grad, -10.0, 10.0), var) for grad, var in gvs]\n",
    "dis_train_op = dis_optimizer.apply_gradients(gcapped_gvs)\n",
    "\n",
    "\n",
    "gen_optimizer = tf.train.AdamOptimizer(learning_rate=glr)\n",
    "gvs = gen_optimizer.compute_gradients(dis_loss_op, var_list=disriminator_vars)\n",
    "dcapped_gvs = [(tf.clip_by_value(grad, -10.0, 10.0), var) for grad, var in gvs]\n",
    "dis_train_op = dis_optimizer.apply_gradients(dcapped_gvs)\n",
    "'''\n",
    "\n",
    "\n",
    "dis_optimizer = tf.train.AdamOptimizer(learning_rate=dlr)\n",
    "dgradients, dvariables = zip(*dis_optimizer.compute_gradients(dis_loss_op, var_list=disriminator_vars))\n",
    "dgradients, _ = tf.clip_by_global_norm(dgradients, 5.0)\n",
    "dis_train_op = dis_optimizer.apply_gradients(zip(dgradients, dvariables))\n",
    "\n",
    "\n",
    "gen_optimizer = tf.train.AdamOptimizer(learning_rate=glr)\n",
    "ggradients, gvariables = zip(*gen_optimizer.compute_gradients(gen_loss_op, var_list=generator_vars))\n",
    "ggradients, _ = tf.clip_by_global_norm(ggradients, 5.0)\n",
    "gen_train_op = gen_optimizer.apply_gradients(zip(ggradients, gvariables))\n",
    "\n",
    "\n",
    "\n",
    "\n",
    "\n"
   ]
  },
  {
   "cell_type": "code",
   "execution_count": null,
   "metadata": {
    "collapsed": false,
    "scrolled": false
   },
   "outputs": [],
   "source": [
    "sess = tf.Session()\n",
    "sess.run(tf.global_variables_initializer())\n",
    "\n",
    "epochs = 1\n",
    "total_images = len(train_pairs)\n",
    "step = 0\n",
    "\n",
    "r = total_images // batch_size\n",
    "l = len(dataset_train) // batch_size\n",
    "\n",
    "dis_losses = []\n",
    "gen_losses = []\n",
    "\n",
    "\n",
    "\n",
    "\n",
    "'''\n",
    "local margin = 0.3\n",
    "     sgdState_D.optimize = true\n",
    "     sgdState_G.optimize = true\n",
    "if err_F < margin or err_R < margin then\n",
    "     sgdState_D.optimize = false\n",
    "end\n",
    "if err_F > (1.0-margin) or err_R > (1.0-margin) then\n",
    "     sgdState_G.optimize = false\n",
    "end\n",
    "if sgdState_G.optimize == false and sgdState_D.optimize == false then\n",
    "     sgdState_G.optimize = true\n",
    "     sgdState_D.optimize = true\n",
    "end\n",
    "'''\n",
    "\n",
    "\n",
    "real_m, fake_m = 0.2, 0.2\n",
    "margin = 0.2 #(0.1*0.3 + 0.1 = 0.13)\n",
    "doptim, goptim = True, True\n",
    "_fake, _real = 0.5, 0.5\n",
    "gen_loss = 1.0\n",
    "dis_los = 0.5\n",
    "\n",
    "gen_gan_t = 0.065\n",
    "gan = 1.0\n",
    "\n",
    "g_threshold = 0.13\n",
    "\n",
    "\n",
    "\n",
    "for epoch in range(epochs):\n",
    "    for ii in range(r):\n",
    "        step += 1\n",
    "        #zeros = np.zeros([batch_size, 1])* ((np.random.random_sample() *0.4) - 0.2)\n",
    "        zeros = np.zeros([batch_size, 1])\n",
    "        ones = np.ones([batch_size, 1]) * ((np.random.random_sample() *0.5) + 0.7)\n",
    "        \n",
    "        d_pairs = train_pairs[ii*batch_size : (ii+1)*batch_size]\n",
    "        batch, batch_labels, pose_labels = get_batch_data(d_pairs)\n",
    "\n",
    "        \n",
    "        k = np.random.randint(1,l-1)\n",
    "        d_inputs = dataset_train[k*batch_size : (k+1)*batch_size]\n",
    "        \n",
    "        feed_dict = {inputs_: batch, targets_: batch_labels, pose_: pose_labels,\n",
    "                    fake_label: zeros, real_label: ones, disc_inputs: d_inputs}\n",
    "        fetch_val = [gen_loss_op, dis_loss_op, dreal_loss, dfake_loss, gan_loss, supervised_loss]\n",
    "            \n",
    "        #if _fake > (1.0 - fake_m) or _real > (1.0 - real_m):\n",
    "        #    goptim = False\n",
    "        '''\n",
    "        if gen_loss > margin:\n",
    "            goptim = True\n",
    "        \n",
    "        if _fake < fake_m or _real < real_m:\n",
    "            doptim = False\n",
    "            \n",
    "        if goptim == False and doptim == False:\n",
    "            goptim, doptim = True, True\n",
    "            \n",
    "        if goptim == True and doptim == True: #biased towards generator\n",
    "            goptim = True\n",
    "        '''\n",
    "        \n",
    "        #if gen_loss < 0.34:\n",
    "        #    goptim = False\n",
    "            \n",
    "        #if gen_loss > margin\n",
    "        \n",
    "        if _real < real_m or _fake < fake_m or dis_los < margin:\n",
    "            doptim = False\n",
    "            \n",
    "        #if gen_loss < (g_threshold):\n",
    "        #    goptim = False\n",
    "        \n",
    "        if gan < gen_gan_t:\n",
    "            goptim = False\n",
    "            \n",
    "        if goptim == False and doptim == False:\n",
    "            goptim, doptim = True, True\n",
    "        \n",
    "        if goptim: # biased towards generator\n",
    "            fetch_val.append(gen_train_op)\n",
    "        else:\n",
    "            fetch_val.append(dis_train_op) \n",
    "        \n",
    "        \n",
    "        gen_loss, dis_loss, _real, _fake, gan, superl,_ = sess.run(fetch_val, feed_dict = feed_dict)\n",
    "        '''\n",
    "        feed_dict = {inputs_: batch, targets_: batch_labels, pose_: pose_labels,\n",
    "                    fake_label: zeros, real_label: ones, disc_inputs: d_inputs}\n",
    "        fetch_val = [gen_loss_op, dis_loss_op, dreal_loss, dfake_loss]\n",
    "        \n",
    "        k = prevd < dthresh\n",
    "        \n",
    "        if (step % 5) or k:\n",
    "            fetch_val.append(gen_train_op)\n",
    "        else:\n",
    "            fetch_val.append(dis_train_op)        \n",
    "        \n",
    "        gen_loss, dis_loss, _real, _fake, _ = sess.run(fetch_val, feed_dict = feed_dict)\n",
    "        prevd = dis_loss\n",
    "        \n",
    "        #plot_dis_s = plot_dis_s * smooth_factor + dis_loss * (1 - smooth_factor)\n",
    "        #plot_gen_s = plot_gen_s * smooth_factor + gen_loss * (1 - smooth_factor)\n",
    "        #plot_ws = plot_ws * smooth_factor + (1 - smooth_factor)\n",
    "        '''\n",
    "        dis_losses.append(dis_loss)\n",
    "        gen_losses.append(gen_loss)\n",
    "        \n",
    "        #print(goptim, doptim)\n",
    "\n",
    "        if step % 100 == 0:\n",
    "            print('Step {0}: dloss = {1:.4f}, gloss = {2:.4f}, real_loss = {3:.4f}, fake_loss = {4:.4f}, gan_loss = {5:.4f} l1_loss = {6:.4f}'.format(step, dis_loss, gen_loss, _real, _fake, gan, superl))\n",
    "            \n",
    "    print('Epoch {0}: dis loss = {1:.4f}, gen loss = {2:.4f}, real_label_loss = {3:.4f}, fake_label_loss = {4:.4f}'.format(epoch, dis_loss, gen_loss, _real, _fake))\n",
    "    plt.plot(dis_losses)\n",
    "    plt.title('discriminator loss')\n",
    "    plt.xlabel('iterations')\n",
    "    plt.ylabel('loss')\n",
    "    plt.show()\n",
    "\n",
    "    plt.plot(gen_losses)\n",
    "    plt.title('generator loss')\n",
    "    plt.xlabel('iterations')\n",
    "    plt.ylabel('loss')\n",
    "    plt.show()"
   ]
  },
  {
   "cell_type": "code",
   "execution_count": null,
   "metadata": {
    "collapsed": false
   },
   "outputs": [],
   "source": [
    "dis_var_list = tf.get_collection(tf.GraphKeys.GLOBAL_VARIABLES, 'dis')\n",
    "gen_var_list = tf.get_collection(tf.GraphKeys.GLOBAL_VARIABLES, 'encoder')\n",
    "saver = tf.train.Saver(dis_var_list + gen_var_list)\n",
    "saver.save(sess, 'model/dcgan_pose_car_op_one_pose')"
   ]
  },
  {
   "cell_type": "code",
   "execution_count": null,
   "metadata": {
    "collapsed": true
   },
   "outputs": [],
   "source": [
    "d_pairs = test_pairs[5 * batch_size : 6 * batch_size]\n",
    "test_batch, test_labels, test_pose = get_batch_data(d_pairs, False)"
   ]
  },
  {
   "cell_type": "code",
   "execution_count": null,
   "metadata": {
    "collapsed": true
   },
   "outputs": [],
   "source": [
    "feed_dict = { inputs_: test_batch, pose_: test_pose}\n",
    "op = sess.run([generated_images], feed_dict = feed_dict)"
   ]
  },
  {
   "cell_type": "code",
   "execution_count": null,
   "metadata": {
    "collapsed": true
   },
   "outputs": [],
   "source": [
    "j = 20\n",
    "op = denormalize(op[0])\n",
    "\n"
   ]
  },
  {
   "cell_type": "code",
   "execution_count": null,
   "metadata": {
    "collapsed": false
   },
   "outputs": [],
   "source": [
    "#op = op.astype(np.uint8)\n",
    "print(np.min(op), np.max(op))\n",
    "#print(np.where(op < -0.00001 ))\n",
    "\n",
    "#print(op[0][0][59])"
   ]
  },
  {
   "cell_type": "code",
   "execution_count": null,
   "metadata": {
    "collapsed": true
   },
   "outputs": [],
   "source": [
    "op = np.where(op < 0.0,0.0, op)"
   ]
  },
  {
   "cell_type": "code",
   "execution_count": null,
   "metadata": {
    "collapsed": false
   },
   "outputs": [],
   "source": [
    "print(np.min(op), np.max(op))"
   ]
  },
  {
   "cell_type": "code",
   "execution_count": null,
   "metadata": {
    "collapsed": false
   },
   "outputs": [],
   "source": [
    "for j in range(batch_size):\n",
    "    tmp = op[j]\n",
    "    plt.imshow(tmp / 255)\n",
    "    plt.show()\n",
    "\n",
    "    plt.imshow(denormalize(test_batch[j])/255)\n",
    "    plt.show()\n",
    "\n",
    "    plt.imshow(denormalize(test_labels[j])/255)\n",
    "    plt.show()"
   ]
  },
  {
   "cell_type": "code",
   "execution_count": null,
   "metadata": {
    "collapsed": true
   },
   "outputs": [],
   "source": []
  },
  {
   "cell_type": "code",
   "execution_count": null,
   "metadata": {
    "collapsed": true
   },
   "outputs": [],
   "source": []
  },
  {
   "cell_type": "code",
   "execution_count": null,
   "metadata": {
    "collapsed": true
   },
   "outputs": [],
   "source": []
  }
 ],
 "metadata": {
  "kernelspec": {
   "display_name": "Python 3",
   "language": "python",
   "name": "python3"
  },
  "language_info": {
   "codemirror_mode": {
    "name": "ipython",
    "version": 3
   },
   "file_extension": ".py",
   "mimetype": "text/x-python",
   "name": "python",
   "nbconvert_exporter": "python",
   "pygments_lexer": "ipython3",
   "version": "3.5.2"
  }
 },
 "nbformat": 4,
 "nbformat_minor": 1
}
