{
 "cells": [
  {
   "cell_type": "code",
   "execution_count": 1,
   "metadata": {
    "collapsed": true
   },
   "outputs": [],
   "source": [
    "%matplotlib inline\n",
    "import matplotlib\n",
    "import tensorflow as tf\n",
    "import numpy as np\n",
    "import matplotlib.pyplot as plt\n",
    "from scipy import misc\n",
    "from scipy import ndimage\n",
    "import os\n",
    "from matplotlib.pyplot import imshow\n",
    "import matplotlib.image as mpimg\n",
    "from sklearn.utils import shuffle\n",
    "import tensorflow.contrib.layers as layers\n",
    "import tensorflow.contrib.slim as slim\n",
    "from random import shuffle"
   ]
  },
  {
   "cell_type": "code",
   "execution_count": 2,
   "metadata": {
    "collapsed": true
   },
   "outputs": [],
   "source": [
    "total_azimuth_angles = 36\n",
    "train_split = 0.8\n",
    "image_H, image_W, image_D = 64,64,3\n",
    "pose_w, pose_h, pose_d = 4,4,36"
   ]
  },
  {
   "cell_type": "code",
   "execution_count": 3,
   "metadata": {
    "collapsed": true
   },
   "outputs": [],
   "source": [
    "dataset = np.load('../datasets/car_64.npy')\n"
   ]
  },
  {
   "cell_type": "code",
   "execution_count": 4,
   "metadata": {
    "collapsed": false
   },
   "outputs": [
    {
     "name": "stdout",
     "output_type": "stream",
     "text": [
      "1553596416\n"
     ]
    },
    {
     "data": {
      "image/png": "[encoded data removed]",
      "text/plain": [
       "<matplotlib.figure.Figure at 0x7fd1bfe9ae10>"
      ]
     },
     "metadata": {},
     "output_type": "display_data"
    }
   ],
   "source": [
    "print(dataset.nbytes)\n",
    "plt.imshow(dataset[711]/255)\n",
    "plt.show()"
   ]
  },
  {
   "cell_type": "code",
   "execution_count": 5,
   "metadata": {
    "collapsed": false
   },
   "outputs": [
    {
     "name": "stdout",
     "output_type": "stream",
     "text": [
      "3512 2809 703\n"
     ]
    }
   ],
   "source": [
    " \n",
    "total_models = dataset.shape[0] // total_azimuth_angles\n",
    "\n",
    "\n",
    "train_models_len = int(total_models * train_split)\n",
    "test_models_len = total_models - train_models_len\n",
    "\n",
    "print(total_models,train_models_len,test_models_len)"
   ]
  },
  {
   "cell_type": "code",
   "execution_count": 6,
   "metadata": {
    "collapsed": false
   },
   "outputs": [
    {
     "name": "stdout",
     "output_type": "stream",
     "text": [
      "(25308, 64, 64, 3)\n",
      "(101124, 64, 64, 3)\n"
     ]
    }
   ],
   "source": [
    "dataset_train = dataset[:train_models_len*total_azimuth_angles]\n",
    "dataset_test = dataset[train_models_len*total_azimuth_angles:]\n",
    "\n",
    "print(dataset_test.shape)\n",
    "print(dataset_train.shape)"
   ]
  },
  {
   "cell_type": "code",
   "execution_count": 7,
   "metadata": {
    "collapsed": false
   },
   "outputs": [
    {
     "data": {
      "text/plain": [
       "1242611712"
      ]
     },
     "execution_count": 7,
     "metadata": {},
     "output_type": "execute_result"
    }
   ],
   "source": [
    "del dataset\n",
    "dataset_train.nbytes"
   ]
  },
  {
   "cell_type": "code",
   "execution_count": 8,
   "metadata": {
    "collapsed": false
   },
   "outputs": [
    {
     "data": {
      "image/png": "[encoded data removed]",
      "text/plain": [
       "<matplotlib.figure.Figure at 0x7fd1bfe9ad68>"
      ]
     },
     "metadata": {},
     "output_type": "display_data"
    },
    {
     "data": {
      "image/png": "[encoded data removed]",
      "text/plain": [
       "<matplotlib.figure.Figure at 0x7fd161439780>"
      ]
     },
     "metadata": {},
     "output_type": "display_data"
    }
   ],
   "source": [
    "plt.imshow(dataset_train[1023]/255)\n",
    "plt.show()\n",
    "plt.imshow(dataset_test[1023]/255)\n",
    "plt.show()"
   ]
  },
  {
   "cell_type": "code",
   "execution_count": 9,
   "metadata": {
    "collapsed": true
   },
   "outputs": [],
   "source": [
    "train_pairs = []\n",
    "start_pose = [0]\n",
    "for i in range(train_models_len):\n",
    "    for j in start_pose:\n",
    "        for k in range(total_azimuth_angles):\n",
    "            if j != k:\n",
    "                train_pairs.append((i,j,k))\n",
    "                \n",
    "test_pairs = []\n",
    "start_pose = [0]\n",
    "for i in range(test_models_len):\n",
    "    for j in start_pose:\n",
    "        for k in range(total_azimuth_angles):\n",
    "            if j != k:\n",
    "                test_pairs.append((i,j,k))\n"
   ]
  },
  {
   "cell_type": "code",
   "execution_count": 10,
   "metadata": {
    "collapsed": false
   },
   "outputs": [
    {
     "name": "stdout",
     "output_type": "stream",
     "text": [
      "(1, 0, 1)\n",
      "(1, 0, 1)\n",
      "(233, 0, 27)\n",
      "(675, 0, 28)\n"
     ]
    }
   ],
   "source": [
    "print(train_pairs[35])\n",
    "print(test_pairs[35])\n",
    "shuffle(train_pairs)\n",
    "shuffle(test_pairs)\n",
    "print(train_pairs[35])\n",
    "print(test_pairs[35])"
   ]
  },
  {
   "cell_type": "code",
   "execution_count": 11,
   "metadata": {
    "collapsed": false
   },
   "outputs": [
    {
     "name": "stdout",
     "output_type": "stream",
     "text": [
      "(602, 0, 35)\n",
      "(57, 0, 22)\n",
      "98315\n"
     ]
    },
    {
     "data": {
      "image/png": "[encoded data removed]",
      "text/plain": [
       "<matplotlib.figure.Figure at 0x7fd16144f438>"
      ]
     },
     "metadata": {},
     "output_type": "display_data"
    },
    {
     "data": {
      "image/png": "[encoded data removed]",
      "text/plain": [
       "<matplotlib.figure.Figure at 0x7fd160b0dd68>"
      ]
     },
     "metadata": {},
     "output_type": "display_data"
    }
   ],
   "source": [
    "print(train_pairs[0])\n",
    "print(test_pairs[0])\n",
    "\n",
    "print(len(train_pairs))\n",
    "\n",
    "i = dataset_train[(10*36) + 27]\n",
    "j = dataset_train[(10*36) + 5]\n",
    "plt.imshow(i/255)\n",
    "plt.show()\n",
    "plt.imshow(j/255)\n",
    "plt.show()"
   ]
  },
  {
   "cell_type": "code",
   "execution_count": 12,
   "metadata": {
    "collapsed": true
   },
   "outputs": [],
   "source": [
    "def normalize(data):\n",
    "    data = data * 2.0\n",
    "    data = data / 255.0\n",
    "    data = data - 1.0\n",
    "    return data\n",
    "\n",
    "def denormalize(data):\n",
    "    data = data + 1.0\n",
    "    data = data * 255.0\n",
    "    data = data / 2.0\n",
    "    return data"
   ]
  },
  {
   "cell_type": "code",
   "execution_count": 13,
   "metadata": {
    "collapsed": false
   },
   "outputs": [
    {
     "name": "stdout",
     "output_type": "stream",
     "text": [
      "35\n"
     ]
    }
   ],
   "source": [
    "c = 0\n",
    "for p in train_pairs:\n",
    "    if p[0] == 12 and p[1] == 0:\n",
    "        c += 1\n",
    "print(c)"
   ]
  },
  {
   "cell_type": "code",
   "execution_count": 14,
   "metadata": {
    "collapsed": true
   },
   "outputs": [],
   "source": [
    "#pairs (index_no, input, output)\n",
    "def get_batch_data(pairs, train=True):\n",
    "    l = train_models_len if train else test_models_len\n",
    "    d = dataset_train if train else dataset_test\n",
    "    i, ip, op = 0, 1, 2\n",
    "    batch, batch_labels, pose = [], [], []\n",
    "    for p in pairs:\n",
    "        ip_index = (p[i] * total_azimuth_angles) + p[1]\n",
    "        batch.append(d[ip_index])\n",
    "        \n",
    "        op_index = (p[i] * total_azimuth_angles) + p[2]\n",
    "        batch_labels.append(d[op_index])\n",
    "        \n",
    "        cur_pose =  np.zeros(36, dtype='uint8')\n",
    "        cur_pose[(p[2] - p[1]) % total_azimuth_angles] = 1\n",
    "        pose.append(np.broadcast_to(cur_pose,(pose_w, pose_h, pose_d)))\n",
    "        \n",
    "    batch = np.array(batch, dtype=np.float64)\n",
    "    batch_labels = np.array(batch_labels, dtype=np.float64)\n",
    "    pose = np.array(pose, dtype=np.float64)\n",
    "    \n",
    "    #normalize\n",
    "    batch = normalize(batch)\n",
    "    batch_labels =  normalize(batch_labels)\n",
    "    \n",
    "    return batch,batch_labels,pose\n",
    "\n",
    "batch, batch_labels, pose_labels = get_batch_data(test_pairs[35*36:36*36], False)"
   ]
  },
  {
   "cell_type": "code",
   "execution_count": 15,
   "metadata": {
    "collapsed": false
   },
   "outputs": [
    {
     "name": "stdout",
     "output_type": "stream",
     "text": [
      "(36, 64, 64, 3) (36, 64, 64, 3) (36, 4, 4, 36)\n",
      "[ 0.  0.  0.  1.  0.  0.  0.  0.  0.  0.  0.  0.  0.  0.  0.  0.  0.  0.\n",
      "  0.  0.  0.  0.  0.  0.  0.  0.  0.  0.  0.  0.  0.  0.  0.  0.  0.  0.]\n",
      "<class 'numpy.float64'>\n",
      "1.0 -1.0\n"
     ]
    },
    {
     "data": {
      "image/png": "[encoded data removed]",
      "text/plain": [
       "<matplotlib.figure.Figure at 0x7fd160afe7f0>"
      ]
     },
     "metadata": {},
     "output_type": "display_data"
    },
    {
     "data": {
      "image/png": "[encoded data removed]",
      "text/plain": [
       "<matplotlib.figure.Figure at 0x7fd160a93e48>"
      ]
     },
     "metadata": {},
     "output_type": "display_data"
    }
   ],
   "source": [
    "print(batch.shape, batch_labels.shape, pose_labels.shape)\n",
    "\n",
    "t = 13\n",
    "print(pose_labels[t][0][0])\n",
    "\n",
    "print(type(batch_labels[t][0][0][0]))\n",
    "\n",
    "print(np.max((batch[t])), np.min((batch[t])))\n",
    "\n",
    "plt.imshow(denormalize(batch[t]) / 255)\n",
    "plt.show()\n",
    "plt.imshow(denormalize(batch_labels[t]) / 255)\n",
    "plt.show()\n"
   ]
  },
  {
   "cell_type": "code",
   "execution_count": 16,
   "metadata": {
    "collapsed": true
   },
   "outputs": [],
   "source": [
    "def lrelu(x, leak=0.2, name=\"lrelu\"):\n",
    "    with tf.variable_scope(name):\n",
    "        f1 = 0.5 * (1 + leak)\n",
    "        f2 = 0.5 * (1 - leak)\n",
    "        return f1 * x + f2 * abs(x)\n",
    "\n",
    "\n",
    "def conv2d(input, output, kernel_h=3, kernel_w=3, k_stride=2, scope_name=\"conv2d\", act=lrelu):\n",
    "    #act = tf.nn.leaky_relu\n",
    "    with tf.variable_scope(scope_name):\n",
    "        return layers.conv2d(inputs=input, num_outputs=output, kernel_size=[kernel_h, kernel_w], stride=k_stride, activation_fn=act,\n",
    "         #biases_initializer=tf.zeros_initializer(), weights_initializer=tf.random_normal_initializer(0.0, 0.02))\n",
    "         biases_initializer=tf.zeros_initializer(), weights_initializer=tf.contrib.layers.xavier_initializer())\n",
    "    \n",
    "def deconv2d(input, kernel_size, stride, num_filter, scope_name='deconv2d', act=lrelu):\n",
    "    with tf.variable_scope(scope_name): \n",
    "        stride_shape = [stride, stride]\n",
    "        kernel_shape = [kernel_size, kernel_size]\n",
    "        return layers.conv2d_transpose(inputs=input, num_outputs=num_filter, stride=stride_shape, kernel_size= kernel_shape,\n",
    "            #padding='SAME', biases_initializer=tf.zeros_initializer(), weights_initializer=tf.random_normal_initializer(0.0, 0.02),\n",
    "            padding='SAME', biases_initializer=tf.zeros_initializer(), weights_initializer=tf.contrib.layers.xavier_initializer(),\n",
    "            activation_fn=act\n",
    "        )\n",
    "\n",
    "def max_pool(input, kernel_size, stride):\n",
    "    ksize = [1, kernel_size, kernel_size, 1]\n",
    "    strides = [1, stride, stride, 1]\n",
    "    return tf.nn.max_pool(input, ksize=ksize, strides=strides, padding='SAME')\n",
    "\n",
    "\n",
    "def batch_norm(inputs_, is_training):\n",
    "    out = tf.contrib.layers.batch_norm(inputs_, decay = 0.99, center = True, scale = True,\n",
    "                                       is_training = is_training, updates_collections = None)\n",
    "    return out\n",
    "\n",
    "def fc(input, num_output, name = 'fc'):\n",
    "    with tf.variable_scope(name):\n",
    "        num_input = input.get_shape()[1]\n",
    "        W = tf.get_variable('w', [num_input, num_output], tf.float32, tf.random_normal_initializer(0.0, 0.02))\n",
    "        b = tf.get_variable('b', [num_output], initializer = tf.constant_initializer(0.0))\n",
    "        return tf.matmul(input, W) + b\n",
    "\n",
    "def l1_loss(inputs_, targets_):\n",
    "    loss = tf.reduce_mean(abs(inputs_ - targets_))\n",
    "    return loss\n",
    "\n",
    "def ce_loss(labels, logits):\n",
    "    loss = tf.nn.sigmoid_cross_entropy_with_logits(labels = labels, logits = logits)\n",
    "    return tf.reduce_mean(loss)\n",
    "\n",
    "def local_moment_loss(pred, gt):\n",
    "    with tf.name_scope('local_moment_loss'):\n",
    "\n",
    "        ksz, kst = 4, 2\n",
    "        local_patch = tf.ones((ksz, ksz, 1, 1))\n",
    "        c = pred.get_shape()[-1]\n",
    "\n",
    "        # Normalize by kernel size\n",
    "        pr_mean = tf.concat([tf.nn.conv2d(x, local_patch, strides=[1, kst, kst, 1], padding='VALID') for x in tf.split(pred, c, axis=3)], axis=3)\n",
    "        pr_var = tf.concat([tf.nn.conv2d(tf.square(x), local_patch, strides=[1, kst, kst, 1], padding='VALID') for x in tf.split(pred, c, axis=3)], axis=3)\n",
    "        pr_var = (pr_var - tf.square(pr_mean)/(ksz**2)) / (ksz ** 2)\n",
    "        pr_mean = pr_mean / (ksz ** 2)\n",
    "\n",
    "        gt_mean = tf.concat([tf.nn.conv2d(x, local_patch, strides=[1, kst, kst, 1], padding='VALID') for x in tf.split(gt, c, axis=3)], axis=3)\n",
    "        gt_var = tf.concat([tf.nn.conv2d(tf.square(x), local_patch, strides=[1, kst, kst, 1], padding='VALID') for x in tf.split(gt, c, axis=3)], axis=3)\n",
    "        gt_var = (gt_var - tf.square(gt_mean)/(ksz**2)) / (ksz ** 2)\n",
    "        gt_mean = gt_mean / (ksz ** 2)\n",
    "\n",
    "        # scaling by local patch size\n",
    "        local_mean_loss = tf.reduce_mean(tf.abs(pr_mean - gt_mean))\n",
    "        local_var_loss = tf.reduce_mean(tf.abs(pr_var - gt_var))\n",
    "    return local_mean_loss + local_var_loss\n",
    "    "
   ]
  },
  {
   "cell_type": "code",
   "execution_count": 33,
   "metadata": {
    "collapsed": true
   },
   "outputs": [],
   "source": [
    "tf.reset_default_graph()"
   ]
  },
  {
   "cell_type": "code",
   "execution_count": 34,
   "metadata": {
    "collapsed": false
   },
   "outputs": [],
   "source": [
    "batch_size = 36\n",
    "# tf Graph input (only pictures)\n",
    "inputs_ = tf.placeholder(tf.float32, (batch_size, 64,64,3), name=\"input\")\n",
    "targets_ = tf.placeholder(tf.float32, (batch_size, 64,64,3), name=\"target\")\n",
    "pose_ = tf.placeholder(tf.float32, (batch_size, pose_w, pose_h, pose_d), name=\"pose\")\n",
    "\n",
    "disc_inputs = tf.placeholder(tf.float32, (batch_size, 64,64,3), name=\"input\")\n",
    "\n",
    "real_label = tf.placeholder(tf.float32, [batch_size, 1])\n",
    "fake_label = tf.placeholder(tf.float32, [batch_size, 1])"
   ]
  },
  {
   "cell_type": "code",
   "execution_count": 35,
   "metadata": {
    "collapsed": false
   },
   "outputs": [],
   "source": [
    "ae_reuse= False\n",
    "disc_reuse = False\n",
    "de_reuse = False\n",
    "ge_reuse = False\n",
    "#https://github.com/skaae/vaeblog\n",
    "\n",
    "'''\n",
    "def auto_encoder(inputs_, pose_):\n",
    "    global ae_reuse\n",
    "    with tf.variable_scope('encoder', reuse=ae_reuse):\n",
    "        ae_reuse = True\n",
    "        _ = conv2d(inputs_, output=32 ,kernel_h=3, kernel_w=3, k_stride=2, scope_name=\"conv1\",act=lrelu)\n",
    "        _ = batch_norm(_, True)\n",
    "        _ = conv2d(_, output=48 ,kernel_h=3, kernel_w=3, k_stride=2, scope_name=\"conv2\",act=lrelu)\n",
    "        _ = batch_norm(_, True)\n",
    "        _ = conv2d(_, output=64 ,kernel_h=3, kernel_w=3, k_stride=2, scope_name=\"conv3\",act=lrelu)\n",
    "        _ = batch_norm(_, True)\n",
    "        _ = conv2d(_, output=92 ,kernel_h=3, kernel_w=3, k_stride=2, scope_name=\"conv4\",act=lrelu)\n",
    "        _ = tf.concat([pose_, _], 3)\n",
    "       \n",
    "\n",
    "        _ = deconv2d(_, kernel_size=3, stride=2, num_filter=64, scope_name='deconv1',act=lrelu)\n",
    "        _ = batch_norm(_, True)\n",
    "        _ = deconv2d(_, kernel_size=3, stride=2, num_filter=32, scope_name='deconv2',act=lrelu)\n",
    "        _ = batch_norm(_, True)\n",
    "        _ = deconv2d(_, kernel_size=3, stride=2, num_filter=16, scope_name='deconv3',act=lrelu)\n",
    "        _ = batch_norm(_, True)\n",
    "        _ = deconv2d(_, kernel_size=3, stride=2, num_filter=3, scope_name='deconv4',act=None)\n",
    "        print(\"O1\", _.get_shape())\n",
    "        _ = tf.nn.tanh(_)\n",
    "    return _ \n",
    "'''\n",
    "\n",
    "def encoder(inputs_, pose_):\n",
    "    global ae_reuse\n",
    "    with tf.variable_scope('encoder', reuse=ae_reuse):\n",
    "        ae_reuse = True\n",
    "        _ = conv2d(inputs_, output=32 ,kernel_h=3, kernel_w=3, k_stride=2, scope_name=\"conv1\",act=lrelu)\n",
    "        _ = batch_norm(_, True)\n",
    "        _ = conv2d(_, output=48 ,kernel_h=3, kernel_w=3, k_stride=2, scope_name=\"conv2\",act=lrelu)\n",
    "        _ = batch_norm(_, True)\n",
    "        _ = conv2d(_, output=64 ,kernel_h=3, kernel_w=3, k_stride=2, scope_name=\"conv3\",act=lrelu)\n",
    "        _ = batch_norm(_, True)\n",
    "        _ = conv2d(_, output=92 ,kernel_h=3, kernel_w=3, k_stride=2, scope_name=\"conv4\",act=lrelu)\n",
    "        _ = tf.concat([pose_, _], 3)\n",
    "        return _\n",
    "       \n",
    "def decoder(inputs_):\n",
    "    global de_reuse\n",
    "    with tf.variable_scope('decoder', reuse=de_reuse):\n",
    "        de_reuse = True\n",
    "        _ = deconv2d(inputs_, kernel_size=3, stride=2, num_filter=64, scope_name='deconv1',act=lrelu)\n",
    "        _ = batch_norm(_, True)\n",
    "        _ = deconv2d(_, kernel_size=3, stride=2, num_filter=32, scope_name='deconv2',act=lrelu)\n",
    "        _ = batch_norm(_, True)\n",
    "        _ = deconv2d(_, kernel_size=3, stride=2, num_filter=16, scope_name='deconv3',act=lrelu)\n",
    "        _ = batch_norm(_, True)\n",
    "        _ = deconv2d(_, kernel_size=3, stride=2, num_filter=3, scope_name='deconv4',act=None)\n",
    "        print(\"O1\", _.get_shape())\n",
    "        _ = tf.nn.tanh(_)\n",
    "    return _ \n",
    "\n",
    "\n",
    "def generator(inputs_):\n",
    "    global ge_reuse\n",
    "    with tf.variable_scope('generator', reuse=ge_reuse):\n",
    "        ge_reuse = True\n",
    "        \n",
    "        _ = deconv2d(inputs_, kernel_size=3, stride=2, num_filter=64, scope_name='deconv1',act=lrelu)\n",
    "        _ = batch_norm(_, True)\n",
    "        _ = deconv2d(inputs_, kernel_size=3, stride=2, num_filter=32, scope_name='deconv2',act=lrelu)\n",
    "        _ = batch_norm(_, True)\n",
    "        _ = deconv2d(_, kernel_size=3, stride=2, num_filter=16, scope_name='deconv3',act=lrelu)\n",
    "        _ = batch_norm(_, True)\n",
    "        _ = deconv2d(_, kernel_size=3, stride=2, num_filter=3, scope_name='deconv4',act=None)\n",
    "        print(\"O1\", _.get_shape())\n",
    "        _ = tf.nn.tanh(_)\n",
    "    return _\n",
    "    \n",
    "# discriminator should give a fc layer\n",
    "# No batch norm layer\n",
    "def discriminator(inputs_):\n",
    "    \n",
    "    global disc_reuse \n",
    "    with tf.variable_scope('dis', reuse=disc_reuse):\n",
    "        disc_reuse = True\n",
    "        _ = conv2d(inputs_, output=32 ,kernel_h=5, kernel_w=5, k_stride=2, scope_name=\"dis_conv1\", act=lrelu)\n",
    "        print(_.get_shape())\n",
    "        _ = conv2d(_, output=64 ,kernel_h=5, kernel_w=5, k_stride=2, scope_name=\"dis_conv2\", act=lrelu)\n",
    "        _ = tf.nn.dropout(_, keep_prob = 0.5, name='dis_drop_1')\n",
    "        _ = conv2d(_, output=96 ,kernel_h=5, kernel_w=5, k_stride=2, scope_name=\"dis_conv3\", act=lrelu)\n",
    "        _ = tf.nn.dropout(_, keep_prob = 0.5, name='dis_drop_2')\n",
    "        _ = tf.reshape(_, [-1, 8 * 8 * 96])        \n",
    "        _ = fc(_, 1, 'dis_fc1')\n",
    "        o1 = tf.nn.sigmoid(_)\n",
    "        o2 = _\n",
    "        return o1, o2\n"
   ]
  },
  {
   "cell_type": "code",
   "execution_count": 36,
   "metadata": {
    "collapsed": true
   },
   "outputs": [],
   "source": [
    "global_step = tf.Variable(0,trainable=False)\n",
    "lr = 5e-4"
   ]
  },
  {
   "cell_type": "code",
   "execution_count": 37,
   "metadata": {
    "collapsed": false
   },
   "outputs": [
    {
     "name": "stdout",
     "output_type": "stream",
     "text": [
      "O1 (36, 64, 64, 3)\n",
      "O1 (36, 32, 32, 3)\n",
      "O1 (36, 32, 32, 3)\n",
      "(36, 32, 32, 32)\n",
      "(36, 16, 16, 32)\n",
      "(36, 16, 16, 32)\n"
     ]
    }
   ],
   "source": [
    "alpha = 0.2 #0.2\n",
    "beta = 1.0 #1.0\n",
    "\n",
    "\n",
    "encode = encoder(inputs_, pose_)\n",
    "ae_generated_images = decoder(encode)\n",
    "\n",
    "\n",
    "\n",
    "ge_generated_images = generator(encode)\n",
    "noise = np.random.normal(0, 0.2, encode.get_shape()).astype(np.float32)\n",
    "generated_noise = generator(noise)\n",
    "\n",
    "dreal, dreal_logits = discriminator(disc_inputs)\n",
    "dfake, dfake_logits = discriminator(ge_generated_images)\n",
    "dnoise, dnoise_logits = discriminator(generated_noise)\n",
    "\n",
    "\n",
    "dreal_labels = tf.zeros_like(dreal, dtype=tf.float32)\n",
    "dfake_labels = tf.ones_like(dfake, dtype=tf.float32)\n",
    "\n",
    "dreal_loss = ce_loss(dreal_labels, dreal_logits) #+ 0.2 * ce_loss(dfake_labels, dnoise_logits)\n",
    "dfake_loss = ce_loss(dfake_labels, dfake_logits)# + \n",
    "dis_loss_op = dreal_loss + dfake_loss \n",
    "\n",
    "\n",
    "#gan_loss = alpha * ce_loss(tf.zeros_like(dfake), dfake_logits)\n",
    "gan_loss = alpha * ce_loss(tf.ones_like(dfake), dfake_logits)\n",
    "supervised_loss = beta * l1_loss(ae_generated_images, targets_)\n",
    "#supervised_loss = beta * local_moment_loss(generated_images, targets_)\n",
    "gen_loss_op = gan_loss + supervised_loss\n",
    "\n",
    "\n",
    "# Build Loss\n",
    "#gen_loss_op = -tf.reduce_mean(tf.log(dis_fake_samples_op))\n",
    "#dis_loss_op = -tf.reduce_mean(tf.log(dis_real_samples_op) + tf.log(1. - dis_fake_samples_op))\n",
    "\n",
    "# Build Optimizers\n",
    "#optimizer_gen = tf.train.AdamOptimizer(learning_rate=learning_rate)\n",
    "#optimizer_disc = tf.train.AdamOptimizer(learning_rate=learning_rate)\n",
    "\n",
    "\n"
   ]
  },
  {
   "cell_type": "code",
   "execution_count": 38,
   "metadata": {
    "collapsed": false
   },
   "outputs": [],
   "source": [
    "disriminator_vars = tf.get_collection(tf.GraphKeys.GLOBAL_VARIABLES, 'dis')\n",
    "generator_vars = tf.get_collection(tf.GraphKeys.GLOBAL_VARIABLES, 'encoder')\n",
    "#print (generator_vars)\n",
    "#dis_optimizer = tf.train.RMSPropOptimizer(lr)\n",
    "#dis_train_op = dis_optimizer.minimize(dis_loss_op, var_list=disriminator_vars)\n",
    "#gen_optimizer = tf.train.RMSPropOptimizer(lr)\n",
    "#gen_train_op = gen_optimizer.minimize(gen_loss_op, var_list=generator_vars)\n",
    "\n",
    "\n",
    "#dis_optimizer = tf.train.AdamOptimizer(learning_rate=lr)\n",
    "#dis_train_op = dis_optimizer.minimize(dis_loss_op, var_list=disriminator_vars)\n",
    "#gen_optimizer = tf.train.AdamOptimizer(learning_rate=lr)\n",
    "#gen_train_op = gen_optimizer.minimize(gen_loss_op, var_list=generator_vars)\n",
    "dlr = 1e-5#1e-4\n",
    "glr = 5e-5#5e-4\n",
    "\n",
    "#dis_optimizer = tf.train.AdamOptimizer(dlr)\n",
    "#dis_train_op = dis_optimizer.minimize(dis_loss_op, var_list=disriminator_vars)\n",
    "\n",
    "#gen_optimizer = tf.train.AdamOptimizer(glr)\n",
    "#gen_train_op = gen_optimizer.minimize(gen_loss_op, var_list=generator_vars)\n",
    "\n",
    "'''\n",
    "dis_optimizer = tf.train.AdamOptimizer(learning_rate=dlr)\n",
    "gvs = dis_optimizer.compute_gradients(dis_loss_op, var_list=generator_vars)\n",
    "gcapped_gvs = [(tf.clip_by_value(grad, -10.0, 10.0), var) for grad, var in gvs]\n",
    "dis_train_op = dis_optimizer.apply_gradients(gcapped_gvs)\n",
    "\n",
    "\n",
    "gen_optimizer = tf.train.AdamOptimizer(learning_rate=glr)\n",
    "gvs = gen_optimizer.compute_gradients(dis_loss_op, var_list=disriminator_vars)\n",
    "dcapped_gvs = [(tf.clip_by_value(grad, -10.0, 10.0), var) for grad, var in gvs]\n",
    "dis_train_op = dis_optimizer.apply_gradients(dcapped_gvs)\n",
    "'''\n",
    "\n",
    "\n",
    "dis_optimizer = tf.train.AdamOptimizer(learning_rate=dlr)\n",
    "dgradients, dvariables = zip(*dis_optimizer.compute_gradients(dis_loss_op, var_list=disriminator_vars))\n",
    "dgradients, _ = tf.clip_by_global_norm(dgradients, 5.0)\n",
    "dis_train_op = dis_optimizer.apply_gradients(zip(dgradients, dvariables))\n",
    "\n",
    "\n",
    "gen_optimizer = tf.train.AdamOptimizer(learning_rate=glr)\n",
    "ggradients, gvariables = zip(*gen_optimizer.compute_gradients(gen_loss_op, var_list=generator_vars))\n",
    "ggradients, _ = tf.clip_by_global_norm(ggradients, 5.0)\n",
    "gen_train_op = gen_optimizer.apply_gradients(zip(ggradients, gvariables))\n",
    "\n",
    "\n",
    "\n",
    "\n",
    "\n"
   ]
  },
  {
   "cell_type": "code",
   "execution_count": 39,
   "metadata": {
    "collapsed": false,
    "scrolled": false
   },
   "outputs": [
    {
     "name": "stdout",
     "output_type": "stream",
     "text": [
      "Step 10: dloss = 5.3046, gloss = 1.0658, real_loss = 4.6122, fake_loss = 0.6924, gan_loss = 0.1385 l1_loss = 0.9273\n",
      "Step 20: dloss = 4.3300, gloss = 1.0568, real_loss = 3.6920, fake_loss = 0.6380, gan_loss = 0.1276 l1_loss = 0.9292\n",
      "Step 30: dloss = 4.3242, gloss = 1.0688, real_loss = 3.6425, fake_loss = 0.6817, gan_loss = 0.1363 l1_loss = 0.9324\n",
      "Step 40: dloss = 7.4723, gloss = 1.0530, real_loss = 6.8321, fake_loss = 0.6401, gan_loss = 0.1280 l1_loss = 0.9249\n",
      "Step 50: dloss = 6.8682, gloss = 1.0438, real_loss = 6.2247, fake_loss = 0.6434, gan_loss = 0.1287 l1_loss = 0.9151\n",
      "Step 60: dloss = 6.2732, gloss = 1.0400, real_loss = 5.6499, fake_loss = 0.6233, gan_loss = 0.1247 l1_loss = 0.9153\n",
      "Step 70: dloss = 4.3986, gloss = 1.0515, real_loss = 3.7589, fake_loss = 0.6397, gan_loss = 0.1279 l1_loss = 0.9235\n",
      "Step 80: dloss = 4.2556, gloss = 1.0439, real_loss = 3.6341, fake_loss = 0.6215, gan_loss = 0.1243 l1_loss = 0.9196\n",
      "Step 90: dloss = 3.4091, gloss = 1.0362, real_loss = 2.8048, fake_loss = 0.6044, gan_loss = 0.1209 l1_loss = 0.9153\n",
      "Step 100: dloss = 8.7301, gloss = 1.0296, real_loss = 8.1489, fake_loss = 0.5812, gan_loss = 0.1162 l1_loss = 0.9134\n",
      "Step 110: dloss = 2.7468, gloss = 1.0284, real_loss = 2.1531, fake_loss = 0.5937, gan_loss = 0.1187 l1_loss = 0.9097\n",
      "Step 120: dloss = 4.5451, gloss = 1.0213, real_loss = 3.9945, fake_loss = 0.5506, gan_loss = 0.1101 l1_loss = 0.9111\n",
      "Step 130: dloss = 5.6255, gloss = 1.0194, real_loss = 5.0865, fake_loss = 0.5391, gan_loss = 0.1078 l1_loss = 0.9116\n",
      "Step 140: dloss = 3.1251, gloss = 1.0271, real_loss = 2.5606, fake_loss = 0.5644, gan_loss = 0.1129 l1_loss = 0.9142\n",
      "Step 150: dloss = 3.9973, gloss = 1.0136, real_loss = 3.4568, fake_loss = 0.5404, gan_loss = 0.1081 l1_loss = 0.9055\n",
      "Step 160: dloss = 3.0891, gloss = 1.0198, real_loss = 2.5481, fake_loss = 0.5410, gan_loss = 0.1082 l1_loss = 0.9116\n",
      "Step 170: dloss = 6.6032, gloss = 1.0078, real_loss = 6.0853, fake_loss = 0.5179, gan_loss = 0.1036 l1_loss = 0.9042\n",
      "Step 180: dloss = 4.2974, gloss = 1.0019, real_loss = 3.7889, fake_loss = 0.5085, gan_loss = 0.1017 l1_loss = 0.9002\n",
      "Step 190: dloss = 3.8651, gloss = 1.0076, real_loss = 3.3724, fake_loss = 0.4927, gan_loss = 0.0985 l1_loss = 0.9091\n",
      "Step 200: dloss = 4.0461, gloss = 1.0152, real_loss = 3.5112, fake_loss = 0.5349, gan_loss = 0.1070 l1_loss = 0.9082\n",
      "Step 210: dloss = 5.7787, gloss = 1.0112, real_loss = 5.2662, fake_loss = 0.5125, gan_loss = 0.1025 l1_loss = 0.9087\n",
      "Step 220: dloss = 6.3484, gloss = 1.0090, real_loss = 5.8093, fake_loss = 0.5391, gan_loss = 0.1078 l1_loss = 0.9012\n",
      "Step 230: dloss = 3.8994, gloss = 1.0018, real_loss = 3.3869, fake_loss = 0.5125, gan_loss = 0.1025 l1_loss = 0.8993\n",
      "Step 240: dloss = 3.2805, gloss = 0.9996, real_loss = 2.7987, fake_loss = 0.4818, gan_loss = 0.0964 l1_loss = 0.9032\n",
      "Step 250: dloss = 1.4915, gloss = 0.9968, real_loss = 0.9955, fake_loss = 0.4959, gan_loss = 0.0992 l1_loss = 0.8976\n",
      "Step 260: dloss = 3.4953, gloss = 0.9859, real_loss = 3.0278, fake_loss = 0.4675, gan_loss = 0.0935 l1_loss = 0.8924\n",
      "Step 270: dloss = 5.6871, gloss = 1.0001, real_loss = 5.1969, fake_loss = 0.4902, gan_loss = 0.0980 l1_loss = 0.9020\n",
      "Step 280: dloss = 2.0651, gloss = 0.9978, real_loss = 1.5825, fake_loss = 0.4826, gan_loss = 0.0965 l1_loss = 0.9013\n",
      "Step 290: dloss = 5.7303, gloss = 0.9995, real_loss = 5.2295, fake_loss = 0.5008, gan_loss = 0.1002 l1_loss = 0.8993\n",
      "Step 300: dloss = 6.0092, gloss = 0.9912, real_loss = 5.5406, fake_loss = 0.4686, gan_loss = 0.0937 l1_loss = 0.8974\n",
      "Step 310: dloss = 3.5029, gloss = 0.9899, real_loss = 3.0384, fake_loss = 0.4645, gan_loss = 0.0929 l1_loss = 0.8970\n",
      "Step 320: dloss = 5.1210, gloss = 1.0075, real_loss = 4.6222, fake_loss = 0.4988, gan_loss = 0.0998 l1_loss = 0.9077\n",
      "Step 330: dloss = 2.8033, gloss = 0.9926, real_loss = 2.3579, fake_loss = 0.4454, gan_loss = 0.0891 l1_loss = 0.9036\n",
      "Step 340: dloss = 3.3193, gloss = 0.9848, real_loss = 2.8540, fake_loss = 0.4653, gan_loss = 0.0931 l1_loss = 0.8918\n",
      "Step 350: dloss = 7.8352, gloss = 0.9918, real_loss = 7.3602, fake_loss = 0.4750, gan_loss = 0.0950 l1_loss = 0.8968\n",
      "Step 360: dloss = 9.2644, gloss = 0.9858, real_loss = 8.8124, fake_loss = 0.4520, gan_loss = 0.0904 l1_loss = 0.8954\n",
      "Step 370: dloss = 4.3635, gloss = 0.9827, real_loss = 3.8986, fake_loss = 0.4649, gan_loss = 0.0930 l1_loss = 0.8897\n",
      "Step 380: dloss = 6.2743, gloss = 0.9883, real_loss = 5.8288, fake_loss = 0.4455, gan_loss = 0.0891 l1_loss = 0.8992\n",
      "Step 390: dloss = 5.3833, gloss = 0.9864, real_loss = 4.9332, fake_loss = 0.4501, gan_loss = 0.0900 l1_loss = 0.8964\n",
      "Step 400: dloss = 2.5109, gloss = 0.9945, real_loss = 2.0532, fake_loss = 0.4578, gan_loss = 0.0916 l1_loss = 0.9030\n",
      "Step 410: dloss = 7.8073, gloss = 0.9915, real_loss = 7.3424, fake_loss = 0.4649, gan_loss = 0.0930 l1_loss = 0.8985\n",
      "Step 420: dloss = 4.9007, gloss = 0.9874, real_loss = 4.4586, fake_loss = 0.4421, gan_loss = 0.0884 l1_loss = 0.8990\n",
      "Step 430: dloss = 1.5372, gloss = 0.9915, real_loss = 1.0453, fake_loss = 0.4919, gan_loss = 0.0984 l1_loss = 0.8931\n",
      "Step 440: dloss = 6.7162, gloss = 0.9712, real_loss = 6.2873, fake_loss = 0.4289, gan_loss = 0.0858 l1_loss = 0.8854\n",
      "Step 450: dloss = 3.0253, gloss = 0.9793, real_loss = 2.5578, fake_loss = 0.4675, gan_loss = 0.0935 l1_loss = 0.8858\n",
      "Step 460: dloss = 1.3175, gloss = 0.9785, real_loss = 0.8780, fake_loss = 0.4395, gan_loss = 0.0879 l1_loss = 0.8906\n",
      "Step 470: dloss = 2.4674, gloss = 0.9860, real_loss = 2.0254, fake_loss = 0.4420, gan_loss = 0.0884 l1_loss = 0.8976\n",
      "Step 480: dloss = 6.0634, gloss = 0.9829, real_loss = 5.6185, fake_loss = 0.4449, gan_loss = 0.0890 l1_loss = 0.8939\n",
      "Step 490: dloss = 3.5137, gloss = 0.9797, real_loss = 3.0664, fake_loss = 0.4473, gan_loss = 0.0895 l1_loss = 0.8903\n",
      "Step 500: dloss = 2.3745, gloss = 0.9790, real_loss = 1.9386, fake_loss = 0.4359, gan_loss = 0.0872 l1_loss = 0.8918\n",
      "Step 510: dloss = 5.4157, gloss = 0.9794, real_loss = 4.9716, fake_loss = 0.4441, gan_loss = 0.0888 l1_loss = 0.8906\n",
      "Step 520: dloss = 3.2506, gloss = 0.9804, real_loss = 2.8027, fake_loss = 0.4479, gan_loss = 0.0896 l1_loss = 0.8909\n",
      "Step 530: dloss = 3.7337, gloss = 0.9884, real_loss = 3.3123, fake_loss = 0.4214, gan_loss = 0.0843 l1_loss = 0.9041\n",
      "Step 540: dloss = 3.8743, gloss = 0.9820, real_loss = 3.4346, fake_loss = 0.4398, gan_loss = 0.0880 l1_loss = 0.8940\n",
      "Step 550: dloss = 3.3608, gloss = 0.9874, real_loss = 2.9152, fake_loss = 0.4457, gan_loss = 0.0891 l1_loss = 0.8982\n",
      "Step 560: dloss = 8.8078, gloss = 0.9811, real_loss = 8.3763, fake_loss = 0.4315, gan_loss = 0.0863 l1_loss = 0.8948\n",
      "Step 570: dloss = 4.6113, gloss = 0.9868, real_loss = 4.1914, fake_loss = 0.4200, gan_loss = 0.0840 l1_loss = 0.9028\n",
      "Step 580: dloss = 6.8227, gloss = 0.9693, real_loss = 6.3994, fake_loss = 0.4233, gan_loss = 0.0847 l1_loss = 0.8847\n",
      "Step 590: dloss = 6.9718, gloss = 0.9744, real_loss = 6.5660, fake_loss = 0.4058, gan_loss = 0.0812 l1_loss = 0.8932\n",
      "Step 600: dloss = 7.8095, gloss = 0.9806, real_loss = 7.3864, fake_loss = 0.4231, gan_loss = 0.0846 l1_loss = 0.8960\n",
      "Step 610: dloss = 4.1746, gloss = 0.9692, real_loss = 3.7784, fake_loss = 0.3962, gan_loss = 0.0792 l1_loss = 0.8899\n",
      "Step 620: dloss = 8.2808, gloss = 0.9848, real_loss = 7.8367, fake_loss = 0.4441, gan_loss = 0.0888 l1_loss = 0.8959\n",
      "Step 630: dloss = 1.7757, gloss = 0.9770, real_loss = 1.3450, fake_loss = 0.4307, gan_loss = 0.0861 l1_loss = 0.8908\n",
      "Step 640: dloss = 5.5832, gloss = 0.9752, real_loss = 5.1497, fake_loss = 0.4334, gan_loss = 0.0867 l1_loss = 0.8886\n",
      "Step 650: dloss = 3.9003, gloss = 0.9785, real_loss = 3.4605, fake_loss = 0.4398, gan_loss = 0.0880 l1_loss = 0.8905\n",
      "Step 660: dloss = 3.2385, gloss = 0.9858, real_loss = 2.8169, fake_loss = 0.4217, gan_loss = 0.0843 l1_loss = 0.9015\n",
      "Step 670: dloss = 2.2668, gloss = 0.9797, real_loss = 1.8533, fake_loss = 0.4134, gan_loss = 0.0827 l1_loss = 0.8970\n",
      "Step 680: dloss = 5.3461, gloss = 0.9833, real_loss = 4.9038, fake_loss = 0.4423, gan_loss = 0.0885 l1_loss = 0.8948\n",
      "Step 690: dloss = 3.6588, gloss = 0.9734, real_loss = 3.2310, fake_loss = 0.4277, gan_loss = 0.0855 l1_loss = 0.8879\n",
      "Step 700: dloss = 3.6838, gloss = 0.9804, real_loss = 3.2782, fake_loss = 0.4056, gan_loss = 0.0811 l1_loss = 0.8993\n",
      "Step 710: dloss = 4.3521, gloss = 0.9769, real_loss = 3.9384, fake_loss = 0.4137, gan_loss = 0.0827 l1_loss = 0.8942\n",
      "Step 720: dloss = 3.6454, gloss = 0.9717, real_loss = 3.2520, fake_loss = 0.3933, gan_loss = 0.0787 l1_loss = 0.8930\n",
      "Step 730: dloss = 7.6796, gloss = 0.9754, real_loss = 7.2642, fake_loss = 0.4154, gan_loss = 0.0831 l1_loss = 0.8923\n",
      "Step 740: dloss = 6.0034, gloss = 0.9766, real_loss = 5.6093, fake_loss = 0.3941, gan_loss = 0.0788 l1_loss = 0.8978\n",
      "Step 750: dloss = 2.6051, gloss = 0.9818, real_loss = 2.1856, fake_loss = 0.4195, gan_loss = 0.0839 l1_loss = 0.8979\n",
      "Step 760: dloss = 1.4301, gloss = 0.9604, real_loss = 1.0401, fake_loss = 0.3900, gan_loss = 0.0780 l1_loss = 0.8824\n",
      "Step 770: dloss = 1.7694, gloss = 0.9654, real_loss = 1.3884, fake_loss = 0.3811, gan_loss = 0.0762 l1_loss = 0.8892\n",
      "Step 780: dloss = 8.8767, gloss = 0.9688, real_loss = 8.4653, fake_loss = 0.4114, gan_loss = 0.0823 l1_loss = 0.8865\n",
      "Step 790: dloss = 4.3161, gloss = 0.9579, real_loss = 3.9139, fake_loss = 0.4023, gan_loss = 0.0805 l1_loss = 0.8774\n",
      "Step 800: dloss = 3.5689, gloss = 0.9831, real_loss = 3.1240, fake_loss = 0.4449, gan_loss = 0.0890 l1_loss = 0.8941\n",
      "Step 810: dloss = 10.2276, gloss = 0.9646, real_loss = 9.8227, fake_loss = 0.4049, gan_loss = 0.0810 l1_loss = 0.8836\n",
      "Step 820: dloss = 4.2818, gloss = 0.9715, real_loss = 3.8771, fake_loss = 0.4047, gan_loss = 0.0809 l1_loss = 0.8905\n",
      "Step 830: dloss = 5.4756, gloss = 0.9776, real_loss = 5.0601, fake_loss = 0.4154, gan_loss = 0.0831 l1_loss = 0.8945\n",
      "Step 840: dloss = 3.5662, gloss = 0.9785, real_loss = 3.1667, fake_loss = 0.3995, gan_loss = 0.0799 l1_loss = 0.8986\n",
      "Step 850: dloss = 5.1734, gloss = 0.9680, real_loss = 4.7834, fake_loss = 0.3899, gan_loss = 0.0780 l1_loss = 0.8900\n",
      "Step 860: dloss = 5.7825, gloss = 0.9688, real_loss = 5.4013, fake_loss = 0.3812, gan_loss = 0.0762 l1_loss = 0.8925\n",
      "Step 870: dloss = 2.5867, gloss = 0.9683, real_loss = 2.1810, fake_loss = 0.4057, gan_loss = 0.0811 l1_loss = 0.8871\n",
      "Step 880: dloss = 5.5755, gloss = 0.9705, real_loss = 5.1705, fake_loss = 0.4049, gan_loss = 0.0810 l1_loss = 0.8895\n",
      "Step 890: dloss = 7.8922, gloss = 0.9712, real_loss = 7.4895, fake_loss = 0.4028, gan_loss = 0.0806 l1_loss = 0.8906\n",
      "Step 900: dloss = 4.6002, gloss = 0.9673, real_loss = 4.2114, fake_loss = 0.3888, gan_loss = 0.0778 l1_loss = 0.8896\n",
      "Step 910: dloss = 3.7783, gloss = 0.9666, real_loss = 3.3740, fake_loss = 0.4043, gan_loss = 0.0809 l1_loss = 0.8857\n",
      "Step 920: dloss = 1.1172, gloss = 0.9700, real_loss = 0.7083, fake_loss = 0.4089, gan_loss = 0.0818 l1_loss = 0.8883\n",
      "Step 930: dloss = 3.6356, gloss = 0.9645, real_loss = 3.2509, fake_loss = 0.3847, gan_loss = 0.0769 l1_loss = 0.8875\n",
      "Step 940: dloss = 6.8897, gloss = 0.9686, real_loss = 6.5035, fake_loss = 0.3862, gan_loss = 0.0772 l1_loss = 0.8914\n",
      "Step 950: dloss = 11.8340, gloss = 0.9690, real_loss = 11.4269, fake_loss = 0.4071, gan_loss = 0.0814 l1_loss = 0.8876\n",
      "Step 960: dloss = 4.8616, gloss = 0.9691, real_loss = 4.4583, fake_loss = 0.4033, gan_loss = 0.0807 l1_loss = 0.8884\n",
      "Step 970: dloss = 1.1668, gloss = 0.9563, real_loss = 0.7522, fake_loss = 0.4146, gan_loss = 0.0829 l1_loss = 0.8733\n",
      "Step 980: dloss = 0.9468, gloss = 0.9586, real_loss = 0.5620, fake_loss = 0.3847, gan_loss = 0.0769 l1_loss = 0.8816\n",
      "Step 990: dloss = 0.6913, gloss = 0.9805, real_loss = 0.2888, fake_loss = 0.4025, gan_loss = 0.0805 l1_loss = 0.9000\n",
      "Step 1000: dloss = 5.3618, gloss = 0.9637, real_loss = 4.9767, fake_loss = 0.3851, gan_loss = 0.0770 l1_loss = 0.8866\n",
      "Step 1010: dloss = 3.8509, gloss = 0.9771, real_loss = 3.4559, fake_loss = 0.3949, gan_loss = 0.0790 l1_loss = 0.8981\n",
      "Step 1020: dloss = 2.4086, gloss = 0.9672, real_loss = 2.0356, fake_loss = 0.3731, gan_loss = 0.0746 l1_loss = 0.8926\n",
      "Step 1030: dloss = 4.4741, gloss = 0.9724, real_loss = 4.0731, fake_loss = 0.4011, gan_loss = 0.0802 l1_loss = 0.8922\n",
      "Step 1040: dloss = 5.0695, gloss = 0.9715, real_loss = 4.6862, fake_loss = 0.3832, gan_loss = 0.0766 l1_loss = 0.8948\n",
      "Step 1050: dloss = 3.0332, gloss = 0.9688, real_loss = 2.6436, fake_loss = 0.3896, gan_loss = 0.0779 l1_loss = 0.8909\n",
      "Step 1060: dloss = 5.1704, gloss = 0.9658, real_loss = 4.7787, fake_loss = 0.3917, gan_loss = 0.0783 l1_loss = 0.8875\n",
      "Step 1070: dloss = 3.0301, gloss = 0.9636, real_loss = 2.6320, fake_loss = 0.3982, gan_loss = 0.0796 l1_loss = 0.8840\n",
      "Step 1080: dloss = 7.4374, gloss = 0.9682, real_loss = 7.0437, fake_loss = 0.3937, gan_loss = 0.0787 l1_loss = 0.8895\n",
      "Step 1090: dloss = 4.4651, gloss = 0.9622, real_loss = 4.0916, fake_loss = 0.3735, gan_loss = 0.0747 l1_loss = 0.8875\n",
      "Step 1100: dloss = 1.9783, gloss = 0.9638, real_loss = 1.5875, fake_loss = 0.3908, gan_loss = 0.0782 l1_loss = 0.8857\n",
      "Step 1110: dloss = 9.8448, gloss = 0.9701, real_loss = 9.4477, fake_loss = 0.3971, gan_loss = 0.0794 l1_loss = 0.8907\n",
      "Step 1120: dloss = 3.4141, gloss = 0.9666, real_loss = 3.0304, fake_loss = 0.3837, gan_loss = 0.0767 l1_loss = 0.8899\n",
      "Step 1130: dloss = 6.3748, gloss = 0.9652, real_loss = 5.9745, fake_loss = 0.4003, gan_loss = 0.0801 l1_loss = 0.8851\n",
      "Step 1140: dloss = 4.7504, gloss = 0.9630, real_loss = 4.3730, fake_loss = 0.3774, gan_loss = 0.0755 l1_loss = 0.8875\n",
      "Step 1150: dloss = 4.0401, gloss = 0.9628, real_loss = 3.6496, fake_loss = 0.3905, gan_loss = 0.0781 l1_loss = 0.8847\n",
      "Step 1160: dloss = 2.7218, gloss = 0.9648, real_loss = 2.3376, fake_loss = 0.3843, gan_loss = 0.0769 l1_loss = 0.8879\n",
      "Step 1170: dloss = 6.2000, gloss = 0.9638, real_loss = 5.8067, fake_loss = 0.3933, gan_loss = 0.0787 l1_loss = 0.8851\n",
      "Step 1180: dloss = 4.2711, gloss = 0.9642, real_loss = 3.8947, fake_loss = 0.3764, gan_loss = 0.0753 l1_loss = 0.8889\n",
      "Step 1190: dloss = 3.5437, gloss = 0.9520, real_loss = 3.1802, fake_loss = 0.3635, gan_loss = 0.0727 l1_loss = 0.8793\n",
      "Step 1200: dloss = 4.6622, gloss = 0.9552, real_loss = 4.3081, fake_loss = 0.3541, gan_loss = 0.0708 l1_loss = 0.8844\n"
     ]
    },
    {
     "ename": "KeyboardInterrupt",
     "evalue": "",
     "output_type": "error",
     "traceback": [
      "\u001b[1;31m---------------------------------------------------------------------------\u001b[0m",
      "\u001b[1;31mKeyboardInterrupt\u001b[0m                         Traceback (most recent call last)",
      "\u001b[1;32m<ipython-input-39-3a4f59816bd2>\u001b[0m in \u001b[0;36m<module>\u001b[1;34m()\u001b[0m\n\u001b[0;32m    103\u001b[0m \u001b[1;33m\u001b[0m\u001b[0m\n\u001b[0;32m    104\u001b[0m \u001b[1;33m\u001b[0m\u001b[0m\n\u001b[1;32m--> 105\u001b[1;33m         \u001b[0mgen_loss\u001b[0m\u001b[1;33m,\u001b[0m \u001b[0mdis_loss\u001b[0m\u001b[1;33m,\u001b[0m \u001b[0m_real\u001b[0m\u001b[1;33m,\u001b[0m \u001b[0m_fake\u001b[0m\u001b[1;33m,\u001b[0m \u001b[0mgan\u001b[0m\u001b[1;33m,\u001b[0m \u001b[0msuperl\u001b[0m\u001b[1;33m,\u001b[0m\u001b[0m_\u001b[0m \u001b[1;33m=\u001b[0m \u001b[0msess\u001b[0m\u001b[1;33m.\u001b[0m\u001b[0mrun\u001b[0m\u001b[1;33m(\u001b[0m\u001b[0mfetch_val\u001b[0m\u001b[1;33m,\u001b[0m \u001b[0mfeed_dict\u001b[0m \u001b[1;33m=\u001b[0m \u001b[0mfeed_dict\u001b[0m\u001b[1;33m)\u001b[0m\u001b[1;33m\u001b[0m\u001b[0m\n\u001b[0m\u001b[0;32m    106\u001b[0m         '''\n\u001b[0;32m    107\u001b[0m         feed_dict = {inputs_: batch, targets_: batch_labels, pose_: pose_labels,\n",
      "\u001b[1;32m/home/chinmay/CODE/deep_learning/599-project/repo/Multi-Viewpoint-Image-generation/multi_venv/lib/python3.5/site-packages/tensorflow/python/client/session.py\u001b[0m in \u001b[0;36mrun\u001b[1;34m(self, fetches, feed_dict, options, run_metadata)\u001b[0m\n\u001b[0;32m    887\u001b[0m     \u001b[1;32mtry\u001b[0m\u001b[1;33m:\u001b[0m\u001b[1;33m\u001b[0m\u001b[0m\n\u001b[0;32m    888\u001b[0m       result = self._run(None, fetches, feed_dict, options_ptr,\n\u001b[1;32m--> 889\u001b[1;33m                          run_metadata_ptr)\n\u001b[0m\u001b[0;32m    890\u001b[0m       \u001b[1;32mif\u001b[0m \u001b[0mrun_metadata\u001b[0m\u001b[1;33m:\u001b[0m\u001b[1;33m\u001b[0m\u001b[0m\n\u001b[0;32m    891\u001b[0m         \u001b[0mproto_data\u001b[0m \u001b[1;33m=\u001b[0m \u001b[0mtf_session\u001b[0m\u001b[1;33m.\u001b[0m\u001b[0mTF_GetBuffer\u001b[0m\u001b[1;33m(\u001b[0m\u001b[0mrun_metadata_ptr\u001b[0m\u001b[1;33m)\u001b[0m\u001b[1;33m\u001b[0m\u001b[0m\n",
      "\u001b[1;32m/home/chinmay/CODE/deep_learning/599-project/repo/Multi-Viewpoint-Image-generation/multi_venv/lib/python3.5/site-packages/tensorflow/python/client/session.py\u001b[0m in \u001b[0;36m_run\u001b[1;34m(self, handle, fetches, feed_dict, options, run_metadata)\u001b[0m\n\u001b[0;32m   1118\u001b[0m     \u001b[1;32mif\u001b[0m \u001b[0mfinal_fetches\u001b[0m \u001b[1;32mor\u001b[0m \u001b[0mfinal_targets\u001b[0m \u001b[1;32mor\u001b[0m \u001b[1;33m(\u001b[0m\u001b[0mhandle\u001b[0m \u001b[1;32mand\u001b[0m \u001b[0mfeed_dict_tensor\u001b[0m\u001b[1;33m)\u001b[0m\u001b[1;33m:\u001b[0m\u001b[1;33m\u001b[0m\u001b[0m\n\u001b[0;32m   1119\u001b[0m       results = self._do_run(handle, final_targets, final_fetches,\n\u001b[1;32m-> 1120\u001b[1;33m                              feed_dict_tensor, options, run_metadata)\n\u001b[0m\u001b[0;32m   1121\u001b[0m     \u001b[1;32melse\u001b[0m\u001b[1;33m:\u001b[0m\u001b[1;33m\u001b[0m\u001b[0m\n\u001b[0;32m   1122\u001b[0m       \u001b[0mresults\u001b[0m \u001b[1;33m=\u001b[0m \u001b[1;33m[\u001b[0m\u001b[1;33m]\u001b[0m\u001b[1;33m\u001b[0m\u001b[0m\n",
      "\u001b[1;32m/home/chinmay/CODE/deep_learning/599-project/repo/Multi-Viewpoint-Image-generation/multi_venv/lib/python3.5/site-packages/tensorflow/python/client/session.py\u001b[0m in \u001b[0;36m_do_run\u001b[1;34m(self, handle, target_list, fetch_list, feed_dict, options, run_metadata)\u001b[0m\n\u001b[0;32m   1315\u001b[0m     \u001b[1;32mif\u001b[0m \u001b[0mhandle\u001b[0m \u001b[1;32mis\u001b[0m \u001b[1;32mNone\u001b[0m\u001b[1;33m:\u001b[0m\u001b[1;33m\u001b[0m\u001b[0m\n\u001b[0;32m   1316\u001b[0m       return self._do_call(_run_fn, self._session, feeds, fetches, targets,\n\u001b[1;32m-> 1317\u001b[1;33m                            options, run_metadata)\n\u001b[0m\u001b[0;32m   1318\u001b[0m     \u001b[1;32melse\u001b[0m\u001b[1;33m:\u001b[0m\u001b[1;33m\u001b[0m\u001b[0m\n\u001b[0;32m   1319\u001b[0m       \u001b[1;32mreturn\u001b[0m \u001b[0mself\u001b[0m\u001b[1;33m.\u001b[0m\u001b[0m_do_call\u001b[0m\u001b[1;33m(\u001b[0m\u001b[0m_prun_fn\u001b[0m\u001b[1;33m,\u001b[0m \u001b[0mself\u001b[0m\u001b[1;33m.\u001b[0m\u001b[0m_session\u001b[0m\u001b[1;33m,\u001b[0m \u001b[0mhandle\u001b[0m\u001b[1;33m,\u001b[0m \u001b[0mfeeds\u001b[0m\u001b[1;33m,\u001b[0m \u001b[0mfetches\u001b[0m\u001b[1;33m)\u001b[0m\u001b[1;33m\u001b[0m\u001b[0m\n",
      "\u001b[1;32m/home/chinmay/CODE/deep_learning/599-project/repo/Multi-Viewpoint-Image-generation/multi_venv/lib/python3.5/site-packages/tensorflow/python/client/session.py\u001b[0m in \u001b[0;36m_do_call\u001b[1;34m(self, fn, *args)\u001b[0m\n\u001b[0;32m   1321\u001b[0m   \u001b[1;32mdef\u001b[0m \u001b[0m_do_call\u001b[0m\u001b[1;33m(\u001b[0m\u001b[0mself\u001b[0m\u001b[1;33m,\u001b[0m \u001b[0mfn\u001b[0m\u001b[1;33m,\u001b[0m \u001b[1;33m*\u001b[0m\u001b[0margs\u001b[0m\u001b[1;33m)\u001b[0m\u001b[1;33m:\u001b[0m\u001b[1;33m\u001b[0m\u001b[0m\n\u001b[0;32m   1322\u001b[0m     \u001b[1;32mtry\u001b[0m\u001b[1;33m:\u001b[0m\u001b[1;33m\u001b[0m\u001b[0m\n\u001b[1;32m-> 1323\u001b[1;33m       \u001b[1;32mreturn\u001b[0m \u001b[0mfn\u001b[0m\u001b[1;33m(\u001b[0m\u001b[1;33m*\u001b[0m\u001b[0margs\u001b[0m\u001b[1;33m)\u001b[0m\u001b[1;33m\u001b[0m\u001b[0m\n\u001b[0m\u001b[0;32m   1324\u001b[0m     \u001b[1;32mexcept\u001b[0m \u001b[0merrors\u001b[0m\u001b[1;33m.\u001b[0m\u001b[0mOpError\u001b[0m \u001b[1;32mas\u001b[0m \u001b[0me\u001b[0m\u001b[1;33m:\u001b[0m\u001b[1;33m\u001b[0m\u001b[0m\n\u001b[0;32m   1325\u001b[0m       \u001b[0mmessage\u001b[0m \u001b[1;33m=\u001b[0m \u001b[0mcompat\u001b[0m\u001b[1;33m.\u001b[0m\u001b[0mas_text\u001b[0m\u001b[1;33m(\u001b[0m\u001b[0me\u001b[0m\u001b[1;33m.\u001b[0m\u001b[0mmessage\u001b[0m\u001b[1;33m)\u001b[0m\u001b[1;33m\u001b[0m\u001b[0m\n",
      "\u001b[1;32m/home/chinmay/CODE/deep_learning/599-project/repo/Multi-Viewpoint-Image-generation/multi_venv/lib/python3.5/site-packages/tensorflow/python/client/session.py\u001b[0m in \u001b[0;36m_run_fn\u001b[1;34m(session, feed_dict, fetch_list, target_list, options, run_metadata)\u001b[0m\n\u001b[0;32m   1300\u001b[0m           return tf_session.TF_Run(session, options,\n\u001b[0;32m   1301\u001b[0m                                    \u001b[0mfeed_dict\u001b[0m\u001b[1;33m,\u001b[0m \u001b[0mfetch_list\u001b[0m\u001b[1;33m,\u001b[0m \u001b[0mtarget_list\u001b[0m\u001b[1;33m,\u001b[0m\u001b[1;33m\u001b[0m\u001b[0m\n\u001b[1;32m-> 1302\u001b[1;33m                                    status, run_metadata)\n\u001b[0m\u001b[0;32m   1303\u001b[0m \u001b[1;33m\u001b[0m\u001b[0m\n\u001b[0;32m   1304\u001b[0m     \u001b[1;32mdef\u001b[0m \u001b[0m_prun_fn\u001b[0m\u001b[1;33m(\u001b[0m\u001b[0msession\u001b[0m\u001b[1;33m,\u001b[0m \u001b[0mhandle\u001b[0m\u001b[1;33m,\u001b[0m \u001b[0mfeed_dict\u001b[0m\u001b[1;33m,\u001b[0m \u001b[0mfetch_list\u001b[0m\u001b[1;33m)\u001b[0m\u001b[1;33m:\u001b[0m\u001b[1;33m\u001b[0m\u001b[0m\n",
      "\u001b[1;31mKeyboardInterrupt\u001b[0m: "
     ]
    }
   ],
   "source": [
    "sess = tf.Session()\n",
    "sess.run(tf.global_variables_initializer())\n",
    "\n",
    "epochs = 1\n",
    "total_images = len(train_pairs)\n",
    "step = 0\n",
    "\n",
    "r = total_images // batch_size\n",
    "l = len(dataset_train) // batch_size\n",
    "\n",
    "dis_losses = []\n",
    "gen_losses = []\n",
    "\n",
    "\n",
    "\n",
    "\n",
    "'''\n",
    "local margin = 0.3\n",
    "     sgdState_D.optimize = true\n",
    "     sgdState_G.optimize = true\n",
    "if err_F < margin or err_R < margin then\n",
    "     sgdState_D.optimize = false\n",
    "end\n",
    "if err_F > (1.0-margin) or err_R > (1.0-margin) then\n",
    "     sgdState_G.optimize = false\n",
    "end\n",
    "if sgdState_G.optimize == false and sgdState_D.optimize == false then\n",
    "     sgdState_G.optimize = true\n",
    "     sgdState_D.optimize = true\n",
    "end\n",
    "'''\n",
    "\n",
    "\n",
    "real_m, fake_m = 0.2, 0.2\n",
    "margin = 0.2 #(0.1*0.3 + 0.1 = 0.13)\n",
    "doptim, goptim = True, True\n",
    "_fake, _real = 0.5, 0.5\n",
    "gen_loss = 1.0\n",
    "dis_los = 0.5\n",
    "\n",
    "gen_gan_t = 0.06\n",
    "gan = 1.0\n",
    "\n",
    "g_threshold = 0.13\n",
    "\n",
    "\n",
    "\n",
    "for epoch in range(epochs):\n",
    "    for ii in range(r):\n",
    "        step += 1\n",
    "        #zeros = np.zeros([batch_size, 1])* ((np.random.random_sample() *0.4) - 0.2)\n",
    "        zeros = np.zeros([batch_size, 1])\n",
    "        ones = np.ones([batch_size, 1]) * ((np.random.random_sample() *0.5) + 0.7)\n",
    "        \n",
    "        d_pairs = train_pairs[ii*batch_size : (ii+1)*batch_size]\n",
    "        batch, batch_labels, pose_labels = get_batch_data(d_pairs)\n",
    "\n",
    "        \n",
    "        k = np.random.randint(1,l-1)\n",
    "        d_inputs = dataset_train[k*batch_size : (k+1)*batch_size]\n",
    "        \n",
    "        feed_dict = {inputs_: batch, targets_: batch_labels, pose_: pose_labels,\n",
    "                    fake_label: zeros, real_label: ones, disc_inputs: d_inputs}\n",
    "        fetch_val = [gen_loss_op, dis_loss_op, dreal_loss, dfake_loss, gan_loss, supervised_loss]\n",
    "            \n",
    "        #if _fake > (1.0 - fake_m) or _real > (1.0 - real_m):\n",
    "        #    goptim = False\n",
    "        '''\n",
    "        if gen_loss > margin:\n",
    "            goptim = True\n",
    "        \n",
    "        if _fake < fake_m or _real < real_m:\n",
    "            doptim = False\n",
    "            \n",
    "        if goptim == False and doptim == False:\n",
    "            goptim, doptim = True, True\n",
    "            \n",
    "        if goptim == True and doptim == True: #biased towards generator\n",
    "            goptim = True\n",
    "        '''\n",
    "        \n",
    "        #if gen_loss < 0.34:\n",
    "        #    goptim = False\n",
    "            \n",
    "        #if gen_loss > margin\n",
    "        \n",
    "        if _real < real_m or _fake < fake_m or dis_los < margin:\n",
    "            doptim = False\n",
    "            \n",
    "        #if gen_loss < (g_threshold):\n",
    "        #    goptim = False\n",
    "        \n",
    "        if gan < gen_gan_t:\n",
    "            goptim = False\n",
    "            \n",
    "        if goptim == False and doptim == False:\n",
    "            goptim, doptim = True, True\n",
    "        \n",
    "        if goptim: # biased towards generator\n",
    "            fetch_val.append(gen_train_op)\n",
    "        else:\n",
    "            fetch_val.append(dis_train_op) \n",
    "        \n",
    "        \n",
    "        gen_loss, dis_loss, _real, _fake, gan, superl,_ = sess.run(fetch_val, feed_dict = feed_dict)\n",
    "        '''\n",
    "        feed_dict = {inputs_: batch, targets_: batch_labels, pose_: pose_labels,\n",
    "                    fake_label: zeros, real_label: ones, disc_inputs: d_inputs}\n",
    "        fetch_val = [gen_loss_op, dis_loss_op, dreal_loss, dfake_loss]\n",
    "        \n",
    "        k = prevd < dthresh\n",
    "        \n",
    "        if (step % 5) or k:\n",
    "            fetch_val.append(gen_train_op)\n",
    "        else:\n",
    "            fetch_val.append(dis_train_op)        \n",
    "        \n",
    "        gen_loss, dis_loss, _real, _fake, _ = sess.run(fetch_val, feed_dict = feed_dict)\n",
    "        prevd = dis_loss\n",
    "        \n",
    "        #plot_dis_s = plot_dis_s * smooth_factor + dis_loss * (1 - smooth_factor)\n",
    "        #plot_gen_s = plot_gen_s * smooth_factor + gen_loss * (1 - smooth_factor)\n",
    "        #plot_ws = plot_ws * smooth_factor + (1 - smooth_factor)\n",
    "        '''\n",
    "        dis_losses.append(dis_loss)\n",
    "        gen_losses.append(gen_loss)\n",
    "        \n",
    "        #print(goptim, doptim)\n",
    "\n",
    "        if step % 10 == 0:\n",
    "            print('Step {0}: dloss = {1:.4f}, gloss = {2:.4f}, real_loss = {3:.4f}, fake_loss = {4:.4f}, gan_loss = {5:.4f} l1_loss = {6:.4f}'.format(step, dis_loss, gen_loss, _real, _fake, gan, superl))\n",
    "            \n",
    "    print('Epoch {0}: dis loss = {1:.4f}, gen loss = {2:.4f}, real_label_loss = {3:.4f}, fake_label_loss = {4:.4f}'.format(epoch, dis_loss, gen_loss, _real, _fake))\n",
    "    plt.plot(dis_losses)\n",
    "    plt.title('discriminator loss')\n",
    "    plt.xlabel('iterations')\n",
    "    plt.ylabel('loss')\n",
    "    plt.show()\n",
    "\n",
    "    plt.plot(gen_losses)\n",
    "    plt.title('generator loss')\n",
    "    plt.xlabel('iterations')\n",
    "    plt.ylabel('loss')\n",
    "    plt.show()"
   ]
  },
  {
   "cell_type": "code",
   "execution_count": null,
   "metadata": {
    "collapsed": false
   },
   "outputs": [],
   "source": [
    "dis_var_list = tf.get_collection(tf.GraphKeys.GLOBAL_VARIABLES, 'dis')\n",
    "gen_var_list = tf.get_collection(tf.GraphKeys.GLOBAL_VARIABLES, 'encoder')\n",
    "saver = tf.train.Saver(dis_var_list + gen_var_list)\n",
    "saver.save(sess, 'model/dcgan_pose_car_op_one_pose')"
   ]
  },
  {
   "cell_type": "code",
   "execution_count": null,
   "metadata": {
    "collapsed": true
   },
   "outputs": [],
   "source": [
    "d_pairs = test_pairs[5 * batch_size : 6 * batch_size]\n",
    "test_batch, test_labels, test_pose = get_batch_data(d_pairs, False)"
   ]
  },
  {
   "cell_type": "code",
   "execution_count": null,
   "metadata": {
    "collapsed": true
   },
   "outputs": [],
   "source": [
    "feed_dict = { inputs_: test_batch, pose_: test_pose}\n",
    "op = sess.run([generated_images], feed_dict = feed_dict)"
   ]
  },
  {
   "cell_type": "code",
   "execution_count": null,
   "metadata": {
    "collapsed": true
   },
   "outputs": [],
   "source": [
    "j = 20\n",
    "op = denormalize(op[0])\n",
    "\n"
   ]
  },
  {
   "cell_type": "code",
   "execution_count": null,
   "metadata": {
    "collapsed": false
   },
   "outputs": [],
   "source": [
    "#op = op.astype(np.uint8)\n",
    "print(np.min(op), np.max(op))\n",
    "#print(np.where(op < -0.00001 ))\n",
    "\n",
    "#print(op[0][0][59])"
   ]
  },
  {
   "cell_type": "code",
   "execution_count": null,
   "metadata": {
    "collapsed": true
   },
   "outputs": [],
   "source": [
    "op = np.where(op < 0.0,0.0, op)"
   ]
  },
  {
   "cell_type": "code",
   "execution_count": null,
   "metadata": {
    "collapsed": false
   },
   "outputs": [],
   "source": [
    "print(np.min(op), np.max(op))"
   ]
  },
  {
   "cell_type": "code",
   "execution_count": null,
   "metadata": {
    "collapsed": false
   },
   "outputs": [],
   "source": [
    "for j in range(batch_size):\n",
    "    tmp = op[j]\n",
    "    plt.imshow(tmp / 255)\n",
    "    plt.show()\n",
    "\n",
    "    plt.imshow(denormalize(test_batch[j])/255)\n",
    "    plt.show()\n",
    "\n",
    "    plt.imshow(denormalize(test_labels[j])/255)\n",
    "    plt.show()"
   ]
  },
  {
   "cell_type": "code",
   "execution_count": null,
   "metadata": {
    "collapsed": true
   },
   "outputs": [],
   "source": []
  },
  {
   "cell_type": "code",
   "execution_count": null,
   "metadata": {
    "collapsed": true
   },
   "outputs": [],
   "source": []
  },
  {
   "cell_type": "code",
   "execution_count": null,
   "metadata": {
    "collapsed": true
   },
   "outputs": [],
   "source": []
  }
 ],
 "metadata": {
  "kernelspec": {
   "display_name": "Python 3",
   "language": "python",
   "name": "python3"
  },
  "language_info": {
   "codemirror_mode": {
    "name": "ipython",
    "version": 3
   },
   "file_extension": ".py",
   "mimetype": "text/x-python",
   "name": "python",
   "nbconvert_exporter": "python",
   "pygments_lexer": "ipython3",
   "version": "3.5.2"
  }
 },
 "nbformat": 4,
 "nbformat_minor": 1
}
