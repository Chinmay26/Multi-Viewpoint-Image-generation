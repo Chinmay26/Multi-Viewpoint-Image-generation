{
 "cells": [
  {
   "cell_type": "code",
   "execution_count": 1,
   "metadata": {
    "collapsed": true
   },
   "outputs": [],
   "source": [
    "%matplotlib inline\n",
    "import matplotlib\n",
    "import tensorflow as tf\n",
    "import numpy as np\n",
    "import matplotlib.pyplot as plt\n",
    "from scipy import misc\n",
    "from scipy import ndimage\n",
    "import os\n",
    "from matplotlib.pyplot import imshow\n",
    "import matplotlib.image as mpimg\n",
    "from sklearn.utils import shuffle\n",
    "import tensorflow.contrib.layers as layers\n",
    "import tensorflow.contrib.slim as slim"
   ]
  },
  {
   "cell_type": "code",
   "execution_count": 2,
   "metadata": {
    "collapsed": true
   },
   "outputs": [],
   "source": [
    "imageset = np.empty((7704,64,64,3), dtype='float32')\n",
    "\n",
    "#There are 7704 images in the dataset.\n",
    "#214 folders. Each having 36 images.\n",
    "rootdir = '/home/chinmay/CODE/deep_learning/shapenet_datasets/mug_unprocessed/mug/models/3dw'\n",
    "cnt = 0\n",
    "total_cnt = 0\n",
    "\n",
    "for subdir, dirs, files in os.walk(rootdir):\n",
    "    for file in files:\n",
    "        filepath = subdir + os.sep + file\n",
    "        if filepath.endswith('.png'):\n",
    "            if cnt == 36:\n",
    "                cnt = 0\n",
    "                total_cnt += 1\n",
    "            cnt += 1\n",
    "            seq_number = int(filepath.split('-')[-1].split('.')[0])\n",
    "            \n",
    "            imageset[total_cnt*36 + seq_number] = misc.imread(filepath).astype(np.float32)"
   ]
  },
  {
   "cell_type": "code",
   "execution_count": 3,
   "metadata": {
    "collapsed": false
   },
   "outputs": [
    {
     "data": {
      "image/png": "[encoded data removed]",
      "text/plain": [
       "<matplotlib.figure.Figure at 0x7ff7a397e470>"
      ]
     },
     "metadata": {},
     "output_type": "display_data"
    }
   ],
   "source": [
    "#this part is to visulize image\n",
    "tmp = imageset[3569]\n",
    "#print tmp.shape\n",
    "plt.imshow(tmp/255)\n",
    "plt.show()"
   ]
  },
  {
   "cell_type": "code",
   "execution_count": 4,
   "metadata": {
    "collapsed": true
   },
   "outputs": [],
   "source": [
    "data_ = np.zeros(imageset.shape)\n",
    "labels_ = np.zeros(imageset.shape)\n",
    "pose = np.zeros((7704,8,8,36))\n",
    "\n",
    "\n",
    "\n",
    "for cnt in range(214):\n",
    "    for itr in range(36):\n",
    "        data_[(cnt*36) + itr] = imageset[cnt*36]\n",
    "        pose_tmp = np.zeros(36)\n",
    "        pose_tmp[itr] = 1\n",
    "        pose[(cnt*36) + itr] = np.broadcast_to(pose_tmp,(8,8,36))\n",
    "        labels_[(cnt*36) + itr] =  imageset[(cnt*36) + itr]\n",
    "        #print( (cnt*36) + itr)\n",
    "\n",
    "data_, labels_, pose = shuffle(data_, labels_, pose, random_state=0)\n",
    "#This code will generate labels for the dataset\n",
    "#perm = np.random.permutation(data_.shape[0])\n",
    "\n",
    "# data_ = data_[perm]\n",
    "# labels_ = labels_[perm]\n",
    "# pose = pose[perm]\n",
    "\n",
    "# For current image label is the next image (image with 10 degree rotation)\n",
    "# For last image in the set (36th image) label would be first image\n",
    "data_train = np.array(data_[:6120])\n",
    "data_test = np.array(data_[6120:])\n",
    "\n",
    "train_labels = np.array(labels_[:6120])\n",
    "test_labels = np.array(labels_[6120:])"
   ]
  },
  {
   "cell_type": "code",
   "execution_count": 5,
   "metadata": {
    "collapsed": false
   },
   "outputs": [
    {
     "name": "stdout",
     "output_type": "stream",
     "text": [
      "[ 0.  0.  0.  0.  0.  0.  0.  0.  0.  0.  0.  0.  0.  0.  0.  0.  0.  0.\n",
      "  0.  0.  0.  0.  0.  0.  0.  0.  0.  0.  1.  0.  0.  0.  0.  0.  0.  0.]\n"
     ]
    },
    {
     "data": {
      "image/png": "[encoded data removed]",
      "text/plain": [
       "<matplotlib.figure.Figure at 0x7ff78aca0710>"
      ]
     },
     "metadata": {},
     "output_type": "display_data"
    },
    {
     "data": {
      "image/png": "[encoded data removed]",
      "text/plain": [
       "<matplotlib.figure.Figure at 0x7ff78acae8d0>"
      ]
     },
     "metadata": {},
     "output_type": "display_data"
    }
   ],
   "source": [
    "tmp = train_labels[5][...,::-1]\n",
    "tmp1 = data_train[5][...,::-1]\n",
    "\n",
    "print(pose[100][0][0])\n",
    "plt.imshow(tmp1/255)\n",
    "plt.show()\n",
    "plt.imshow(tmp/255)\n",
    "plt.show()"
   ]
  },
  {
   "cell_type": "code",
   "execution_count": 6,
   "metadata": {
    "collapsed": true
   },
   "outputs": [],
   "source": [
    "#normalize data\n",
    "\n",
    "\n",
    "#data_train *= 2\n",
    "data_train /= 255\n",
    "#data_train -= 1\n",
    "\n",
    "#data_test *= 2\n",
    "data_test /= 255\n",
    "#data_test -= 1\n",
    "\n",
    "\n",
    "#train_labels *= 2\n",
    "train_labels /= 255\n",
    "#train_labels -= 1\n",
    "\n",
    "#test_labels *= 2\n",
    "test_labels /= 255\n",
    "#test_labels -= 1"
   ]
  },
  {
   "cell_type": "code",
   "execution_count": 7,
   "metadata": {
    "collapsed": true
   },
   "outputs": [],
   "source": [
    "def conv2d(input, output, kernel_h=3, kernel_w=3, k_stride=2, scope_name=\"conv2d\", act=tf.nn.leaky_relu):\n",
    "    #act = tf.nn.leaky_relu\n",
    "    with tf.variable_scope(scope_name):\n",
    "        return layers.conv2d(inputs=input, num_outputs=output, kernel_size=[kernel_h, kernel_w], stride=k_stride, activation_fn=act,\n",
    "         biases_initializer=tf.zeros_initializer(), weights_initializer=tf.random_normal_initializer(0.0, 0.02))\n",
    "    \n",
    "def deconv2d(input, kernel_size, stride, num_filter, scope_name='deconv2d', act=tf.nn.leaky_relu):\n",
    "    with tf.variable_scope(scope_name): \n",
    "        stride_shape = [stride, stride]\n",
    "        kernel_shape = [kernel_size, kernel_size]\n",
    "        return layers.conv2d_transpose(inputs=input, num_outputs=num_filter, stride=stride_shape, kernel_size= kernel_shape,\n",
    "            padding='SAME', biases_initializer=tf.zeros_initializer(), weights_initializer=tf.random_normal_initializer(0.0, 0.02),\n",
    "            activation_fn=act\n",
    "        )\n",
    "\n",
    "def max_pool(input, kernel_size, stride):\n",
    "    ksize = [1, kernel_size, kernel_size, 1]\n",
    "    strides = [1, stride, stride, 1]\n",
    "    return tf.nn.max_pool(input, ksize=ksize, strides=strides, padding='SAME')\n",
    "\n",
    "\n",
    "def batch_norm(inputs_, is_training):\n",
    "    out = tf.contrib.layers.batch_norm(inputs_, decay = 0.99, center = True, scale = True,\n",
    "                                       is_training = is_training, updates_collections = None)\n",
    "    return out\n",
    "\n",
    "def fc(input, num_output, name = 'fc'):\n",
    "    with tf.variable_scope(name):\n",
    "        num_input = input.get_shape()[1]\n",
    "        W = tf.get_variable('w', [num_input, num_output], tf.float32, tf.random_normal_initializer(0.0, 0.02))\n",
    "        b = tf.get_variable('b', [num_output], initializer = tf.constant_initializer(0.0))\n",
    "        return tf.matmul(input, W) + b\n",
    "\n",
    "def l1_loss(inputs_, targets_):\n",
    "    loss = tf.reduce_mean(abs(inputs_ - targets_))\n",
    "    return loss\n",
    "\n",
    "def ce_loss(labels, logits):\n",
    "        loss = tf.nn.sigmoid_cross_entropy_with_logits(labels = labels, logits = logits)\n",
    "        return tf.reduce_mean(loss)\n",
    "    "
   ]
  },
  {
   "cell_type": "code",
   "execution_count": 33,
   "metadata": {
    "collapsed": true
   },
   "outputs": [],
   "source": [
    "tf.reset_default_graph()\n",
    "#to Reset Tensor Flow Graph"
   ]
  },
  {
   "cell_type": "code",
   "execution_count": 34,
   "metadata": {
    "collapsed": true
   },
   "outputs": [],
   "source": [
    "batch_size = 36\n",
    "# tf Graph input (only pictures)\n",
    "inputs_ = tf.placeholder(tf.float32, (batch_size, 64,64,3), name=\"input\")\n",
    "targets_ = tf.placeholder(tf.float32, (batch_size, 64,64,3), name=\"target\")\n",
    "pose_ = tf.placeholder(tf.float32, (batch_size, 8, 8, 36), name=\"pose\")\n",
    "\n",
    "disc_inputs = tf.placeholder(tf.float32, (batch_size, 64,64,3), name=\"input\")\n",
    "\n",
    "real_label = tf.placeholder(tf.float32, [None, 1])\n",
    "fake_label = tf.placeholder(tf.float32, [None, 1])"
   ]
  },
  {
   "cell_type": "code",
   "execution_count": 35,
   "metadata": {
    "collapsed": true
   },
   "outputs": [],
   "source": [
    "\n",
    "#generate coarse images from inputs_\n",
    "def auto_encoder(inputs_, pose_):\n",
    "    print(inputs_)\n",
    "    with tf.variable_scope('encoder'):\n",
    "        _ = conv2d(inputs_, output=16 ,kernel_h=3, kernel_w=3, k_stride=2, scope_name=\"conv1\",act=tf.nn.leaky_relu)\n",
    "        _ = batch_norm(_, True)\n",
    "        _ = conv2d(_, output=32 ,kernel_h=3, kernel_w=3, k_stride=2, scope_name=\"conv2\",act=tf.nn.leaky_relu)\n",
    "        _ = batch_norm(_, True)\n",
    "        _ = conv2d(_, output=92 ,kernel_h=3, kernel_w=3, k_stride=2, scope_name=\"conv3\",act=tf.nn.leaky_relu)\n",
    "        _ = tf.concat([_, pose_], 3)\n",
    "\n",
    "        _ = deconv2d(_, kernel_size=3, stride=2, num_filter=32, scope_name='deconv1',act=tf.nn.leaky_relu)\n",
    "        _ = deconv2d(_, kernel_size=3, stride=2, num_filter=16, scope_name='deconv2',act=tf.nn.leaky_relu)\n",
    "        _ = deconv2d(_, kernel_size=3, stride=2, num_filter=3, scope_name='deconv3',act=tf.nn.leaky_relu)\n",
    "        _ = tf.sigmoid(_)\n",
    "    return _ \n",
    "    \n",
    "    \n",
    "# discriminator should give a fc layer\n",
    "def discriminator(inputs_):\n",
    "    with tf.variable_scope('dis', reuse = tf.AUTO_REUSE):\n",
    "        ''' \n",
    "        _ = conv2d(inputs_, 4, 2, 32, 'conv1')\n",
    "        _ = leaky_relu(_)\n",
    "        _ = conv2d(_, 4, 2, 64, 'conv2')\n",
    "        _ = batch_norm(_)\n",
    "        _ = leaky_relu(_)\n",
    "        _ = conv2d(_, 4, 2, 128, 'conv3')\n",
    "        _ = batch_norm(_)\n",
    "        _ = leaky_relu(_)\n",
    "        _ = tf.reshape(_, [-1, 4 * 4 * 128])\n",
    "        _ = fc(_, 1, 'fc4')\n",
    "        print(_.get_shape(), \"FC - Result\")\n",
    "        '''\n",
    "        \n",
    "        _ = conv2d(inputs_, output=16 ,kernel_h=3, kernel_w=3, k_stride=2, scope_name=\"dis_conv1\", act=tf.nn.leaky_relu)\n",
    "        _ = conv2d(_, output=32 ,kernel_h=3, kernel_w=3, k_stride=2, scope_name=\"dis_conv2\", act=tf.nn.leaky_relu)\n",
    "        _ = batch_norm(_, True)\n",
    "        _ = conv2d(_, output=32 ,kernel_h=3, kernel_w=3, k_stride=2, scope_name=\"dis_conv3\", act=tf.nn.leaky_relu)\n",
    "        _ = batch_norm(_, True)\n",
    "        _ = tf.reshape(_, [-1, 8 * 8 * 32])        \n",
    "        _ = fc(_, 1, 'dis_fc1')\n",
    "        return _\n",
    "        \n",
    "    "
   ]
  },
  {
   "cell_type": "code",
   "execution_count": 36,
   "metadata": {
    "collapsed": false
   },
   "outputs": [],
   "source": [
    "\n",
    "global_step = tf.Variable(0,trainable=False)\n",
    "lr = 5e-4\n"
   ]
  },
  {
   "cell_type": "code",
   "execution_count": 37,
   "metadata": {
    "collapsed": false
   },
   "outputs": [
    {
     "name": "stdout",
     "output_type": "stream",
     "text": [
      "Tensor(\"input:0\", shape=(36, 64, 64, 3), dtype=float32)\n"
     ]
    }
   ],
   "source": [
    "alpha = 0.1\n",
    "beta = 0.9\n",
    "\n",
    "generated_images = auto_encoder(inputs_, pose_)\n",
    "dis_fake_samples_op = discriminator(generated_images)\n",
    "\n",
    "gen_loss_op = alpha * ce_loss(real_label, dis_fake_samples_op) + beta * l1_loss(generated_images, targets_)\n",
    "dis_loss_op = ce_loss(fake_label, dis_fake_samples_op) + ce_loss(real_label, discriminator(disc_inputs))\n",
    "\n",
    " "
   ]
  },
  {
   "cell_type": "code",
   "execution_count": 38,
   "metadata": {
    "collapsed": false
   },
   "outputs": [],
   "source": [
    "disriminator_vars = tf.get_collection(tf.GraphKeys.GLOBAL_VARIABLES, 'dis')\n",
    "generator_vars = tf.get_collection(tf.GraphKeys.GLOBAL_VARIABLES, 'encoder')\n",
    "#print (generator_vars)\n",
    "dis_optimizer = tf.train.RMSPropOptimizer(lr)\n",
    "dis_train_op = dis_optimizer.minimize(dis_loss_op, var_list=disriminator_vars)\n",
    "\n",
    "gen_optimizer = tf.train.RMSPropOptimizer(lr)\n",
    "gen_train_op = gen_optimizer.minimize(gen_loss_op, var_list=generator_vars)"
   ]
  },
  {
   "cell_type": "code",
   "execution_count": 39,
   "metadata": {
    "collapsed": false
   },
   "outputs": [
    {
     "name": "stdout",
     "output_type": "stream",
     "text": [
      "Iteration 10: dis loss = 0.5556, gen loss = 0.4653\n",
      "Iteration 20: dis loss = 0.2333, gen loss = 0.5307\n",
      "Iteration 30: dis loss = 0.1064, gen loss = 0.6275\n",
      "Iteration 40: dis loss = 0.0486, gen loss = 0.7115\n",
      "Iteration 50: dis loss = 0.0240, gen loss = 0.7801\n",
      "Iteration 60: dis loss = 0.0109, gen loss = 0.8446\n",
      "Iteration 70: dis loss = 0.0069, gen loss = 0.9097\n",
      "Iteration 80: dis loss = 0.0031, gen loss = 0.9654\n",
      "Iteration 90: dis loss = 0.0021, gen loss = 1.0286\n",
      "Iteration 100: dis loss = 0.0021, gen loss = 1.0779\n",
      "Iteration 110: dis loss = 0.0007, gen loss = 1.1390\n",
      "Iteration 120: dis loss = 0.0004, gen loss = 1.2014\n",
      "Iteration 130: dis loss = 0.0004, gen loss = 1.2417\n",
      "Iteration 140: dis loss = 0.0008, gen loss = 1.1837\n",
      "Iteration 150: dis loss = 0.1393, gen loss = 0.6817\n",
      "Iteration 160: dis loss = 0.2229, gen loss = 0.7758\n",
      "Iteration 170: dis loss = 0.9889, gen loss = 0.6599\n",
      "Iteration 180: dis loss = 0.9422, gen loss = 0.5443\n",
      "Iteration 190: dis loss = 0.6872, gen loss = 0.4441\n",
      "Iteration 200: dis loss = 0.4830, gen loss = 0.4093\n",
      "Iteration 210: dis loss = 0.3298, gen loss = 0.4026\n",
      "Iteration 220: dis loss = 0.3718, gen loss = 0.4196\n",
      "Iteration 230: dis loss = 1.3826, gen loss = 0.6121\n",
      "Iteration 240: dis loss = 0.5031, gen loss = 0.3344\n",
      "Iteration 250: dis loss = 0.6452, gen loss = 0.2717\n",
      "Iteration 260: dis loss = 0.8262, gen loss = 0.2351\n",
      "Iteration 270: dis loss = 0.8776, gen loss = 0.2179\n",
      "Iteration 280: dis loss = 0.4635, gen loss = 0.3048\n",
      "Iteration 290: dis loss = 1.0226, gen loss = 0.2129\n",
      "Iteration 300: dis loss = 0.4874, gen loss = 0.3135\n",
      "Iteration 310: dis loss = 0.3237, gen loss = 0.4596\n",
      "Iteration 320: dis loss = 0.1440, gen loss = 0.4556\n",
      "Iteration 330: dis loss = 0.3480, gen loss = 0.4460\n",
      "Iteration 340: dis loss = 0.1208, gen loss = 0.4778\n",
      "Iteration 350: dis loss = 0.2779, gen loss = 0.6055\n",
      "Iteration 360: dis loss = 0.1135, gen loss = 0.5195\n",
      "Iteration 370: dis loss = 0.1698, gen loss = 0.4900\n",
      "Iteration 380: dis loss = 0.0717, gen loss = 0.6346\n",
      "Iteration 390: dis loss = 0.2568, gen loss = 0.5509\n",
      "Iteration 400: dis loss = 0.1210, gen loss = 0.5745\n",
      "Iteration 410: dis loss = 0.1207, gen loss = 0.5872\n",
      "Iteration 420: dis loss = 0.2576, gen loss = 0.7311\n",
      "Iteration 430: dis loss = 0.0486, gen loss = 0.6230\n",
      "Iteration 440: dis loss = 0.0712, gen loss = 0.6422\n",
      "Iteration 450: dis loss = 0.0655, gen loss = 0.6254\n",
      "Iteration 460: dis loss = 0.0932, gen loss = 0.8053\n",
      "Iteration 470: dis loss = 0.0309, gen loss = 0.6621\n",
      "Iteration 480: dis loss = 0.2011, gen loss = 0.7124\n",
      "Iteration 490: dis loss = 0.3452, gen loss = 0.5617\n",
      "Iteration 500: dis loss = 0.5546, gen loss = 0.3902\n",
      "Iteration 510: dis loss = 1.3650, gen loss = 0.2180\n",
      "Iteration 520: dis loss = 0.2287, gen loss = 0.4405\n",
      "Iteration 530: dis loss = 0.1448, gen loss = 0.4799\n",
      "Iteration 540: dis loss = 0.1865, gen loss = 0.4765\n",
      "Iteration 550: dis loss = 0.1925, gen loss = 0.4780\n",
      "Iteration 560: dis loss = 0.4702, gen loss = 0.3905\n",
      "Iteration 570: dis loss = 0.4071, gen loss = 0.6068\n",
      "Iteration 580: dis loss = 0.2892, gen loss = 0.6034\n",
      "Iteration 590: dis loss = 0.9135, gen loss = 0.3144\n",
      "Iteration 600: dis loss = 0.7388, gen loss = 0.3370\n",
      "Iteration 610: dis loss = 0.4541, gen loss = 0.3568\n",
      "Iteration 620: dis loss = 0.6299, gen loss = 0.3019\n",
      "Iteration 630: dis loss = 0.9352, gen loss = 0.5261\n",
      "Iteration 640: dis loss = 0.9473, gen loss = 0.5549\n",
      "Iteration 650: dis loss = 0.9606, gen loss = 0.2404\n",
      "Iteration 660: dis loss = 0.4427, gen loss = 0.4245\n",
      "Iteration 670: dis loss = 0.4631, gen loss = 0.4053\n",
      "Iteration 680: dis loss = 0.4616, gen loss = 0.3380\n",
      "Iteration 690: dis loss = 0.5774, gen loss = 0.3065\n",
      "Iteration 700: dis loss = 0.8035, gen loss = 0.5692\n",
      "Iteration 710: dis loss = 0.7064, gen loss = 0.2810\n",
      "Iteration 720: dis loss = 0.8967, gen loss = 0.2768\n",
      "Iteration 730: dis loss = 0.3367, gen loss = 0.4087\n",
      "Iteration 740: dis loss = 0.5237, gen loss = 0.4201\n",
      "Iteration 750: dis loss = 0.5860, gen loss = 0.2987\n",
      "Iteration 760: dis loss = 0.5655, gen loss = 0.2645\n",
      "Iteration 770: dis loss = 0.6362, gen loss = 0.3498\n",
      "Iteration 780: dis loss = 0.4952, gen loss = 0.3098\n",
      "Iteration 790: dis loss = 0.8757, gen loss = 0.5279\n",
      "Iteration 800: dis loss = 0.3041, gen loss = 0.4944\n",
      "Iteration 810: dis loss = 0.5055, gen loss = 0.4713\n",
      "Iteration 820: dis loss = 0.2880, gen loss = 0.4734\n",
      "Iteration 830: dis loss = 0.3055, gen loss = 0.5288\n",
      "Iteration 840: dis loss = 0.3658, gen loss = 0.4127\n",
      "Iteration 850: dis loss = 0.4009, gen loss = 0.3341\n",
      "Iteration 860: dis loss = 0.2056, gen loss = 0.4971\n",
      "Iteration 870: dis loss = 0.3122, gen loss = 0.5044\n",
      "Iteration 880: dis loss = 0.3295, gen loss = 0.4306\n",
      "Iteration 890: dis loss = 0.4296, gen loss = 0.5625\n",
      "Iteration 900: dis loss = 0.1988, gen loss = 0.5999\n",
      "Iteration 910: dis loss = 0.2532, gen loss = 0.4577\n",
      "Iteration 920: dis loss = 0.6359, gen loss = 0.2975\n",
      "Iteration 930: dis loss = 0.1523, gen loss = 0.4763\n",
      "Iteration 940: dis loss = 1.2817, gen loss = 0.7956\n",
      "Iteration 950: dis loss = 0.1412, gen loss = 0.5325\n",
      "Iteration 960: dis loss = 0.2032, gen loss = 0.5115\n",
      "Iteration 970: dis loss = 0.3483, gen loss = 0.3936\n",
      "Iteration 980: dis loss = 0.2060, gen loss = 0.4892\n",
      "Iteration 990: dis loss = 0.3314, gen loss = 0.4513\n",
      "Iteration 1000: dis loss = 0.2891, gen loss = 0.4347\n",
      "Iteration 1010: dis loss = 0.2011, gen loss = 0.5968\n",
      "Iteration 1020: dis loss = 0.1153, gen loss = 0.5815\n",
      "Iteration 1030: dis loss = 0.2950, gen loss = 0.4595\n",
      "Iteration 1040: dis loss = 0.4548, gen loss = 0.3556\n",
      "Iteration 1050: dis loss = 0.2345, gen loss = 0.4555\n",
      "Iteration 1060: dis loss = 0.2640, gen loss = 0.5025\n",
      "Iteration 1070: dis loss = 0.0987, gen loss = 0.5556\n",
      "Iteration 1080: dis loss = 0.0687, gen loss = 0.6453\n",
      "Iteration 1090: dis loss = 0.6531, gen loss = 0.3874\n",
      "Iteration 1100: dis loss = 0.0819, gen loss = 0.6424\n",
      "Iteration 1110: dis loss = 0.0726, gen loss = 0.6368\n",
      "Iteration 1120: dis loss = 0.1366, gen loss = 0.5202\n",
      "Iteration 1130: dis loss = 0.1311, gen loss = 0.5609\n",
      "Iteration 1140: dis loss = 0.5820, gen loss = 0.3480\n",
      "Iteration 1150: dis loss = 0.1105, gen loss = 0.5486\n",
      "Iteration 1160: dis loss = 0.2633, gen loss = 0.4340\n",
      "Iteration 1170: dis loss = 0.1414, gen loss = 0.6469\n",
      "Iteration 1180: dis loss = 0.0555, gen loss = 0.6687\n",
      "Iteration 1190: dis loss = 0.0412, gen loss = 0.6798\n",
      "Iteration 1200: dis loss = 0.1904, gen loss = 0.6299\n",
      "Iteration 1210: dis loss = 0.1174, gen loss = 0.6608\n",
      "Iteration 1220: dis loss = 0.0763, gen loss = 0.6335\n",
      "Iteration 1230: dis loss = 0.3442, gen loss = 0.4337\n",
      "Iteration 1240: dis loss = 0.0552, gen loss = 0.6076\n",
      "Iteration 1250: dis loss = 0.1006, gen loss = 0.5240\n",
      "Iteration 1260: dis loss = 0.6757, gen loss = 1.0118\n",
      "Iteration 1270: dis loss = 0.1384, gen loss = 0.5401\n",
      "Iteration 1280: dis loss = 0.1882, gen loss = 0.5122\n",
      "Iteration 1290: dis loss = 0.1991, gen loss = 0.5145\n",
      "Iteration 1300: dis loss = 0.2824, gen loss = 0.4733\n",
      "Iteration 1310: dis loss = 0.4340, gen loss = 0.3971\n",
      "Iteration 1320: dis loss = 0.1044, gen loss = 0.5312\n",
      "Iteration 1330: dis loss = 0.0982, gen loss = 0.6486\n",
      "Iteration 1340: dis loss = 0.2111, gen loss = 0.7044\n",
      "Iteration 1350: dis loss = 0.1571, gen loss = 0.5567\n",
      "Iteration 1360: dis loss = 0.1155, gen loss = 0.6376\n",
      "Iteration 1370: dis loss = 0.1395, gen loss = 0.5063\n",
      "Iteration 1380: dis loss = 0.0751, gen loss = 0.5271\n",
      "Iteration 1390: dis loss = 0.0670, gen loss = 0.6787\n",
      "Iteration 1400: dis loss = 0.1206, gen loss = 0.9163\n",
      "Iteration 1410: dis loss = 0.2298, gen loss = 0.8295\n",
      "Iteration 1420: dis loss = 0.4853, gen loss = 0.4908\n",
      "Iteration 1430: dis loss = 0.1188, gen loss = 0.8726\n",
      "Iteration 1440: dis loss = 0.0894, gen loss = 0.6478\n",
      "Iteration 1450: dis loss = 0.2179, gen loss = 0.5761\n",
      "Iteration 1460: dis loss = 0.1250, gen loss = 0.7192\n",
      "Iteration 1470: dis loss = 0.1698, gen loss = 0.6525\n",
      "Iteration 1480: dis loss = 0.1565, gen loss = 0.6969\n",
      "Iteration 1490: dis loss = 0.0764, gen loss = 0.6530\n",
      "Iteration 1500: dis loss = 0.0306, gen loss = 0.6888\n",
      "Iteration 1510: dis loss = 0.0251, gen loss = 0.7236\n",
      "Iteration 1520: dis loss = 0.1061, gen loss = 0.6107\n",
      "Iteration 1530: dis loss = 0.6006, gen loss = 0.3482\n",
      "Iteration 1540: dis loss = 0.1553, gen loss = 0.5692\n",
      "Iteration 1550: dis loss = 0.1440, gen loss = 0.6875\n",
      "Iteration 1560: dis loss = 0.1903, gen loss = 0.5182\n",
      "Iteration 1570: dis loss = 0.3389, gen loss = 0.5352\n",
      "Iteration 1580: dis loss = 0.3500, gen loss = 0.8372\n",
      "Iteration 1590: dis loss = 0.3489, gen loss = 0.3771\n",
      "Iteration 1600: dis loss = 0.2029, gen loss = 0.4933\n",
      "Iteration 1610: dis loss = 0.1421, gen loss = 0.5943\n",
      "Iteration 1620: dis loss = 0.1322, gen loss = 0.7325\n",
      "Iteration 1630: dis loss = 0.2953, gen loss = 0.4422\n",
      "Iteration 1640: dis loss = 0.2265, gen loss = 0.5861\n",
      "Iteration 1650: dis loss = 0.2743, gen loss = 0.8282\n",
      "Iteration 1660: dis loss = 0.1047, gen loss = 0.5244\n",
      "Iteration 1670: dis loss = 0.1098, gen loss = 0.6874\n",
      "Iteration 1680: dis loss = 0.1308, gen loss = 0.6520\n",
      "Iteration 1690: dis loss = 0.0883, gen loss = 0.5425\n",
      "Iteration 1700: dis loss = 0.2149, gen loss = 0.6159\n",
      "Iteration 1710: dis loss = 0.1938, gen loss = 0.6955\n",
      "Iteration 1720: dis loss = 0.0821, gen loss = 0.7131\n",
      "Iteration 1730: dis loss = 0.2033, gen loss = 0.6244\n",
      "Iteration 1740: dis loss = 0.3371, gen loss = 0.7946\n",
      "Iteration 1750: dis loss = 0.4510, gen loss = 0.9178\n",
      "Iteration 1760: dis loss = 0.3278, gen loss = 0.8583\n",
      "Iteration 1770: dis loss = 0.0971, gen loss = 0.5694\n",
      "Iteration 1780: dis loss = 0.0440, gen loss = 0.6249\n",
      "Iteration 1790: dis loss = 0.5079, gen loss = 0.3645\n",
      "Iteration 1800: dis loss = 0.2033, gen loss = 0.5323\n",
      "Iteration 1810: dis loss = 0.5360, gen loss = 0.7311\n",
      "Iteration 1820: dis loss = 0.2916, gen loss = 0.6891\n",
      "Iteration 1830: dis loss = 0.3107, gen loss = 0.4065\n",
      "Iteration 1840: dis loss = 0.2382, gen loss = 0.6773\n",
      "Iteration 1850: dis loss = 0.4100, gen loss = 0.7739\n",
      "Iteration 1860: dis loss = 0.8980, gen loss = 0.8940\n",
      "Iteration 1870: dis loss = 0.0825, gen loss = 0.7689\n",
      "Iteration 1880: dis loss = 0.5827, gen loss = 0.4242\n",
      "Iteration 1890: dis loss = 0.1400, gen loss = 0.4838\n",
      "Iteration 1900: dis loss = 0.0858, gen loss = 0.7633\n",
      "Iteration 1910: dis loss = 0.0820, gen loss = 0.6885\n",
      "Iteration 1920: dis loss = 0.0609, gen loss = 0.8433\n",
      "Iteration 1930: dis loss = 0.0671, gen loss = 0.6372\n",
      "Iteration 1940: dis loss = 0.0728, gen loss = 0.7017\n",
      "Iteration 1950: dis loss = 0.0297, gen loss = 0.6728\n",
      "Iteration 1960: dis loss = 0.2128, gen loss = 1.1711\n",
      "Iteration 1970: dis loss = 0.0482, gen loss = 0.9262\n",
      "Iteration 1980: dis loss = 0.0179, gen loss = 0.8042\n",
      "Iteration 1990: dis loss = 0.0318, gen loss = 1.2493\n",
      "Iteration 2000: dis loss = 0.0241, gen loss = 0.7801\n",
      "Iteration 2010: dis loss = 0.0090, gen loss = 0.8211\n",
      "Iteration 2020: dis loss = 0.0541, gen loss = 1.2163\n",
      "Iteration 2030: dis loss = 0.0275, gen loss = 0.7734\n",
      "Iteration 2040: dis loss = 0.0377, gen loss = 0.7313\n",
      "Iteration 2050: dis loss = 0.1853, gen loss = 0.9010\n",
      "Iteration 2060: dis loss = 0.0726, gen loss = 0.7048\n",
      "Iteration 2070: dis loss = 0.0124, gen loss = 0.8833\n",
      "Iteration 2080: dis loss = 0.0311, gen loss = 1.1547\n",
      "Iteration 2090: dis loss = 0.1455, gen loss = 1.0668\n",
      "Iteration 2100: dis loss = 0.2636, gen loss = 0.5328\n",
      "Iteration 2110: dis loss = 0.0706, gen loss = 0.6828\n",
      "Iteration 2120: dis loss = 0.0626, gen loss = 0.6231\n",
      "Iteration 2130: dis loss = 0.0930, gen loss = 0.7984\n",
      "Iteration 2140: dis loss = 0.0222, gen loss = 0.8769\n",
      "Iteration 2150: dis loss = 0.0164, gen loss = 0.8132\n",
      "Iteration 2160: dis loss = 0.0065, gen loss = 0.9054\n",
      "Iteration 2170: dis loss = 0.0135, gen loss = 0.9271\n",
      "Iteration 2180: dis loss = 0.0274, gen loss = 1.5935\n",
      "Iteration 2190: dis loss = 0.1093, gen loss = 0.7424\n",
      "Iteration 2200: dis loss = 0.1340, gen loss = 0.7812\n",
      "Iteration 2210: dis loss = 0.3356, gen loss = 1.2591\n",
      "Iteration 2220: dis loss = 0.1883, gen loss = 0.6122\n",
      "Iteration 2230: dis loss = 0.1577, gen loss = 0.6540\n",
      "Iteration 2240: dis loss = 0.1097, gen loss = 0.5967\n",
      "Iteration 2250: dis loss = 0.4661, gen loss = 0.6138\n",
      "Iteration 2260: dis loss = 0.3104, gen loss = 0.5240\n",
      "Iteration 2270: dis loss = 0.3279, gen loss = 0.6697\n",
      "Iteration 2280: dis loss = 0.6265, gen loss = 0.4404\n",
      "Iteration 2290: dis loss = 0.2728, gen loss = 0.6091\n",
      "Iteration 2300: dis loss = 0.6326, gen loss = 0.4558\n",
      "Iteration 2310: dis loss = 0.3225, gen loss = 0.6050\n",
      "Iteration 2320: dis loss = 0.6130, gen loss = 0.6858\n",
      "Iteration 2330: dis loss = 0.3307, gen loss = 0.3936\n",
      "Iteration 2340: dis loss = 0.3871, gen loss = 0.4270\n",
      "Iteration 2350: dis loss = 0.2222, gen loss = 0.4621\n",
      "Iteration 2360: dis loss = 0.2303, gen loss = 0.5456\n",
      "Iteration 2370: dis loss = 0.5237, gen loss = 0.5312\n",
      "Iteration 2380: dis loss = 0.2118, gen loss = 0.4901\n",
      "Iteration 2390: dis loss = 0.4182, gen loss = 0.6240\n",
      "Iteration 2400: dis loss = 0.1237, gen loss = 0.5015\n",
      "Iteration 2410: dis loss = 0.1675, gen loss = 0.7489\n",
      "Iteration 2420: dis loss = 0.6887, gen loss = 0.6754\n",
      "Iteration 2430: dis loss = 0.1785, gen loss = 0.5564\n",
      "Iteration 2440: dis loss = 0.7272, gen loss = 0.9057\n",
      "Iteration 2450: dis loss = 0.1619, gen loss = 0.5682\n",
      "Iteration 2460: dis loss = 0.3150, gen loss = 0.5273\n",
      "Iteration 2470: dis loss = 0.4504, gen loss = 0.9211\n",
      "Iteration 2480: dis loss = 0.0982, gen loss = 0.5908\n",
      "Iteration 2490: dis loss = 0.3910, gen loss = 0.4243\n",
      "Iteration 2500: dis loss = 0.2093, gen loss = 0.6781\n",
      "Iteration 2510: dis loss = 0.3507, gen loss = 0.5965\n",
      "Iteration 2520: dis loss = 0.3881, gen loss = 0.8725\n",
      "Iteration 2530: dis loss = 0.2427, gen loss = 0.5603\n",
      "Iteration 2540: dis loss = 0.2151, gen loss = 0.5387\n",
      "Iteration 2550: dis loss = 0.6753, gen loss = 0.8009\n",
      "Iteration 2560: dis loss = 1.5640, gen loss = 0.2383\n",
      "Iteration 2570: dis loss = 0.4056, gen loss = 0.4222\n",
      "Iteration 2580: dis loss = 1.6698, gen loss = 0.7887\n",
      "Iteration 2590: dis loss = 0.3406, gen loss = 0.5587\n",
      "Iteration 2600: dis loss = 0.3155, gen loss = 0.4633\n",
      "Iteration 2610: dis loss = 0.2728, gen loss = 0.5446\n",
      "Iteration 2620: dis loss = 0.2327, gen loss = 0.5766\n",
      "Iteration 2630: dis loss = 0.1325, gen loss = 0.6630\n",
      "Iteration 2640: dis loss = 0.0795, gen loss = 0.6122\n",
      "Iteration 2650: dis loss = 0.5085, gen loss = 0.8970\n",
      "Iteration 2660: dis loss = 0.2536, gen loss = 0.4501\n",
      "Iteration 2670: dis loss = 0.2528, gen loss = 0.5560\n",
      "Iteration 2680: dis loss = 0.1660, gen loss = 0.4811\n",
      "Iteration 2690: dis loss = 0.1872, gen loss = 0.5774\n",
      "Iteration 2700: dis loss = 0.1999, gen loss = 0.6696\n",
      "Iteration 2710: dis loss = 0.1509, gen loss = 0.7091\n",
      "Iteration 2720: dis loss = 0.1510, gen loss = 0.7487\n",
      "Iteration 2730: dis loss = 0.3191, gen loss = 0.4584\n",
      "Iteration 2740: dis loss = 0.0906, gen loss = 0.5569\n",
      "Iteration 2750: dis loss = 0.2046, gen loss = 0.5400\n",
      "Iteration 2760: dis loss = 0.1630, gen loss = 0.5253\n",
      "Iteration 2770: dis loss = 0.4873, gen loss = 0.9735\n",
      "Iteration 2780: dis loss = 0.1061, gen loss = 0.6640\n",
      "Iteration 2790: dis loss = 0.0887, gen loss = 0.6541\n",
      "Iteration 2800: dis loss = 0.2774, gen loss = 0.8068\n",
      "Iteration 2810: dis loss = 0.2133, gen loss = 0.8047\n",
      "Iteration 2820: dis loss = 0.4295, gen loss = 0.7750\n",
      "Iteration 2830: dis loss = 0.5263, gen loss = 0.6637\n",
      "Iteration 2840: dis loss = 0.1698, gen loss = 0.6748\n",
      "Iteration 2850: dis loss = 0.1464, gen loss = 0.5325\n",
      "Iteration 2860: dis loss = 0.3000, gen loss = 0.4366\n",
      "Iteration 2870: dis loss = 0.1382, gen loss = 0.6184\n",
      "Iteration 2880: dis loss = 1.2098, gen loss = 0.3071\n",
      "Iteration 2890: dis loss = 0.0917, gen loss = 0.6844\n",
      "Iteration 2900: dis loss = 0.1551, gen loss = 0.7264\n",
      "Iteration 2910: dis loss = 1.0968, gen loss = 0.2915\n",
      "Iteration 2920: dis loss = 0.2156, gen loss = 0.6221\n",
      "Iteration 2930: dis loss = 0.8222, gen loss = 0.3668\n",
      "Iteration 2940: dis loss = 0.1719, gen loss = 0.5859\n",
      "Iteration 2950: dis loss = 0.4715, gen loss = 0.4866\n",
      "Iteration 2960: dis loss = 0.5813, gen loss = 0.9373\n",
      "Iteration 2970: dis loss = 0.1788, gen loss = 0.6840\n",
      "Iteration 2980: dis loss = 0.1750, gen loss = 0.5311\n",
      "Iteration 2990: dis loss = 0.1712, gen loss = 0.6420\n",
      "Iteration 3000: dis loss = 0.0643, gen loss = 0.5945\n",
      "Iteration 3010: dis loss = 0.3252, gen loss = 0.6115\n",
      "Iteration 3020: dis loss = 0.2363, gen loss = 0.6558\n",
      "Iteration 3030: dis loss = 0.1121, gen loss = 0.7054\n",
      "Iteration 3040: dis loss = 0.9270, gen loss = 0.7099\n",
      "Iteration 3050: dis loss = 1.1952, gen loss = 0.2497\n",
      "Iteration 3060: dis loss = 0.1693, gen loss = 0.6164\n",
      "Iteration 3070: dis loss = 0.1025, gen loss = 0.5336\n",
      "Iteration 3080: dis loss = 0.4383, gen loss = 0.4808\n",
      "Iteration 3090: dis loss = 0.1791, gen loss = 0.5402\n",
      "Iteration 3100: dis loss = 0.9688, gen loss = 0.7642\n",
      "Iteration 3110: dis loss = 0.1055, gen loss = 0.7059\n",
      "Iteration 3120: dis loss = 0.2525, gen loss = 0.6583\n",
      "Iteration 3130: dis loss = 0.5836, gen loss = 0.7277\n",
      "Iteration 3140: dis loss = 0.3233, gen loss = 0.4023\n",
      "Iteration 3150: dis loss = 0.1199, gen loss = 0.5996\n",
      "Iteration 3160: dis loss = 0.4941, gen loss = 0.8824\n",
      "Iteration 3170: dis loss = 0.2169, gen loss = 0.5435\n",
      "Iteration 3180: dis loss = 0.2758, gen loss = 0.4556\n",
      "Iteration 3190: dis loss = 0.2111, gen loss = 0.5349\n",
      "Iteration 3200: dis loss = 0.5109, gen loss = 0.8364\n",
      "Iteration 3210: dis loss = 0.2732, gen loss = 0.5275\n",
      "Iteration 3220: dis loss = 0.3147, gen loss = 0.4271\n",
      "Iteration 3230: dis loss = 0.1459, gen loss = 0.5405\n",
      "Iteration 3240: dis loss = 0.2744, gen loss = 0.4567\n",
      "Iteration 3250: dis loss = 0.2297, gen loss = 0.5053\n",
      "Iteration 3260: dis loss = 0.5134, gen loss = 0.4826\n",
      "Iteration 3270: dis loss = 0.2366, gen loss = 0.5209\n",
      "Iteration 3280: dis loss = 1.0545, gen loss = 0.7567\n",
      "Iteration 3290: dis loss = 0.3049, gen loss = 0.6669\n",
      "Iteration 3300: dis loss = 0.3002, gen loss = 0.7194\n",
      "Iteration 3310: dis loss = 0.2514, gen loss = 0.5339\n",
      "Iteration 3320: dis loss = 0.2248, gen loss = 0.4420\n",
      "Iteration 3330: dis loss = 0.1814, gen loss = 0.6445\n",
      "Iteration 3340: dis loss = 0.8203, gen loss = 0.2696\n",
      "Iteration 3350: dis loss = 0.3765, gen loss = 0.4101\n",
      "Iteration 3360: dis loss = 0.2274, gen loss = 0.4796\n",
      "Iteration 3370: dis loss = 0.2791, gen loss = 0.6946\n",
      "Iteration 3380: dis loss = 0.3639, gen loss = 0.4069\n",
      "Iteration 3390: dis loss = 1.1271, gen loss = 0.6379\n",
      "Iteration 3400: dis loss = 0.6081, gen loss = 0.7409\n",
      "Iteration 3410: dis loss = 0.3530, gen loss = 0.3985\n",
      "Iteration 3420: dis loss = 0.3512, gen loss = 0.4933\n",
      "Iteration 3430: dis loss = 0.5926, gen loss = 0.3442\n",
      "Iteration 3440: dis loss = 0.4572, gen loss = 0.4021\n",
      "Iteration 3450: dis loss = 0.2270, gen loss = 0.5777\n",
      "Iteration 3460: dis loss = 0.6171, gen loss = 0.3676\n",
      "Iteration 3470: dis loss = 0.2386, gen loss = 0.5940\n",
      "Iteration 3480: dis loss = 0.2752, gen loss = 0.3689\n",
      "Iteration 3490: dis loss = 0.3457, gen loss = 0.4088\n",
      "Iteration 3500: dis loss = 0.3185, gen loss = 0.6349\n",
      "Iteration 3510: dis loss = 0.2466, gen loss = 0.4784\n",
      "Iteration 3520: dis loss = 0.2027, gen loss = 0.4837\n",
      "Iteration 3530: dis loss = 1.1945, gen loss = 0.6168\n",
      "Iteration 3540: dis loss = 0.2189, gen loss = 0.5376\n",
      "Iteration 3550: dis loss = 0.3125, gen loss = 0.3950\n",
      "Iteration 3560: dis loss = 1.3026, gen loss = 0.6602\n",
      "Iteration 3570: dis loss = 0.1852, gen loss = 0.4818\n",
      "Iteration 3580: dis loss = 0.3943, gen loss = 0.4265\n",
      "Iteration 3590: dis loss = 0.9171, gen loss = 0.2375\n",
      "Iteration 3600: dis loss = 0.2066, gen loss = 0.4960\n",
      "Iteration 3610: dis loss = 0.3275, gen loss = 0.4635\n",
      "Iteration 3620: dis loss = 0.3128, gen loss = 0.4585\n",
      "Iteration 3630: dis loss = 1.0562, gen loss = 0.5676\n",
      "Iteration 3640: dis loss = 0.5547, gen loss = 0.6607\n",
      "Iteration 3650: dis loss = 0.6603, gen loss = 0.3504\n",
      "Iteration 3660: dis loss = 0.3456, gen loss = 0.3286\n",
      "Iteration 3670: dis loss = 0.4067, gen loss = 0.6226\n",
      "Iteration 3680: dis loss = 0.4410, gen loss = 0.3777\n",
      "Iteration 3690: dis loss = 0.4347, gen loss = 0.5243\n",
      "Iteration 3700: dis loss = 1.2085, gen loss = 0.4937\n",
      "Iteration 3710: dis loss = 0.2658, gen loss = 0.5731\n",
      "Iteration 3720: dis loss = 0.5718, gen loss = 0.6530\n",
      "Iteration 3730: dis loss = 1.1369, gen loss = 0.2459\n",
      "Iteration 3740: dis loss = 2.0006, gen loss = 0.7410\n",
      "Iteration 3750: dis loss = 0.5068, gen loss = 0.3650\n",
      "Iteration 3760: dis loss = 0.7616, gen loss = 0.2777\n",
      "Iteration 3770: dis loss = 0.2851, gen loss = 0.4802\n",
      "Iteration 3780: dis loss = 0.8040, gen loss = 0.5909\n",
      "Iteration 3790: dis loss = 0.5071, gen loss = 0.5092\n",
      "Iteration 3800: dis loss = 0.3260, gen loss = 0.4432\n",
      "Iteration 3810: dis loss = 0.6404, gen loss = 0.3363\n",
      "Iteration 3820: dis loss = 0.3748, gen loss = 0.3294\n",
      "Iteration 3830: dis loss = 0.4790, gen loss = 0.3638\n",
      "Iteration 3840: dis loss = 0.8268, gen loss = 0.6362\n",
      "Iteration 3850: dis loss = 0.3050, gen loss = 0.4197\n",
      "Iteration 3860: dis loss = 0.9396, gen loss = 0.2500\n",
      "Iteration 3870: dis loss = 0.7326, gen loss = 0.3714\n",
      "Iteration 3880: dis loss = 0.2315, gen loss = 0.4430\n",
      "Iteration 3890: dis loss = 0.7563, gen loss = 0.6586\n",
      "Iteration 3900: dis loss = 0.4475, gen loss = 0.3679\n",
      "Iteration 3910: dis loss = 0.8230, gen loss = 0.5792\n",
      "Iteration 3920: dis loss = 0.2115, gen loss = 0.4884\n",
      "Iteration 3930: dis loss = 0.5288, gen loss = 0.3219\n",
      "Iteration 3940: dis loss = 1.2497, gen loss = 0.2650\n",
      "Iteration 3950: dis loss = 0.4038, gen loss = 0.4720\n",
      "Iteration 3960: dis loss = 1.6401, gen loss = 0.2276\n",
      "Iteration 3970: dis loss = 0.3935, gen loss = 0.4758\n",
      "Iteration 3980: dis loss = 1.0666, gen loss = 0.2310\n",
      "Iteration 3990: dis loss = 0.4499, gen loss = 0.3823\n",
      "Iteration 4000: dis loss = 0.4392, gen loss = 0.4138\n",
      "Iteration 4010: dis loss = 0.8399, gen loss = 0.6727\n",
      "Iteration 4020: dis loss = 0.1721, gen loss = 0.4878\n",
      "Iteration 4030: dis loss = 1.0572, gen loss = 0.4682\n",
      "Iteration 4040: dis loss = 0.3325, gen loss = 0.4072\n",
      "Iteration 4050: dis loss = 0.5521, gen loss = 0.5231\n",
      "Iteration 4060: dis loss = 0.3227, gen loss = 0.3801\n",
      "Iteration 4070: dis loss = 1.2582, gen loss = 0.2305\n",
      "Iteration 4080: dis loss = 0.3382, gen loss = 0.5108\n",
      "Iteration 4090: dis loss = 1.6499, gen loss = 0.2205\n",
      "Iteration 4100: dis loss = 0.4972, gen loss = 0.3275\n",
      "Iteration 4110: dis loss = 0.6364, gen loss = 0.3902\n",
      "Iteration 4120: dis loss = 0.5808, gen loss = 0.6066\n",
      "Iteration 4130: dis loss = 0.5943, gen loss = 0.5515\n",
      "Iteration 4140: dis loss = 0.3827, gen loss = 0.5038\n",
      "Iteration 4150: dis loss = 0.1831, gen loss = 0.6009\n",
      "Iteration 4160: dis loss = 0.3721, gen loss = 0.3845\n",
      "Iteration 4170: dis loss = 0.6928, gen loss = 0.6019\n",
      "Iteration 4180: dis loss = 0.2717, gen loss = 0.5555\n",
      "Iteration 4190: dis loss = 0.4728, gen loss = 0.4724\n",
      "Iteration 4200: dis loss = 0.7836, gen loss = 0.5950\n",
      "Iteration 4210: dis loss = 0.5680, gen loss = 0.4732\n",
      "Iteration 4220: dis loss = 0.2033, gen loss = 0.5049\n",
      "Iteration 4230: dis loss = 0.2414, gen loss = 0.4568\n",
      "Iteration 4240: dis loss = 0.6334, gen loss = 0.4377\n",
      "Iteration 4250: dis loss = 0.2615, gen loss = 0.4931\n"
     ]
    }
   ],
   "source": [
    "sess = tf.Session()\n",
    "sess.run(tf.global_variables_initializer())\n",
    "\n",
    "epochs = 25\n",
    "total_images = 6120\n",
    "step = 0\n",
    "\n",
    "r = total_images // batch_size\n",
    "\n",
    "for epoch in range(epochs):\n",
    "    for ii in range(r):\n",
    "        step += 1\n",
    "        zeros = np.zeros([batch_size, 1])\n",
    "        ones = np.ones([batch_size, 1])\n",
    "        \n",
    "        batch = data_train[ii*batch_size : (ii+1)*batch_size]\n",
    "        batch_labels = train_labels[ii*batch_size : (ii+1)*batch_size]\n",
    "        pose_labels = pose[ii*batch_size : (ii+1)*batch_size]\n",
    "        \n",
    "        \n",
    "        k = np.random.randint(1,r)\n",
    "        #print(\"K\", k)\n",
    "        \n",
    "        d_inputs = data_train[k*batch_size : (k+1)*batch_size]\n",
    "        \n",
    "        \n",
    "        \n",
    "\n",
    "        gen_feed_dict = {inputs_: batch, targets_: batch_labels, pose_: pose_labels,\n",
    "                         real_label: ones}\n",
    "\n",
    "        _, gen_loss = sess.run([gen_train_op, gen_loss_op], feed_dict = gen_feed_dict)\n",
    "        \n",
    "        \n",
    "        dis_feed_dict = {inputs_: batch, targets_: batch_labels, pose_: pose_labels,\n",
    "                         fake_label: zeros, real_label: ones, disc_inputs: d_inputs}\n",
    "\n",
    "        _, dis_loss = sess.run([dis_train_op, dis_loss_op], feed_dict = dis_feed_dict)\n",
    "\n",
    "        if step % 10 == 0:\n",
    "            print('Iteration {0}: dis loss = {1:.4f}, gen loss = {2:.4f}'.format(step, dis_loss, gen_loss))\n"
   ]
  },
  {
   "cell_type": "code",
   "execution_count": 40,
   "metadata": {
    "collapsed": false
   },
   "outputs": [
    {
     "data": {
      "text/plain": [
       "'model/gan1'"
      ]
     },
     "execution_count": 40,
     "metadata": {},
     "output_type": "execute_result"
    }
   ],
   "source": [
    "dis_var_list = tf.get_collection(tf.GraphKeys.GLOBAL_VARIABLES, 'dis')\n",
    "gen_var_list = tf.get_collection(tf.GraphKeys.GLOBAL_VARIABLES, 'encoder')\n",
    "saver = tf.train.Saver(dis_var_list + gen_var_list)\n",
    "saver.save(sess, 'model/gan1')"
   ]
  },
  {
   "cell_type": "code",
   "execution_count": 41,
   "metadata": {
    "collapsed": false
   },
   "outputs": [],
   "source": [
    "\n",
    "feed_dict = {inputs_: data_test[100:136], targets_: test_labels[100:136], pose_:pose[6120+100:6120+136],\n",
    "            }\n",
    "\n",
    "\n",
    "op = sess.run([generated_images], feed_dict = feed_dict)"
   ]
  },
  {
   "cell_type": "code",
   "execution_count": 60,
   "metadata": {
    "collapsed": true
   },
   "outputs": [],
   "source": [
    "feed_dict = {inputs_: data_test[500:536], targets_: test_labels[500:536], pose_:pose[6120+500:6120+536],\n",
    "            }\n",
    "\n",
    "\n",
    "op = sess.run([generated_images], feed_dict = feed_dict)"
   ]
  },
  {
   "cell_type": "code",
   "execution_count": 42,
   "metadata": {
    "collapsed": false
   },
   "outputs": [
    {
     "name": "stdout",
     "output_type": "stream",
     "text": [
      "36\n"
     ]
    }
   ],
   "source": [
    "print(len(op[0]))"
   ]
  },
  {
   "cell_type": "code",
   "execution_count": 61,
   "metadata": {
    "collapsed": false
   },
   "outputs": [
    {
     "name": "stdout",
     "output_type": "stream",
     "text": [
      "(64, 64, 3)\n"
     ]
    },
    {
     "data": {
      "image/png": "[encoded data removed]",
      "text/plain": [
       "<matplotlib.figure.Figure at 0x7ff73041d470>"
      ]
     },
     "metadata": {},
     "output_type": "display_data"
    }
   ],
   "source": [
    "tmp = op[0][22]\n",
    "print(tmp.shape)\n",
    "\n",
    "#print(np.max(tmp), np.min(tmp))\n",
    "plt.imshow(tmp)\n",
    "plt.show()"
   ]
  },
  {
   "cell_type": "code",
   "execution_count": 63,
   "metadata": {
    "collapsed": false
   },
   "outputs": [
    {
     "data": {
      "image/png": "[encoded data removed]",
      "text/plain": [
       "<matplotlib.figure.Figure at 0x7ff730680e10>"
      ]
     },
     "metadata": {},
     "output_type": "display_data"
    }
   ],
   "source": [
    "plt.imshow(test_labels[500:536][22])\n",
    "plt.show()"
   ]
  },
  {
   "cell_type": "code",
   "execution_count": null,
   "metadata": {
    "collapsed": true
   },
   "outputs": [],
   "source": []
  }
 ],
 "metadata": {
  "kernelspec": {
   "display_name": "Python 3",
   "language": "python",
   "name": "python3"
  },
  "language_info": {
   "codemirror_mode": {
    "name": "ipython",
    "version": 3
   },
   "file_extension": ".py",
   "mimetype": "text/x-python",
   "name": "python",
   "nbconvert_exporter": "python",
   "pygments_lexer": "ipython3",
   "version": "3.5.2"
  }
 },
 "nbformat": 4,
 "nbformat_minor": 0
}
