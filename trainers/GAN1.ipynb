{
 "cells": [
  {
   "cell_type": "code",
   "execution_count": 1,
   "metadata": {
    "collapsed": true
   },
   "outputs": [],
   "source": [
    "%matplotlib inline\n",
    "import matplotlib\n",
    "import tensorflow as tf\n",
    "import numpy as np\n",
    "import matplotlib.pyplot as plt\n",
    "from scipy import misc\n",
    "from scipy import ndimage\n",
    "import os\n",
    "from matplotlib.pyplot import imshow\n",
    "import matplotlib.image as mpimg\n",
    "from sklearn.utils import shuffle\n",
    "import tensorflow.contrib.layers as layers\n",
    "import tensorflow.contrib.slim as slim"
   ]
  },
  {
   "cell_type": "code",
   "execution_count": 2,
   "metadata": {
    "collapsed": true
   },
   "outputs": [],
   "source": [
    "imageset = np.empty((7704,64,64,3), dtype='float32')\n",
    "\n",
    "#There are 7704 images in the dataset.\n",
    "#214 folders. Each having 36 images.\n",
    "rootdir = '/home/chinmay/CODE/deep_learning/shapenet_datasets/mug_unprocessed/mug/models/3dw'\n",
    "cnt = 0\n",
    "total_cnt = 0\n",
    "\n",
    "for subdir, dirs, files in os.walk(rootdir):\n",
    "    for file in files:\n",
    "        filepath = subdir + os.sep + file\n",
    "        if filepath.endswith('.png'):\n",
    "            if cnt == 36:\n",
    "                cnt = 0\n",
    "                total_cnt += 1\n",
    "            cnt += 1\n",
    "            seq_number = int(filepath.split('-')[-1].split('.')[0])\n",
    "            \n",
    "            imageset[total_cnt*36 + seq_number] = misc.imread(filepath).astype(np.float32)"
   ]
  },
  {
   "cell_type": "code",
   "execution_count": 3,
   "metadata": {
    "collapsed": true
   },
   "outputs": [],
   "source": [
    "def get_train(data, pairs_per_model):\n",
    "    W,H,C = 64,64,3\n",
    "    images_per_model = 36\n",
    "    pose_W, pose_H, pose_D = 8,8,36\n",
    "\n",
    "    total_models = int(data.shape[0] / images_per_model)\n",
    "    print(total_models)\n",
    "    data_train = np.zeros((total_models * pairs_per_model, W,H,C))\n",
    "    \n",
    "    data_ = np.zeros((total_models * pairs_per_model,W,H,C))\n",
    "    labels_ = np.zeros((total_models * pairs_per_model,W,H,C))\n",
    "    pose = np.zeros((total_models * pairs_per_model,pose_W,pose_H,pose_D))\n",
    "    \n",
    "    for cnt in range(total_models ):\n",
    "        tmp_data = np.zeros((images_per_model * images_per_model,W,H,C))\n",
    "        tmp_labels = np.zeros((images_per_model * images_per_model,W,H,C))\n",
    "        tmp_pose = np.zeros((images_per_model * images_per_model, pose_W,pose_H,pose_D))\n",
    "        for i in range(images_per_model):\n",
    "            for j in range(images_per_model):\n",
    "                num = (j-i) % images_per_model\n",
    "                pose_tmp = np.zeros(images_per_model)\n",
    "                pose_tmp[num] = 1\n",
    "                tmp_pose[i*images_per_model + j] = np.broadcast_to(pose_tmp,(pose_W,pose_H,pose_D))\n",
    "                tmp_data[i*images_per_model + j] = data[cnt*images_per_model + i]\n",
    "                tmp_labels[i*images_per_model + j] = data[cnt *images_per_model + j]         \n",
    "        rand_nums = np.random.randint(0,images_per_model * images_per_model - 1,pairs_per_model)\n",
    "        data_[cnt*pairs_per_model : (cnt+1)*pairs_per_model] = tmp_data[rand_nums]\n",
    "        labels_[cnt*pairs_per_model : (cnt+1)*pairs_per_model] = tmp_labels[rand_nums]\n",
    "        pose[cnt*pairs_per_model : (cnt+1)*pairs_per_model] = tmp_pose[rand_nums]\n",
    "        \n",
    "    data_, labels_, pose = shuffle(data_, labels_, pose, random_state=0)\n",
    "    return data_, labels_, pose"
   ]
  },
  {
   "cell_type": "code",
   "execution_count": 4,
   "metadata": {
    "collapsed": false
   },
   "outputs": [
    {
     "name": "stdout",
     "output_type": "stream",
     "text": [
      "214\n"
     ]
    }
   ],
   "source": [
    "data_, labels_, pose = get_train(imageset, 50)"
   ]
  },
  {
   "cell_type": "code",
   "execution_count": 5,
   "metadata": {
    "collapsed": false
   },
   "outputs": [
    {
     "name": "stdout",
     "output_type": "stream",
     "text": [
      "(10700, 64, 64, 3)\n",
      "(10700, 64, 64, 3)\n",
      "(10700, 8, 8, 36)\n"
     ]
    }
   ],
   "source": [
    "print(data_.shape)\n",
    "print(labels_.shape)\n",
    "print(pose.shape)"
   ]
  },
  {
   "cell_type": "code",
   "execution_count": 6,
   "metadata": {
    "collapsed": false
   },
   "outputs": [
    {
     "name": "stdout",
     "output_type": "stream",
     "text": [
      "(9000, 64, 64, 3)\n",
      "(9000, 64, 64, 3)\n"
     ]
    }
   ],
   "source": [
    "\n",
    "'''\n",
    "data_ = np.zeros(imageset.shape)\n",
    "labels_ = np.zeros(imageset.shape)\n",
    "pose = np.zeros((7704,8,8,36))\n",
    "\n",
    "for cnt in range(214):\n",
    "    for itr in range(36):\n",
    "        data_[(cnt*36) + itr] = imageset[cnt*36]\n",
    "        pose_tmp = np.zeros(36)\n",
    "        pose_tmp[itr] = 1\n",
    "        pose[(cnt*36) + itr] = np.broadcast_to(pose_tmp,(8,8,36))\n",
    "        labels_[(cnt*36) + itr] =  imageset[(cnt*36) + itr]\n",
    "        #print( (cnt*36) + itr)\n",
    "\n",
    "data_, labels_, pose = shuffle(data_, labels_, pose, random_state=0)\n",
    "#This code will generate labels for the dataset\n",
    "#perm = np.random.permutation(data_.shape[0])\n",
    "\n",
    "# data_ = data_[perm]\n",
    "# labels_ = labels_[perm]\n",
    "# pose = pose[perm]\n",
    "'''\n",
    "# For current image label is the next image (image with 10 degree rotation)\n",
    "# For last image in the set (36th image) label would be first image\n",
    "data_train = np.array(data_[:9000])\n",
    "data_test = np.array(data_[9000:])\n",
    "\n",
    "train_labels = np.array(labels_[:9000])\n",
    "test_labels = np.array(labels_[9000:])\n",
    "\n",
    "print(data_train.shape)\n",
    "print(train_labels.shape)"
   ]
  },
  {
   "cell_type": "code",
   "execution_count": 7,
   "metadata": {
    "collapsed": false
   },
   "outputs": [
    {
     "name": "stdout",
     "output_type": "stream",
     "text": [
      "[ 0.  0.  0.  0.  0.  0.  0.  0.  0.  0.  0.  0.  0.  0.  0.  0.  0.  0.\n",
      "  0.  0.  0.  0.  0.  0.  0.  0.  0.  0.  0.  0.  0.  0.  0.  0.  1.  0.]\n"
     ]
    },
    {
     "data": {
      "image/png": "[encoded data removed]",
      "text/plain": [
       "<matplotlib.figure.Figure at 0x7f9378b0cda0>"
      ]
     },
     "metadata": {},
     "output_type": "display_data"
    },
    {
     "data": {
      "image/png": "[encoded data removed]",
      "text/plain": [
       "<matplotlib.figure.Figure at 0x7f92f91e1b38>"
      ]
     },
     "metadata": {},
     "output_type": "display_data"
    }
   ],
   "source": [
    "tmp = train_labels[16][...,::-1]\n",
    "tmp1 = data_train[16][...,::-1]\n",
    "\n",
    "print(pose[100][0][0])\n",
    "plt.imshow(tmp1/255)\n",
    "plt.show()\n",
    "plt.imshow(tmp/255)\n",
    "plt.show()"
   ]
  },
  {
   "cell_type": "code",
   "execution_count": 8,
   "metadata": {
    "collapsed": true
   },
   "outputs": [],
   "source": [
    "#normalize data\n",
    "\n",
    "\n",
    "#data_train *= 2\n",
    "data_train /= 255\n",
    "#data_train -= 1\n",
    "\n",
    "#data_test *= 2\n",
    "data_test /= 255\n",
    "#data_test -= 1\n",
    "\n",
    "\n",
    "#train_labels *= 2\n",
    "train_labels /= 255\n",
    "#train_labels -= 1\n",
    "\n",
    "#test_labels *= 2\n",
    "test_labels /= 255\n",
    "#test_labels -= 1"
   ]
  },
  {
   "cell_type": "code",
   "execution_count": 9,
   "metadata": {
    "collapsed": true
   },
   "outputs": [],
   "source": [
    "def conv2d(input, output, kernel_h=3, kernel_w=3, k_stride=2, scope_name=\"conv2d\", act=tf.nn.leaky_relu):\n",
    "    #act = tf.nn.leaky_relu\n",
    "    with tf.variable_scope(scope_name):\n",
    "        return layers.conv2d(inputs=input, num_outputs=output, kernel_size=[kernel_h, kernel_w], stride=k_stride, activation_fn=act,\n",
    "         biases_initializer=tf.zeros_initializer(), weights_initializer=tf.random_normal_initializer(0.0, 0.02))\n",
    "    \n",
    "def deconv2d(input, kernel_size, stride, num_filter, scope_name='deconv2d', act=tf.nn.leaky_relu):\n",
    "    with tf.variable_scope(scope_name): \n",
    "        stride_shape = [stride, stride]\n",
    "        kernel_shape = [kernel_size, kernel_size]\n",
    "        return layers.conv2d_transpose(inputs=input, num_outputs=num_filter, stride=stride_shape, kernel_size= kernel_shape,\n",
    "            padding='SAME', biases_initializer=tf.zeros_initializer(), weights_initializer=tf.random_normal_initializer(0.0, 0.02),\n",
    "            activation_fn=act\n",
    "        )\n",
    "\n",
    "def max_pool(input, kernel_size, stride):\n",
    "    ksize = [1, kernel_size, kernel_size, 1]\n",
    "    strides = [1, stride, stride, 1]\n",
    "    return tf.nn.max_pool(input, ksize=ksize, strides=strides, padding='SAME')\n",
    "\n",
    "\n",
    "def batch_norm(inputs_, is_training):\n",
    "    out = tf.contrib.layers.batch_norm(inputs_, decay = 0.99, center = True, scale = True,\n",
    "                                       is_training = is_training, updates_collections = None)\n",
    "    return out\n",
    "\n",
    "def fc(input, num_output, name = 'fc'):\n",
    "    with tf.variable_scope(name):\n",
    "        num_input = input.get_shape()[1]\n",
    "        W = tf.get_variable('w', [num_input, num_output], tf.float32, tf.random_normal_initializer(0.0, 0.02))\n",
    "        b = tf.get_variable('b', [num_output], initializer = tf.constant_initializer(0.0))\n",
    "        return tf.matmul(input, W) + b\n",
    "\n",
    "def l1_loss(inputs_, targets_):\n",
    "    loss = tf.reduce_mean(abs(inputs_ - targets_))\n",
    "    return loss\n",
    "\n",
    "def ce_loss(labels, logits):\n",
    "        loss = tf.nn.sigmoid_cross_entropy_with_logits(labels = labels, logits = logits)\n",
    "        return tf.reduce_mean(loss)\n",
    "    "
   ]
  },
  {
   "cell_type": "code",
   "execution_count": 10,
   "metadata": {
    "collapsed": true
   },
   "outputs": [],
   "source": [
    "tf.reset_default_graph()\n",
    "#to Reset Tensor Flow Graph"
   ]
  },
  {
   "cell_type": "code",
   "execution_count": 11,
   "metadata": {
    "collapsed": true
   },
   "outputs": [],
   "source": [
    "batch_size = 25\n",
    "# tf Graph input (only pictures)\n",
    "inputs_ = tf.placeholder(tf.float32, (batch_size, 64,64,3), name=\"input\")\n",
    "targets_ = tf.placeholder(tf.float32, (batch_size, 64,64,3), name=\"target\")\n",
    "pose_ = tf.placeholder(tf.float32, (batch_size, 8, 8, 36), name=\"pose\")\n",
    "\n",
    "disc_inputs = tf.placeholder(tf.float32, (batch_size, 64,64,3), name=\"input\")\n",
    "\n",
    "real_label = tf.placeholder(tf.float32, [batch_size, 1])\n",
    "fake_label = tf.placeholder(tf.float32, [batch_size, 1])"
   ]
  },
  {
   "cell_type": "code",
   "execution_count": 12,
   "metadata": {
    "collapsed": true
   },
   "outputs": [],
   "source": [
    "\n",
    "#generate coarse images from inputs_\n",
    "def auto_encoder(inputs_, pose_):\n",
    "    print(inputs_)\n",
    "    with tf.variable_scope('encoder'):\n",
    "        _ = conv2d(inputs_, output=16 ,kernel_h=3, kernel_w=3, k_stride=2, scope_name=\"conv1\",act=tf.nn.leaky_relu)\n",
    "        _ = batch_norm(_, True)\n",
    "        _ = conv2d(_, output=32 ,kernel_h=3, kernel_w=3, k_stride=2, scope_name=\"conv2\",act=tf.nn.leaky_relu)\n",
    "        _ = batch_norm(_, True)\n",
    "        _ = conv2d(_, output=92 ,kernel_h=3, kernel_w=3, k_stride=2, scope_name=\"conv3\",act=tf.nn.leaky_relu)\n",
    "        _ = tf.concat([_, pose_], 3)\n",
    "\n",
    "        _ = deconv2d(_, kernel_size=3, stride=2, num_filter=32, scope_name='deconv1',act=tf.nn.leaky_relu)\n",
    "        _ = deconv2d(_, kernel_size=3, stride=2, num_filter=16, scope_name='deconv2',act=tf.nn.leaky_relu)\n",
    "        _ = deconv2d(_, kernel_size=3, stride=2, num_filter=3, scope_name='deconv3',act=tf.nn.leaky_relu)\n",
    "        _ = tf.sigmoid(_)\n",
    "    return _ \n",
    "    \n",
    "    \n",
    "# discriminator should give a fc layer\n",
    "def discriminator(inputs_):\n",
    "    with tf.variable_scope('dis', reuse = tf.AUTO_REUSE):\n",
    "        ''' \n",
    "        _ = conv2d(inputs_, 4, 2, 32, 'conv1')\n",
    "        _ = leaky_relu(_)\n",
    "        _ = conv2d(_, 4, 2, 64, 'conv2')\n",
    "        _ = batch_norm(_)\n",
    "        _ = leaky_relu(_)\n",
    "        _ = conv2d(_, 4, 2, 128, 'conv3')\n",
    "        _ = batch_norm(_)\n",
    "        _ = leaky_relu(_)\n",
    "        _ = tf.reshape(_, [-1, 4 * 4 * 128])\n",
    "        _ = fc(_, 1, 'fc4')\n",
    "        print(_.get_shape(), \"FC - Result\")\n",
    "        '''\n",
    "        \n",
    "        _ = conv2d(inputs_, output=16 ,kernel_h=3, kernel_w=3, k_stride=2, scope_name=\"dis_conv1\", act=tf.nn.leaky_relu)\n",
    "        _ = conv2d(_, output=32 ,kernel_h=3, kernel_w=3, k_stride=2, scope_name=\"dis_conv2\", act=tf.nn.leaky_relu)\n",
    "        _ = batch_norm(_, True)\n",
    "        _ = conv2d(_, output=32 ,kernel_h=3, kernel_w=3, k_stride=2, scope_name=\"dis_conv3\", act=tf.nn.leaky_relu)\n",
    "        _ = batch_norm(_, True)\n",
    "        _ = tf.reshape(_, [-1, 8 * 8 * 32])        \n",
    "        _ = fc(_, 1, 'dis_fc1')\n",
    "        return _\n",
    "        \n",
    "    "
   ]
  },
  {
   "cell_type": "code",
   "execution_count": 13,
   "metadata": {
    "collapsed": false
   },
   "outputs": [],
   "source": [
    "\n",
    "global_step = tf.Variable(0,trainable=False)\n",
    "lr = 5e-4\n"
   ]
  },
  {
   "cell_type": "code",
   "execution_count": 14,
   "metadata": {
    "collapsed": false
   },
   "outputs": [
    {
     "name": "stdout",
     "output_type": "stream",
     "text": [
      "Tensor(\"input:0\", shape=(25, 64, 64, 3), dtype=float32)\n"
     ]
    }
   ],
   "source": [
    "alpha = 0.1\n",
    "beta = 0.9\n",
    "\n",
    "generated_images = auto_encoder(inputs_, pose_)\n",
    "dis_fake_samples_op = discriminator(generated_images)\n",
    "\n",
    "gen_loss_op = alpha * ce_loss(real_label, dis_fake_samples_op) + beta * l1_loss(generated_images, targets_)\n",
    "dis_loss_op = ce_loss(fake_label, dis_fake_samples_op) + ce_loss(real_label, discriminator(disc_inputs))\n",
    "\n",
    " "
   ]
  },
  {
   "cell_type": "code",
   "execution_count": 15,
   "metadata": {
    "collapsed": false
   },
   "outputs": [],
   "source": [
    "disriminator_vars = tf.get_collection(tf.GraphKeys.GLOBAL_VARIABLES, 'dis')\n",
    "generator_vars = tf.get_collection(tf.GraphKeys.GLOBAL_VARIABLES, 'encoder')\n",
    "#print (generator_vars)\n",
    "dis_optimizer = tf.train.RMSPropOptimizer(lr)\n",
    "dis_train_op = dis_optimizer.minimize(dis_loss_op, var_list=disriminator_vars)\n",
    "\n",
    "gen_optimizer = tf.train.RMSPropOptimizer(lr)\n",
    "gen_train_op = gen_optimizer.minimize(gen_loss_op, var_list=generator_vars)"
   ]
  },
  {
   "cell_type": "code",
   "execution_count": 18,
   "metadata": {
    "collapsed": false
   },
   "outputs": [
    {
     "name": "stdout",
     "output_type": "stream",
     "text": [
      "Epoch 0: dis loss = 1.1756, gen loss = 0.3930\n",
      "Epoch 1: dis loss = 0.9858, gen loss = 0.2633\n",
      "Epoch 2: dis loss = 0.9521, gen loss = 0.2686\n",
      "Epoch 3: dis loss = 0.1491, gen loss = 0.6204\n",
      "Epoch 4: dis loss = 0.4917, gen loss = 0.7616\n",
      "Epoch 5: dis loss = 0.5520, gen loss = 0.6116\n",
      "Epoch 6: dis loss = 0.3650, gen loss = 0.4395\n",
      "Epoch 7: dis loss = 0.6677, gen loss = 0.5493\n",
      "Epoch 8: dis loss = 0.7540, gen loss = 0.3337\n",
      "Epoch 9: dis loss = 0.9926, gen loss = 0.3044\n",
      "Epoch 10: dis loss = 1.4167, gen loss = 0.3063\n",
      "Epoch 11: dis loss = 1.0680, gen loss = 0.2624\n",
      "Epoch 12: dis loss = 1.2637, gen loss = 0.4141\n",
      "Epoch 13: dis loss = 1.0946, gen loss = 0.2908\n",
      "Epoch 14: dis loss = 0.9902, gen loss = 0.4255\n"
     ]
    },
    {
     "ename": "KeyboardInterrupt",
     "evalue": "",
     "output_type": "error",
     "traceback": [
      "\u001b[1;31m---------------------------------------------------------------------------\u001b[0m",
      "\u001b[1;31mKeyboardInterrupt\u001b[0m                         Traceback (most recent call last)",
      "\u001b[1;32m<ipython-input-18-34e1170108e2>\u001b[0m in \u001b[0;36m<module>\u001b[1;34m()\u001b[0m\n\u001b[0;32m     33\u001b[0m                          real_label: ones}\n\u001b[0;32m     34\u001b[0m \u001b[1;33m\u001b[0m\u001b[0m\n\u001b[1;32m---> 35\u001b[1;33m         \u001b[0m_\u001b[0m\u001b[1;33m,\u001b[0m \u001b[0mgen_loss\u001b[0m \u001b[1;33m=\u001b[0m \u001b[0msess\u001b[0m\u001b[1;33m.\u001b[0m\u001b[0mrun\u001b[0m\u001b[1;33m(\u001b[0m\u001b[1;33m[\u001b[0m\u001b[0mgen_train_op\u001b[0m\u001b[1;33m,\u001b[0m \u001b[0mgen_loss_op\u001b[0m\u001b[1;33m]\u001b[0m\u001b[1;33m,\u001b[0m \u001b[0mfeed_dict\u001b[0m \u001b[1;33m=\u001b[0m \u001b[0mgen_feed_dict\u001b[0m\u001b[1;33m)\u001b[0m\u001b[1;33m\u001b[0m\u001b[0m\n\u001b[0m\u001b[0;32m     36\u001b[0m \u001b[1;33m\u001b[0m\u001b[0m\n\u001b[0;32m     37\u001b[0m \u001b[1;33m\u001b[0m\u001b[0m\n",
      "\u001b[1;32m/home/chinmay/CODE/deep_learning/599-project/repo/Multi-Viewpoint-Image-generation/multi_venv/lib/python3.5/site-packages/tensorflow/python/client/session.py\u001b[0m in \u001b[0;36mrun\u001b[1;34m(self, fetches, feed_dict, options, run_metadata)\u001b[0m\n\u001b[0;32m    887\u001b[0m     \u001b[1;32mtry\u001b[0m\u001b[1;33m:\u001b[0m\u001b[1;33m\u001b[0m\u001b[0m\n\u001b[0;32m    888\u001b[0m       result = self._run(None, fetches, feed_dict, options_ptr,\n\u001b[1;32m--> 889\u001b[1;33m                          run_metadata_ptr)\n\u001b[0m\u001b[0;32m    890\u001b[0m       \u001b[1;32mif\u001b[0m \u001b[0mrun_metadata\u001b[0m\u001b[1;33m:\u001b[0m\u001b[1;33m\u001b[0m\u001b[0m\n\u001b[0;32m    891\u001b[0m         \u001b[0mproto_data\u001b[0m \u001b[1;33m=\u001b[0m \u001b[0mtf_session\u001b[0m\u001b[1;33m.\u001b[0m\u001b[0mTF_GetBuffer\u001b[0m\u001b[1;33m(\u001b[0m\u001b[0mrun_metadata_ptr\u001b[0m\u001b[1;33m)\u001b[0m\u001b[1;33m\u001b[0m\u001b[0m\n",
      "\u001b[1;32m/home/chinmay/CODE/deep_learning/599-project/repo/Multi-Viewpoint-Image-generation/multi_venv/lib/python3.5/site-packages/tensorflow/python/client/session.py\u001b[0m in \u001b[0;36m_run\u001b[1;34m(self, handle, fetches, feed_dict, options, run_metadata)\u001b[0m\n\u001b[0;32m   1118\u001b[0m     \u001b[1;32mif\u001b[0m \u001b[0mfinal_fetches\u001b[0m \u001b[1;32mor\u001b[0m \u001b[0mfinal_targets\u001b[0m \u001b[1;32mor\u001b[0m \u001b[1;33m(\u001b[0m\u001b[0mhandle\u001b[0m \u001b[1;32mand\u001b[0m \u001b[0mfeed_dict_tensor\u001b[0m\u001b[1;33m)\u001b[0m\u001b[1;33m:\u001b[0m\u001b[1;33m\u001b[0m\u001b[0m\n\u001b[0;32m   1119\u001b[0m       results = self._do_run(handle, final_targets, final_fetches,\n\u001b[1;32m-> 1120\u001b[1;33m                              feed_dict_tensor, options, run_metadata)\n\u001b[0m\u001b[0;32m   1121\u001b[0m     \u001b[1;32melse\u001b[0m\u001b[1;33m:\u001b[0m\u001b[1;33m\u001b[0m\u001b[0m\n\u001b[0;32m   1122\u001b[0m       \u001b[0mresults\u001b[0m \u001b[1;33m=\u001b[0m \u001b[1;33m[\u001b[0m\u001b[1;33m]\u001b[0m\u001b[1;33m\u001b[0m\u001b[0m\n",
      "\u001b[1;32m/home/chinmay/CODE/deep_learning/599-project/repo/Multi-Viewpoint-Image-generation/multi_venv/lib/python3.5/site-packages/tensorflow/python/client/session.py\u001b[0m in \u001b[0;36m_do_run\u001b[1;34m(self, handle, target_list, fetch_list, feed_dict, options, run_metadata)\u001b[0m\n\u001b[0;32m   1315\u001b[0m     \u001b[1;32mif\u001b[0m \u001b[0mhandle\u001b[0m \u001b[1;32mis\u001b[0m \u001b[1;32mNone\u001b[0m\u001b[1;33m:\u001b[0m\u001b[1;33m\u001b[0m\u001b[0m\n\u001b[0;32m   1316\u001b[0m       return self._do_call(_run_fn, self._session, feeds, fetches, targets,\n\u001b[1;32m-> 1317\u001b[1;33m                            options, run_metadata)\n\u001b[0m\u001b[0;32m   1318\u001b[0m     \u001b[1;32melse\u001b[0m\u001b[1;33m:\u001b[0m\u001b[1;33m\u001b[0m\u001b[0m\n\u001b[0;32m   1319\u001b[0m       \u001b[1;32mreturn\u001b[0m \u001b[0mself\u001b[0m\u001b[1;33m.\u001b[0m\u001b[0m_do_call\u001b[0m\u001b[1;33m(\u001b[0m\u001b[0m_prun_fn\u001b[0m\u001b[1;33m,\u001b[0m \u001b[0mself\u001b[0m\u001b[1;33m.\u001b[0m\u001b[0m_session\u001b[0m\u001b[1;33m,\u001b[0m \u001b[0mhandle\u001b[0m\u001b[1;33m,\u001b[0m \u001b[0mfeeds\u001b[0m\u001b[1;33m,\u001b[0m \u001b[0mfetches\u001b[0m\u001b[1;33m)\u001b[0m\u001b[1;33m\u001b[0m\u001b[0m\n",
      "\u001b[1;32m/home/chinmay/CODE/deep_learning/599-project/repo/Multi-Viewpoint-Image-generation/multi_venv/lib/python3.5/site-packages/tensorflow/python/client/session.py\u001b[0m in \u001b[0;36m_do_call\u001b[1;34m(self, fn, *args)\u001b[0m\n\u001b[0;32m   1321\u001b[0m   \u001b[1;32mdef\u001b[0m \u001b[0m_do_call\u001b[0m\u001b[1;33m(\u001b[0m\u001b[0mself\u001b[0m\u001b[1;33m,\u001b[0m \u001b[0mfn\u001b[0m\u001b[1;33m,\u001b[0m \u001b[1;33m*\u001b[0m\u001b[0margs\u001b[0m\u001b[1;33m)\u001b[0m\u001b[1;33m:\u001b[0m\u001b[1;33m\u001b[0m\u001b[0m\n\u001b[0;32m   1322\u001b[0m     \u001b[1;32mtry\u001b[0m\u001b[1;33m:\u001b[0m\u001b[1;33m\u001b[0m\u001b[0m\n\u001b[1;32m-> 1323\u001b[1;33m       \u001b[1;32mreturn\u001b[0m \u001b[0mfn\u001b[0m\u001b[1;33m(\u001b[0m\u001b[1;33m*\u001b[0m\u001b[0margs\u001b[0m\u001b[1;33m)\u001b[0m\u001b[1;33m\u001b[0m\u001b[0m\n\u001b[0m\u001b[0;32m   1324\u001b[0m     \u001b[1;32mexcept\u001b[0m \u001b[0merrors\u001b[0m\u001b[1;33m.\u001b[0m\u001b[0mOpError\u001b[0m \u001b[1;32mas\u001b[0m \u001b[0me\u001b[0m\u001b[1;33m:\u001b[0m\u001b[1;33m\u001b[0m\u001b[0m\n\u001b[0;32m   1325\u001b[0m       \u001b[0mmessage\u001b[0m \u001b[1;33m=\u001b[0m \u001b[0mcompat\u001b[0m\u001b[1;33m.\u001b[0m\u001b[0mas_text\u001b[0m\u001b[1;33m(\u001b[0m\u001b[0me\u001b[0m\u001b[1;33m.\u001b[0m\u001b[0mmessage\u001b[0m\u001b[1;33m)\u001b[0m\u001b[1;33m\u001b[0m\u001b[0m\n",
      "\u001b[1;32m/home/chinmay/CODE/deep_learning/599-project/repo/Multi-Viewpoint-Image-generation/multi_venv/lib/python3.5/site-packages/tensorflow/python/client/session.py\u001b[0m in \u001b[0;36m_run_fn\u001b[1;34m(session, feed_dict, fetch_list, target_list, options, run_metadata)\u001b[0m\n\u001b[0;32m   1300\u001b[0m           return tf_session.TF_Run(session, options,\n\u001b[0;32m   1301\u001b[0m                                    \u001b[0mfeed_dict\u001b[0m\u001b[1;33m,\u001b[0m \u001b[0mfetch_list\u001b[0m\u001b[1;33m,\u001b[0m \u001b[0mtarget_list\u001b[0m\u001b[1;33m,\u001b[0m\u001b[1;33m\u001b[0m\u001b[0m\n\u001b[1;32m-> 1302\u001b[1;33m                                    status, run_metadata)\n\u001b[0m\u001b[0;32m   1303\u001b[0m \u001b[1;33m\u001b[0m\u001b[0m\n\u001b[0;32m   1304\u001b[0m     \u001b[1;32mdef\u001b[0m \u001b[0m_prun_fn\u001b[0m\u001b[1;33m(\u001b[0m\u001b[0msession\u001b[0m\u001b[1;33m,\u001b[0m \u001b[0mhandle\u001b[0m\u001b[1;33m,\u001b[0m \u001b[0mfeed_dict\u001b[0m\u001b[1;33m,\u001b[0m \u001b[0mfetch_list\u001b[0m\u001b[1;33m)\u001b[0m\u001b[1;33m:\u001b[0m\u001b[1;33m\u001b[0m\u001b[0m\n",
      "\u001b[1;31mKeyboardInterrupt\u001b[0m: "
     ]
    }
   ],
   "source": [
    "sess = tf.Session()\n",
    "sess.run(tf.global_variables_initializer())\n",
    "\n",
    "epochs = 50\n",
    "total_images = 9000\n",
    "step = 0\n",
    "\n",
    "r = total_images // batch_size\n",
    "#print(data_train.shape, \"X1\")\n",
    "#d_inputs = data_train[399*batch_size : (400)*batch_size]\n",
    "#print(d_inputs.shape, \"X2\")\n",
    "\n",
    "for epoch in range(epochs):\n",
    "    for ii in range(r):\n",
    "        step += 1\n",
    "        zeros = np.zeros([batch_size, 1])\n",
    "        ones = np.ones([batch_size, 1])\n",
    "        \n",
    "        batch = data_train[ii*batch_size : (ii+1)*batch_size]\n",
    "        batch_labels = train_labels[ii*batch_size : (ii+1)*batch_size]\n",
    "        pose_labels = pose[ii*batch_size : (ii+1)*batch_size]\n",
    "        #print(batch.shape, \"BS\")\n",
    "        #print(batch_labels.shape, \"LS\")\n",
    "        #print(pose_labels.shape)\n",
    "        \n",
    "        k = np.random.randint(1,r-1)\n",
    "        #print(\"K\", k)\n",
    "        \n",
    "        d_inputs = data_train[k*batch_size : (k+1)*batch_size]\n",
    "        \n",
    "        #print(d_inputs.shape, \"DI\", k)\n",
    "        gen_feed_dict = {inputs_: batch, targets_: batch_labels, pose_: pose_labels,\n",
    "                         real_label: ones}\n",
    "\n",
    "        _, gen_loss = sess.run([gen_train_op, gen_loss_op], feed_dict = gen_feed_dict)\n",
    "        \n",
    "        \n",
    "        dis_feed_dict = {inputs_: batch, targets_: batch_labels, pose_: pose_labels,\n",
    "                         fake_label: zeros, real_label: ones, disc_inputs: d_inputs}\n",
    "\n",
    "        _, dis_loss = sess.run([dis_train_op, dis_loss_op], feed_dict = dis_feed_dict)\n",
    "\n",
    "        #if step % 10 == 0:\n",
    "        #    print('Epoch {0}: dis loss = {1:.4f}, gen loss = {2:.4f}'.format(epoch, dis_loss, gen_loss))\n",
    "            \n",
    "    print('Epoch {0}: dis loss = {1:.4f}, gen loss = {2:.4f}'.format(epoch, dis_loss, gen_loss))\n"
   ]
  },
  {
   "cell_type": "code",
   "execution_count": null,
   "metadata": {
    "collapsed": false
   },
   "outputs": [],
   "source": [
    "dis_var_list = tf.get_collection(tf.GraphKeys.GLOBAL_VARIABLES, 'dis')\n",
    "gen_var_list = tf.get_collection(tf.GraphKeys.GLOBAL_VARIABLES, 'encoder')\n",
    "saver = tf.train.Saver(dis_var_list + gen_var_list)\n",
    "saver.save(sess, 'model/gan1')"
   ]
  },
  {
   "cell_type": "code",
   "execution_count": null,
   "metadata": {
    "collapsed": false
   },
   "outputs": [],
   "source": [
    "\n",
    "feed_dict = {inputs_: data_test[100:125], targets_: test_labels[100:125], pose_: pose[6120+100:6120+136],\n",
    "            }\n",
    "\n",
    "\n",
    "op = sess.run([generated_images], feed_dict = feed_dict)"
   ]
  },
  {
   "cell_type": "code",
   "execution_count": null,
   "metadata": {
    "collapsed": true
   },
   "outputs": [],
   "source": [
    "feed_dict = {inputs_: data_test[500:536], targets_: test_labels[500:536], pose_:pose[6120+500:6120+536],\n",
    "            }\n",
    "\n",
    "\n",
    "op = sess.run([generated_images], feed_dict = feed_dict)"
   ]
  },
  {
   "cell_type": "code",
   "execution_count": null,
   "metadata": {
    "collapsed": false
   },
   "outputs": [],
   "source": [
    "print(len(op[0]))"
   ]
  },
  {
   "cell_type": "code",
   "execution_count": null,
   "metadata": {
    "collapsed": false
   },
   "outputs": [],
   "source": [
    "tmp = op[0][22]\n",
    "print(tmp.shape)\n",
    "\n",
    "#print(np.max(tmp), np.min(tmp))\n",
    "plt.imshow(tmp)\n",
    "plt.show()"
   ]
  },
  {
   "cell_type": "code",
   "execution_count": null,
   "metadata": {
    "collapsed": false
   },
   "outputs": [],
   "source": [
    "plt.imshow(test_labels[500:536][22])\n",
    "plt.show()"
   ]
  },
  {
   "cell_type": "code",
   "execution_count": null,
   "metadata": {
    "collapsed": true
   },
   "outputs": [],
   "source": []
  }
 ],
 "metadata": {
  "kernelspec": {
   "display_name": "Python 3",
   "language": "python",
   "name": "python3"
  },
  "language_info": {
   "codemirror_mode": {
    "name": "ipython",
    "version": 3
   },
   "file_extension": ".py",
   "mimetype": "text/x-python",
   "name": "python",
   "nbconvert_exporter": "python",
   "pygments_lexer": "ipython3",
   "version": "3.5.2"
  }
 },
 "nbformat": 4,
 "nbformat_minor": 0
}
