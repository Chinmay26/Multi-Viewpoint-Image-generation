{
 "cells": [
  {
   "cell_type": "code",
   "execution_count": 209,
   "metadata": {
    "collapsed": true
   },
   "outputs": [],
   "source": [
    "%matplotlib inline\n",
    "import matplotlib\n",
    "import tensorflow as tf\n",
    "import numpy as np\n",
    "import matplotlib.pyplot as plt\n",
    "from scipy import misc\n",
    "from scipy import ndimage\n",
    "import os\n",
    "from matplotlib.pyplot import imshow\n",
    "import matplotlib.image as mpimg\n",
    "from sklearn.utils import shuffle\n",
    "import tensorflow.contrib.layers as layers\n",
    "import tensorflow.contrib.slim as slim"
   ]
  },
  {
   "cell_type": "code",
   "execution_count": 210,
   "metadata": {
    "collapsed": true
   },
   "outputs": [],
   "source": [
    "imageset = np.empty((7704,64,64,3), dtype='float32')\n",
    "\n",
    "#There are 7704 images in the dataset.\n",
    "#214 folders. Each having 36 images.\n",
    "rootdir = '/home/chinmay/CODE/deep_learning/shapenet_datasets/mug_unprocessed/mug/models/3dw'\n",
    "cnt = 0\n",
    "total_cnt = 0\n",
    "\n",
    "for subdir, dirs, files in os.walk(rootdir):\n",
    "    for file in files:\n",
    "        filepath = subdir + os.sep + file\n",
    "        if filepath.endswith('.png'):\n",
    "            if cnt == 36:\n",
    "                cnt = 0\n",
    "                total_cnt += 1\n",
    "            cnt += 1\n",
    "            seq_number = int(filepath.split('-')[-1].split('.')[0])\n",
    "            \n",
    "            imageset[total_cnt*36 + seq_number] = misc.imread(filepath).astype(np.float32)"
   ]
  },
  {
   "cell_type": "code",
   "execution_count": 211,
   "metadata": {
    "collapsed": false
   },
   "outputs": [
    {
     "data": {
      "image/png": "[encoded data removed]",
      "text/plain": [
       "<matplotlib.figure.Figure at 0x7fcb4bd50ba8>"
      ]
     },
     "metadata": {},
     "output_type": "display_data"
    }
   ],
   "source": [
    "#this part is to visulize image\n",
    "tmp = imageset[3569]\n",
    "#print tmp.shape\n",
    "plt.imshow(tmp/255)\n",
    "plt.show()"
   ]
  },
  {
   "cell_type": "code",
   "execution_count": 212,
   "metadata": {
    "collapsed": true
   },
   "outputs": [],
   "source": [
    "data_ = np.zeros(imageset.shape)\n",
    "labels_ = np.zeros(imageset.shape)\n",
    "pose = np.zeros((7704,8,8,36))\n",
    "\n",
    "\n",
    "\n",
    "for cnt in range(214):\n",
    "    for itr in range(36):\n",
    "        data_[(cnt*36) + itr] = imageset[cnt*36]\n",
    "        pose_tmp = np.zeros(36)\n",
    "        pose_tmp[itr] = 1\n",
    "        pose[(cnt*36) + itr] = np.broadcast_to(pose_tmp,(8,8,36))\n",
    "        labels_[(cnt*36) + itr] =  imageset[(cnt*36) + itr]\n",
    "        #print( (cnt*36) + itr)\n",
    "\n",
    "data_, labels_, pose = shuffle(data_, labels_, pose, random_state=0)\n",
    "#This code will generate labels for the dataset\n",
    "#perm = np.random.permutation(data_.shape[0])\n",
    "\n",
    "# data_ = data_[perm]\n",
    "# labels_ = labels_[perm]\n",
    "# pose = pose[perm]\n",
    "\n",
    "# For current image label is the next image (image with 10 degree rotation)\n",
    "# For last image in the set (36th image) label would be first image\n",
    "data_train = np.array(data_[:6120])\n",
    "data_test = np.array(data_[6120:])\n",
    "\n",
    "train_labels = np.array(labels_[:6120])\n",
    "test_labels = np.array(labels_[6120:])"
   ]
  },
  {
   "cell_type": "code",
   "execution_count": 213,
   "metadata": {
    "collapsed": false
   },
   "outputs": [
    {
     "name": "stdout",
     "output_type": "stream",
     "text": [
      "[ 0.  0.  0.  0.  0.  0.  0.  0.  0.  0.  0.  0.  0.  0.  0.  0.  0.  0.\n",
      "  0.  0.  0.  0.  0.  0.  0.  0.  0.  0.  1.  0.  0.  0.  0.  0.  0.  0.]\n"
     ]
    },
    {
     "data": {
      "image/png": "[encoded data removed]",
      "text/plain": [
       "<matplotlib.figure.Figure at 0x7fcb4aae42e8>"
      ]
     },
     "metadata": {},
     "output_type": "display_data"
    },
    {
     "data": {
      "image/png": "[encoded data removed]",
      "text/plain": [
       "<matplotlib.figure.Figure at 0x7fcb3588bc88>"
      ]
     },
     "metadata": {},
     "output_type": "display_data"
    }
   ],
   "source": [
    "tmp = train_labels[5][...,::-1]\n",
    "tmp1 = data_train[5][...,::-1]\n",
    "\n",
    "print(pose[100][0][0])\n",
    "plt.imshow(tmp1/255)\n",
    "plt.show()\n",
    "plt.imshow(tmp/255)\n",
    "plt.show()"
   ]
  },
  {
   "cell_type": "code",
   "execution_count": 214,
   "metadata": {
    "collapsed": true
   },
   "outputs": [],
   "source": [
    "#normalize data\n",
    "\n",
    "\n",
    "#data_train *= 2\n",
    "data_train /= 255\n",
    "#data_train -= 1\n",
    "\n",
    "#data_test *= 2\n",
    "data_test /= 255\n",
    "#data_test -= 1\n",
    "\n",
    "\n",
    "#train_labels *= 2\n",
    "train_labels /= 255\n",
    "#train_labels -= 1\n",
    "\n",
    "#test_labels *= 2\n",
    "test_labels /= 255\n",
    "#test_labels -= 1"
   ]
  },
  {
   "cell_type": "code",
   "execution_count": 215,
   "metadata": {
    "collapsed": true
   },
   "outputs": [],
   "source": [
    "def conv2d(input, output, kernel_h=3, kernel_w=3, k_stride=2, scope_name=\"conv2d\", act=tf.nn.leaky_relu):\n",
    "    #act = tf.nn.leaky_relu\n",
    "    with tf.variable_scope(scope_name):\n",
    "        return layers.conv2d(inputs=input, num_outputs=output, kernel_size=[kernel_h, kernel_w], stride=k_stride, activation_fn=act,\n",
    "         biases_initializer=tf.zeros_initializer(), weights_initializer=tf.random_normal_initializer(0.0, 0.02))\n",
    "    \n",
    "def deconv2d(input, kernel_size, stride, num_filter, scope_name='deconv2d', act=tf.nn.leaky_relu):\n",
    "    with tf.variable_scope(scope_name): \n",
    "        stride_shape = [stride, stride]\n",
    "        kernel_shape = [kernel_size, kernel_size]\n",
    "        return layers.conv2d_transpose(inputs=input, num_outputs=num_filter, stride=stride_shape, kernel_size= kernel_shape,\n",
    "            padding='SAME', biases_initializer=tf.zeros_initializer(), weights_initializer=tf.random_normal_initializer(0.0, 0.02),\n",
    "            activation_fn=act\n",
    "        )\n",
    "\n",
    "def max_pool(input, kernel_size, stride):\n",
    "    ksize = [1, kernel_size, kernel_size, 1]\n",
    "    strides = [1, stride, stride, 1]\n",
    "    return tf.nn.max_pool(input, ksize=ksize, strides=strides, padding='SAME')\n",
    "\n",
    "\n",
    "def batch_norm(inputs_, is_training):\n",
    "    out = tf.contrib.layers.batch_norm(inputs_, decay = 0.99, center = True, scale = True,\n",
    "                                       is_training = is_training, updates_collections = None)\n",
    "    return out\n",
    "\n",
    "def fc(input, num_output, name = 'fc'):\n",
    "    with tf.variable_scope(name):\n",
    "        num_input = input.get_shape()[1]\n",
    "        W = tf.get_variable('w', [num_input, num_output], tf.float32, tf.random_normal_initializer(0.0, 0.02))\n",
    "        b = tf.get_variable('b', [num_output], initializer = tf.constant_initializer(0.0))\n",
    "        return tf.matmul(input, W) + b\n",
    "\n",
    "def l1_loss(inputs_, targets_):\n",
    "    loss = tf.reduce_mean(abs(inputs_ - targets_))\n",
    "    return loss\n",
    "\n",
    "def ce_loss(labels, logits):\n",
    "        loss = tf.nn.sigmoid_cross_entropy_with_logits(labels = labels, logits = logits)\n",
    "        return tf.reduce_mean(loss)\n",
    "    "
   ]
  },
  {
   "cell_type": "code",
   "execution_count": 260,
   "metadata": {
    "collapsed": true
   },
   "outputs": [],
   "source": [
    "tf.reset_default_graph()\n",
    "#to Reset Tensor Flow Graph"
   ]
  },
  {
   "cell_type": "code",
   "execution_count": 261,
   "metadata": {
    "collapsed": true
   },
   "outputs": [],
   "source": [
    "batch_size = 36\n",
    "# tf Graph input (only pictures)\n",
    "inputs_ = tf.placeholder(tf.float32, (batch_size, 64,64,3), name=\"input\")\n",
    "targets_ = tf.placeholder(tf.float32, (batch_size, 64,64,3), name=\"target\")\n",
    "pose_ = tf.placeholder(tf.float32, (batch_size, 8, 8, 36), name=\"pose\")\n",
    "\n",
    "disc_inputs = tf.placeholder(tf.float32, (batch_size, 64,64,3), name=\"input\")\n",
    "\n",
    "real_label = tf.placeholder(tf.float32, [None, 1])\n",
    "fake_label = tf.placeholder(tf.float32, [None, 1])"
   ]
  },
  {
   "cell_type": "code",
   "execution_count": 262,
   "metadata": {
    "collapsed": true
   },
   "outputs": [],
   "source": [
    "\n",
    "#generate coarse images from inputs_\n",
    "def auto_encoder(inputs_, pose_):\n",
    "    print(inputs_)\n",
    "    with tf.variable_scope('encoder'):\n",
    "        _ = conv2d(inputs_, output=16 ,kernel_h=3, kernel_w=3, k_stride=2, scope_name=\"conv1\",act=tf.nn.leaky_relu)\n",
    "        #_ = batch_norm(_, True)\n",
    "        _ = conv2d(_, output=32 ,kernel_h=3, kernel_w=3, k_stride=2, scope_name=\"conv2\",act=tf.nn.leaky_relu)\n",
    "        #_ = batch_norm(_, True)\n",
    "        _ = conv2d(_, output=92 ,kernel_h=3, kernel_w=3, k_stride=2, scope_name=\"conv3\",act=tf.nn.leaky_relu)\n",
    "        _ = tf.concat([_, pose_], 3)\n",
    "\n",
    "        _ = deconv2d(_, kernel_size=3, stride=2, num_filter=32, scope_name='deconv1',act=tf.nn.leaky_relu)\n",
    "        _ = deconv2d(_, kernel_size=3, stride=2, num_filter=16, scope_name='deconv2',act=tf.nn.leaky_relu)\n",
    "        _ = deconv2d(_, kernel_size=3, stride=2, num_filter=3, scope_name='deconv3',act=tf.nn.leaky_relu)\n",
    "    return _ \n",
    "    \n",
    "    \n",
    "# discriminator should give a fc layer\n",
    "def discriminator(inputs_):\n",
    "    with tf.variable_scope('dis', reuse = tf.AUTO_REUSE):\n",
    "        ''' \n",
    "        _ = conv2d(inputs_, 4, 2, 32, 'conv1')\n",
    "        _ = leaky_relu(_)\n",
    "        _ = conv2d(_, 4, 2, 64, 'conv2')\n",
    "        _ = batch_norm(_)\n",
    "        _ = leaky_relu(_)\n",
    "        _ = conv2d(_, 4, 2, 128, 'conv3')\n",
    "        _ = batch_norm(_)\n",
    "        _ = leaky_relu(_)\n",
    "        _ = tf.reshape(_, [-1, 4 * 4 * 128])\n",
    "        _ = fc(_, 1, 'fc4')\n",
    "        print(_.get_shape(), \"FC - Result\")\n",
    "        '''\n",
    "        \n",
    "        _ = conv2d(inputs_, output=16 ,kernel_h=3, kernel_w=3, k_stride=2, scope_name=\"dis_conv1\", act=tf.nn.leaky_relu)\n",
    "        _ = conv2d(_, output=32 ,kernel_h=3, kernel_w=3, k_stride=2, scope_name=\"dis_conv2\", act=tf.nn.leaky_relu)\n",
    "        # _ = batch_norm(_, True)\n",
    "        _ = conv2d(_, output=32 ,kernel_h=3, kernel_w=3, k_stride=2, scope_name=\"dis_conv3\", act=tf.nn.leaky_relu)\n",
    "        #_ = batch_norm(_, True)\n",
    "        _ = tf.reshape(_, [-1, 8 * 8 * 32])        \n",
    "        _ = fc(_, 1, 'dis_fc1')\n",
    "        return _\n",
    "        \n",
    "    "
   ]
  },
  {
   "cell_type": "code",
   "execution_count": 263,
   "metadata": {
    "collapsed": false
   },
   "outputs": [],
   "source": [
    "\n",
    "global_step = tf.Variable(0,trainable=False)\n",
    "lr = 1e-4\n"
   ]
  },
  {
   "cell_type": "code",
   "execution_count": 264,
   "metadata": {
    "collapsed": false
   },
   "outputs": [
    {
     "name": "stdout",
     "output_type": "stream",
     "text": [
      "Tensor(\"input:0\", shape=(36, 64, 64, 3), dtype=float32)\n"
     ]
    }
   ],
   "source": [
    "alpha = 1\n",
    "beta = 1\n",
    "\n",
    "generated_images = auto_encoder(inputs_, pose_)\n",
    "g = discriminator(generated_images)\n",
    "\n",
    "gen_loss_op = alpha * ce_loss(real_label, g) #+ beta * l1_loss(generated_images, targets_)\n",
    "dis_loss_op = ce_loss(fake_label, g) + ce_loss(real_label, discriminator(disc_inputs))\n",
    "\n",
    " "
   ]
  },
  {
   "cell_type": "code",
   "execution_count": 265,
   "metadata": {
    "collapsed": false
   },
   "outputs": [
    {
     "name": "stdout",
     "output_type": "stream",
     "text": [
      "[<tf.Variable 'encoder/conv1/Conv/weights:0' shape=(3, 3, 3, 16) dtype=float32_ref>, <tf.Variable 'encoder/conv1/Conv/biases:0' shape=(16,) dtype=float32_ref>, <tf.Variable 'encoder/conv2/Conv/weights:0' shape=(3, 3, 16, 32) dtype=float32_ref>, <tf.Variable 'encoder/conv2/Conv/biases:0' shape=(32,) dtype=float32_ref>, <tf.Variable 'encoder/conv3/Conv/weights:0' shape=(3, 3, 32, 92) dtype=float32_ref>, <tf.Variable 'encoder/conv3/Conv/biases:0' shape=(92,) dtype=float32_ref>, <tf.Variable 'encoder/deconv1/Conv2d_transpose/weights:0' shape=(3, 3, 32, 128) dtype=float32_ref>, <tf.Variable 'encoder/deconv1/Conv2d_transpose/biases:0' shape=(32,) dtype=float32_ref>, <tf.Variable 'encoder/deconv2/Conv2d_transpose/weights:0' shape=(3, 3, 16, 32) dtype=float32_ref>, <tf.Variable 'encoder/deconv2/Conv2d_transpose/biases:0' shape=(16,) dtype=float32_ref>, <tf.Variable 'encoder/deconv3/Conv2d_transpose/weights:0' shape=(3, 3, 3, 16) dtype=float32_ref>, <tf.Variable 'encoder/deconv3/Conv2d_transpose/biases:0' shape=(3,) dtype=float32_ref>]\n"
     ]
    }
   ],
   "source": [
    "disriminator_vars = tf.get_collection(tf.GraphKeys.GLOBAL_VARIABLES, 'dis')\n",
    "generator_vars = tf.get_collection(tf.GraphKeys.GLOBAL_VARIABLES, 'encoder')\n",
    "print (generator_vars)\n",
    "dis_optimizer = tf.train.RMSPropOptimizer(lr)\n",
    "dis_train_op = dis_optimizer.minimize(dis_loss_op, var_list=disriminator_vars)\n",
    "\n",
    "gen_optimizer = tf.train.RMSPropOptimizer(lr)\n",
    "gen_train_op = gen_optimizer.minimize(gen_loss_op, var_list=generator_vars)"
   ]
  },
  {
   "cell_type": "code",
   "execution_count": 266,
   "metadata": {
    "collapsed": false
   },
   "outputs": [
    {
     "name": "stdout",
     "output_type": "stream",
     "text": [
      "Iteration 10: dis loss = 1.3855, gen loss = 0.6932\n",
      "Iteration 20: dis loss = 1.3853, gen loss = 0.6932\n",
      "Iteration 30: dis loss = 1.3851, gen loss = 0.6933\n",
      "Iteration 40: dis loss = 1.3849, gen loss = 0.6935\n",
      "Iteration 50: dis loss = 1.3845, gen loss = 0.6938\n",
      "Iteration 60: dis loss = 1.3839, gen loss = 0.6942\n",
      "Iteration 70: dis loss = 1.3832, gen loss = 0.6947\n",
      "Iteration 80: dis loss = 1.3822, gen loss = 0.6953\n",
      "Iteration 90: dis loss = 1.3804, gen loss = 0.6960\n",
      "Iteration 100: dis loss = 1.3770, gen loss = 0.6971\n",
      "Iteration 110: dis loss = 1.3693, gen loss = 0.6991\n",
      "Iteration 120: dis loss = 1.3505, gen loss = 0.7027\n",
      "Iteration 130: dis loss = 1.3046, gen loss = 0.7083\n",
      "Iteration 140: dis loss = 1.2172, gen loss = 0.7167\n",
      "Iteration 150: dis loss = 1.0785, gen loss = 0.7281\n",
      "Iteration 160: dis loss = 0.9221, gen loss = 0.7442\n",
      "Iteration 170: dis loss = 0.7925, gen loss = 0.7645\n",
      "Iteration 180: dis loss = 0.6806, gen loss = 0.7914\n",
      "Iteration 190: dis loss = 0.6158, gen loss = 0.8275\n",
      "Iteration 200: dis loss = 0.5612, gen loss = 0.8742\n",
      "Iteration 210: dis loss = 0.5097, gen loss = 0.9330\n",
      "Iteration 220: dis loss = 0.4606, gen loss = 1.0071\n",
      "Iteration 230: dis loss = 0.4087, gen loss = 1.0990\n",
      "Iteration 240: dis loss = 0.3558, gen loss = 1.2128\n",
      "Iteration 250: dis loss = 0.3121, gen loss = 1.3318\n",
      "Iteration 260: dis loss = 0.2956, gen loss = 1.4035\n",
      "Iteration 270: dis loss = 0.3557, gen loss = 1.3101\n",
      "Iteration 280: dis loss = 0.4056, gen loss = 1.3130\n",
      "Iteration 290: dis loss = 0.4425, gen loss = 1.5068\n",
      "Iteration 300: dis loss = 0.3988, gen loss = 1.8611\n",
      "Iteration 310: dis loss = 0.3986, gen loss = 2.4600\n",
      "Iteration 320: dis loss = 0.4386, gen loss = 2.7970\n",
      "Iteration 330: dis loss = 0.5339, gen loss = 3.0238\n",
      "Iteration 340: dis loss = 0.6886, gen loss = 3.0907\n",
      "Iteration 350: dis loss = 0.7315, gen loss = 3.3212\n",
      "Iteration 360: dis loss = 0.7910, gen loss = 4.1988\n",
      "Iteration 370: dis loss = 0.8736, gen loss = 3.7209\n",
      "Iteration 380: dis loss = 1.0639, gen loss = 4.8940\n",
      "Iteration 390: dis loss = 1.1737, gen loss = 4.1542\n",
      "Iteration 400: dis loss = 1.4138, gen loss = 5.5377\n",
      "Iteration 410: dis loss = 1.6815, gen loss = 6.5036\n",
      "Iteration 420: dis loss = 1.2668, gen loss = 1.5961\n",
      "Iteration 430: dis loss = 1.2962, gen loss = 1.4357\n",
      "Iteration 440: dis loss = 1.2998, gen loss = 1.4771\n",
      "Iteration 450: dis loss = 1.2329, gen loss = 1.4609\n",
      "Iteration 460: dis loss = 1.1558, gen loss = 1.5935\n",
      "Iteration 470: dis loss = 1.1489, gen loss = 1.3248\n",
      "Iteration 480: dis loss = 1.0918, gen loss = 1.5384\n",
      "Iteration 490: dis loss = 1.0674, gen loss = 1.3225\n",
      "Iteration 500: dis loss = 1.0752, gen loss = 1.2080\n",
      "Iteration 510: dis loss = 1.1187, gen loss = 1.0343\n",
      "Iteration 520: dis loss = 1.1132, gen loss = 1.1262\n",
      "Iteration 530: dis loss = 1.0994, gen loss = 0.9107\n",
      "Iteration 540: dis loss = 1.0941, gen loss = 0.9636\n",
      "Iteration 550: dis loss = 1.1094, gen loss = 0.9604\n",
      "Iteration 560: dis loss = 1.1841, gen loss = 1.0075\n",
      "Iteration 570: dis loss = 1.3023, gen loss = 0.7211\n",
      "Iteration 580: dis loss = 1.2659, gen loss = 0.8763\n",
      "Iteration 590: dis loss = 1.0995, gen loss = 0.8886\n",
      "Iteration 600: dis loss = 0.9501, gen loss = 1.0354\n",
      "Iteration 610: dis loss = 0.7493, gen loss = 1.2234\n",
      "Iteration 620: dis loss = 0.7969, gen loss = 1.3597\n",
      "Iteration 630: dis loss = 0.7048, gen loss = 1.3584\n",
      "Iteration 640: dis loss = 0.9272, gen loss = 1.1882\n",
      "Iteration 650: dis loss = 1.1386, gen loss = 1.2504\n",
      "Iteration 660: dis loss = 1.4084, gen loss = 0.8766\n",
      "Iteration 670: dis loss = 1.4654, gen loss = 1.2809\n",
      "Iteration 680: dis loss = 1.5939, gen loss = 1.0013\n",
      "Iteration 690: dis loss = 1.5508, gen loss = 0.9503\n",
      "Iteration 700: dis loss = 1.5340, gen loss = 0.8576\n",
      "Iteration 710: dis loss = 1.7241, gen loss = 0.6764\n",
      "Iteration 720: dis loss = 1.6140, gen loss = 0.7411\n",
      "Iteration 730: dis loss = 1.5745, gen loss = 0.7119\n",
      "Iteration 740: dis loss = 1.7177, gen loss = 0.6425\n",
      "Iteration 750: dis loss = 1.7056, gen loss = 0.7816\n",
      "Iteration 760: dis loss = 1.7091, gen loss = 0.6687\n",
      "Iteration 770: dis loss = 1.7994, gen loss = 0.5505\n",
      "Iteration 780: dis loss = 1.7167, gen loss = 0.5860\n",
      "Iteration 790: dis loss = 1.6454, gen loss = 0.6436\n",
      "Iteration 800: dis loss = 1.5679, gen loss = 0.6279\n",
      "Iteration 810: dis loss = 1.5007, gen loss = 0.6697\n",
      "Iteration 820: dis loss = 1.4043, gen loss = 0.6938\n",
      "Iteration 830: dis loss = 1.3629, gen loss = 0.7280\n",
      "Iteration 840: dis loss = 1.3329, gen loss = 0.7682\n",
      "Iteration 850: dis loss = 1.2726, gen loss = 0.7763\n"
     ]
    }
   ],
   "source": [
    "sess = tf.Session()\n",
    "sess.run(tf.global_variables_initializer())\n",
    "\n",
    "epochs = 5\n",
    "total_images = 6120\n",
    "step = 0\n",
    "\n",
    "r = total_images // batch_size\n",
    "\n",
    "for epoch in range(epochs):\n",
    "    for ii in range(r):\n",
    "        step += 1\n",
    "        zeros = np.zeros([batch_size, 1])\n",
    "        ones = np.ones([batch_size, 1])\n",
    "        \n",
    "        batch = data_train[ii*batch_size : (ii+1)*batch_size]\n",
    "        batch_labels = train_labels[ii*batch_size : (ii+1)*batch_size]\n",
    "        pose_labels = pose[ii*batch_size : (ii+1)*batch_size]\n",
    "        \n",
    "        \n",
    "        k = np.random.randint(1,r)\n",
    "        #print(\"K\", k)\n",
    "        \n",
    "        d_inputs = data_train[k*batch_size : (k+1)*batch_size]\n",
    "        \n",
    "        \n",
    "        \n",
    "\n",
    "        gen_feed_dict = {inputs_: batch, targets_: batch_labels, pose_: pose_labels,\n",
    "                         real_label: ones}\n",
    "\n",
    "        _, gen_loss = sess.run([gen_train_op, gen_loss_op], feed_dict = gen_feed_dict)\n",
    "        \n",
    "        \n",
    "        dis_feed_dict = {inputs_: batch, targets_: batch_labels, pose_: pose_labels,\n",
    "                         fake_label: zeros, real_label: ones, disc_inputs: d_inputs}\n",
    "\n",
    "        _, dis_loss = sess.run([dis_train_op, dis_loss_op], feed_dict = dis_feed_dict)\n",
    "\n",
    "        if step % 10 == 0:\n",
    "            print('Iteration {0}: dis loss = {1:.4f}, gen loss = {2:.4f}'.format(step, dis_loss, gen_loss))\n"
   ]
  },
  {
   "cell_type": "code",
   "execution_count": null,
   "metadata": {
    "collapsed": true
   },
   "outputs": [],
   "source": []
  }
 ],
 "metadata": {
  "kernelspec": {
   "display_name": "Python 3",
   "language": "python",
   "name": "python3"
  },
  "language_info": {
   "codemirror_mode": {
    "name": "ipython",
    "version": 3
   },
   "file_extension": ".py",
   "mimetype": "text/x-python",
   "name": "python",
   "nbconvert_exporter": "python",
   "pygments_lexer": "ipython3",
   "version": "3.5.2"
  }
 },
 "nbformat": 4,
 "nbformat_minor": 0
}
