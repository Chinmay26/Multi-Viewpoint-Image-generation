{
 "cells": [
  {
   "cell_type": "code",
   "execution_count": 1,
   "metadata": {
    "collapsed": true
   },
   "outputs": [],
   "source": [
    "%matplotlib inline\n",
    "import matplotlib\n"
   ]
  },
  {
   "cell_type": "code",
   "execution_count": 2,
   "metadata": {
    "collapsed": true
   },
   "outputs": [],
   "source": [
    "\n",
    "import tensorflow as tf\n",
    "import numpy as np\n",
    "import matplotlib.pyplot as plt\n",
    "from scipy import misc\n",
    "from scipy import ndimage\n",
    "import os\n",
    "from matplotlib.pyplot import imshow\n",
    "import matplotlib.image as mpimg\n",
    "from sklearn.utils import shuffle\n",
    "import h5py"
   ]
  },
  {
   "cell_type": "code",
   "execution_count": 3,
   "metadata": {
    "collapsed": true
   },
   "outputs": [],
   "source": [
    "#Change the path to hdf5 file\n",
    "hdf5_path = 'C:/Users/nitis/OneDrive/Documents/Deep Learning/Project/data.hdf5'"
   ]
  },
  {
   "cell_type": "code",
   "execution_count": 4,
   "metadata": {
    "collapsed": true
   },
   "outputs": [],
   "source": [
    "def read_from_hdf5(hdf5_path):\n",
    "    print(\"Reading data from hdf5 file:\",hdf5_path)\n",
    "    data = []\n",
    "    f = h5py.File(hdf5_path,'r')\n",
    "    key = (list(f.keys())[0])\n",
    "    data = list(f[key])\n",
    "    print(\"Rows of data read:\",len(data))\n",
    "    return data\n"
   ]
  },
  {
   "cell_type": "code",
   "execution_count": 5,
   "metadata": {},
   "outputs": [
    {
     "name": "stdout",
     "output_type": "stream",
     "text": [
      "Reading data from hdf5 file: C:/Users/nitis/OneDrive/Documents/Deep Learning/Project/data.hdf5\n",
      "Rows of data read: 214\n"
     ]
    }
   ],
   "source": [
    "images = read_from_hdf5(hdf5_path)"
   ]
  },
  {
   "cell_type": "code",
   "execution_count": 6,
   "metadata": {},
   "outputs": [
    {
     "name": "stdout",
     "output_type": "stream",
     "text": [
      "(214, 36, 64, 64, 3)\n"
     ]
    }
   ],
   "source": [
    "data = np.array(images)\n",
    "print(data.shape)\n",
    "\n",
    "n = data.shape[0]\n",
    "m = data.shape[1]\n",
    "\n",
    "imageset = np.empty((7704,64,64,3), dtype='float32')\n"
   ]
  },
  {
   "cell_type": "code",
   "execution_count": 7,
   "metadata": {},
   "outputs": [
    {
     "name": "stdout",
     "output_type": "stream",
     "text": [
      "(7704, 64, 64, 3)\n"
     ]
    }
   ],
   "source": [
    "FlattenImageData= []\n",
    "FlattenImageData = FlattenImageData + [data[x][y] for x in range(n) for  y in range(m)]\n",
    "imageset = np.array(FlattenImageData)\n",
    "print(imageset.shape)"
   ]
  },
  {
   "cell_type": "code",
   "execution_count": 8,
   "metadata": {},
   "outputs": [
    {
     "name": "stdout",
     "output_type": "stream",
     "text": [
      "(64, 64, 3)\n"
     ]
    },
    {
     "data": {
      "image/png": "[encoded data removed]",
      "text/plain": [
       "<matplotlib.figure.Figure at 0x17e6abbf208>"
      ]
     },
     "metadata": {},
     "output_type": "display_data"
    }
   ],
   "source": [
    "#this part is to visulize image\n",
    "tmp = imageset[3569]\n",
    "\n",
    "print(tmp.shape)\n",
    "plt.imshow(tmp/255)\n",
    "plt.show()\n"
   ]
  },
  {
   "cell_type": "code",
   "execution_count": 9,
   "metadata": {
    "collapsed": true
   },
   "outputs": [],
   "source": [
    "#First 170 folders. 170*36 = 6120 images would be used for training\n",
    "# rest 44 folders would be used for testing\n",
    "\n",
    "\n",
    "\n",
    "data_ = np.zeros(imageset.shape)\n",
    "labels_ = np.zeros(imageset.shape)\n",
    "pose = np.zeros((7704,8,8,36))\n",
    "\n",
    "\n",
    "for cnt in range(n):\n",
    "    for itr in range(m):\n",
    "        data_[(cnt*36) + itr] = imageset[cnt*36]\n",
    "        pose_tmp = np.zeros(36)\n",
    "        pose_tmp[itr] = 1\n",
    "        pose[(cnt*36) + itr] = np.broadcast_to(pose_tmp,(8,8,36))\n",
    "        labels_[(cnt*36) + itr] =  imageset[(cnt*36) + itr]\n",
    "        #print( (cnt*36) + itr)\n",
    "\n",
    "data_, labels_, pose = shuffle(data_, labels_, pose, random_state=0)\n",
    "#This code will generate labels for the dataset\n",
    "#perm = np.random.permutation(data_.shape[0])\n",
    "\n",
    "# data_ = data_[perm]\n",
    "# labels_ = labels_[perm]\n",
    "# pose = pose[perm]\n",
    "\n",
    "# For current image label is the next image (image with 10 degree rotation)\n",
    "# For last image in the set (36th image) label would be first image\n",
    "\n",
    "data_train = np.array(data_[:6120])\n",
    "data_test = np.array(data_[6120:])\n",
    "\n",
    "train_labels = np.array(labels_[:6120])\n",
    "test_labels = np.array(labels_[6120:])\n",
    "\n",
    "\n",
    "# #Comment here for autoencoder\n",
    "# for cnt in range(170):\n",
    "#     train_labels[cnt*36:(cnt+1)*36] = np.roll(data_train[cnt*36:(cnt+1)*36], 1, axis=0)\n",
    "\n",
    "# for cnt in range(46):\n",
    "#     test_labels[cnt*36:(cnt+1)*36] = np.roll(data_test[cnt*36:(cnt+1)*36], 1, axis=0)\n",
    "# # comment ends for same image autoencoder\n",
    "\n",
    "#tmp = data_test[600]\n",
    "\n",
    "#Hidden viewpoint block is generated here.\n",
    "# For now it is same for all images. 10 degree angle change\n",
    "# it will change afterwards\n",
    "\n",
    "# view_1d = np.zeros(36)\n",
    "# view_1d[1] = 1\n",
    "# view = np.broadcast_to(view_1d,(7776,8,8,36))\n",
    "# view_train = view[:6120]\n",
    "# view_test = view[6120:]\n",
    "\n"
   ]
  },
  {
   "cell_type": "code",
   "execution_count": 10,
   "metadata": {},
   "outputs": [
    {
     "name": "stdout",
     "output_type": "stream",
     "text": [
      "[ 0.  0.  0.  0.  0.  0.  0.  0.  0.  0.  1.  0.  0.  0.  0.  0.  0.  0.\n",
      "  0.  0.  0.  0.  0.  0.  0.  0.  0.  0.  0.  0.  0.  0.  0.  0.  0.  0.]\n"
     ]
    },
    {
     "data": {
      "image/png": "[encoded data removed]",
      "text/plain": [
       "<matplotlib.figure.Figure at 0x17e020728d0>"
      ]
     },
     "metadata": {},
     "output_type": "display_data"
    },
    {
     "data": {
      "image/png": "[encoded data removed]",
      "text/plain": [
       "<matplotlib.figure.Figure at 0x17e2f3abbe0>"
      ]
     },
     "metadata": {},
     "output_type": "display_data"
    }
   ],
   "source": [
    "\n",
    "tmp = train_labels[18][...,::-1]\n",
    "tmp1 = data_train[18][...,::-1]\n",
    "\n",
    "print(pose[18][0][0])\n",
    "plt.imshow(tmp1/255)\n",
    "plt.show()\n",
    "plt.imshow(tmp/255)\n",
    "plt.show()\n"
   ]
  },
  {
   "cell_type": "code",
   "execution_count": 11,
   "metadata": {
    "collapsed": true
   },
   "outputs": [],
   "source": [
    "#normalize data\n",
    "\n",
    "\n",
    "data_train *= 2\n",
    "data_train /= 255\n",
    "data_train -= 1\n",
    "\n",
    "data_test *= 2\n",
    "data_test /= 255\n",
    "data_test -= 1\n",
    "\n",
    "\n",
    "train_labels *= 2\n",
    "train_labels /= 255\n",
    "train_labels -= 1\n",
    "\n",
    "test_labels *= 2\n",
    "test_labels /= 255\n",
    "test_labels -= 1\n",
    "\n"
   ]
  },
  {
   "cell_type": "code",
   "execution_count": 12,
   "metadata": {
    "collapsed": true
   },
   "outputs": [],
   "source": [
    "tf.reset_default_graph()\n",
    "#to Reset Tensor Flow Graph"
   ]
  },
  {
   "cell_type": "code",
   "execution_count": 13,
   "metadata": {
    "collapsed": true
   },
   "outputs": [],
   "source": [
    "#defination of my layers\n",
    "\n",
    "def conv2d(input, kernel_size, stride, num_filter):\n",
    "    stride_shape = [1, stride, stride, 1]\n",
    "    filter_shape = [kernel_size, kernel_size, input.get_shape()[3], num_filter]\n",
    "\n",
    "    W = tf.get_variable('w', filter_shape, tf.float32, tf.random_normal_initializer(0.0, 0.02))\n",
    "    b = tf.get_variable('b', [1, 1, 1, num_filter], initializer=tf.constant_initializer(0.0))\n",
    "    return tf.nn.conv2d(input, W, stride_shape, padding='SAME') + b\n",
    "\n",
    "def max_pool(input, kernel_size, stride):\n",
    "    ksize = [1, kernel_size, kernel_size, 1]\n",
    "    strides = [1, stride, stride, 1]\n",
    "    return tf.nn.max_pool(input, ksize=ksize, strides=strides, padding='SAME')\n",
    "\n",
    "def deconv2d(input, kernel_size, stride, num_filter):\n",
    "    filter_shape = [kernel_size, kernel_size, num_filter, input.get_shape()[3]]\n",
    "    # tf.constant([input.get_shape()[0], input.get_shape()[1]*2, input.get_shape()[1]*2, num_filter], tf.int32)\n",
    "    input_dim = input.get_shape().as_list()\n",
    "    batch_size = input_dim[0]\n",
    "    w = input_dim[1]\n",
    "    out_shape = tf.stack([batch_size, w*2, w*2, num_filter])    \n",
    "\n",
    "    stride_shape = [1, stride, stride, 1]\n",
    "    W = tf.get_variable('w', filter_shape, tf.float32, tf.random_normal_initializer(0.0, 0.02))\n",
    "    \n",
    "    return tf.nn.conv2d_transpose(input, W, out_shape, stride_shape)"
   ]
  },
  {
   "cell_type": "code",
   "execution_count": 14,
   "metadata": {
    "collapsed": true
   },
   "outputs": [],
   "source": [
    "\n",
    "# Network Parameters\n",
    "\n",
    "#Encoder\n",
    "# input is 64 * 64 * 3 \n",
    "# batch_size is 72\n",
    "\n",
    "\n",
    "# tf Graph input (only pictures)\n",
    "\n",
    "inputs_ = tf.placeholder(tf.float32, (36, 64,64,3), name=\"input\")\n",
    "targets_ = tf.placeholder(tf.float32, (36, 64,64,3), name=\"target\")\n",
    "pose_ = tf.placeholder(tf.float32, (36, 8, 8, 36), name=\"pose\")"
   ]
  },
  {
   "cell_type": "code",
   "execution_count": 15,
   "metadata": {
    "collapsed": true
   },
   "outputs": [],
   "source": [
    "# Building the encoder\n",
    "#Layer Architecture\n",
    "# Encoder will have Conv + relu + Max pool + Conv + relu  + Max pool + Conv + relu  + Max pool\n",
    "# After 3 Convolution ,we will have a latent space\n",
    "\n",
    "with tf.variable_scope('conv1'):\n",
    "    conv1 = conv2d(inputs_, 3, 2, 16)\n",
    "    tanh1 = tf.nn.relu(conv1)\n",
    "    #pool1 = max_pool(tanh1, 3, 2)\n",
    "\n",
    "# Size of pool1 would be 32*32*32\n",
    "\n",
    "with tf.variable_scope('conv2'):\n",
    "    conv2 = conv2d(tanh1, 3, 2, 32)\n",
    "    tanh2 = tf.nn.relu(conv2)\n",
    "    #pool2 = max_pool(tanh2, 3, 2)\n",
    "\n",
    "# # Size of pool2 would be 16*16*16\n",
    "\n",
    "with tf.variable_scope('conv3'):\n",
    "    conv3 = conv2d(tanh2, 3, 2, 92)\n",
    "    tanh3 = tf.nn.relu(conv3)\n",
    "    #pool3 = max_pool(tanh3, 3, 2)\n",
    "\n",
    "with tf.variable_scope('concat'):\n",
    "    concat = tf.concat([tanh3, pose_], 3)\n",
    "# # Latent space is 8*8*8\n",
    "# print pool3.get_shape().as_list()\n",
    "# #Building the decoder\n",
    "\n",
    "with tf.variable_scope('deconv1'):\n",
    "    deconv1 = deconv2d(concat, 3, 2, 32)\n",
    "    tanh4 = tf.nn.relu(deconv1)\n",
    "\n",
    "#print tanh4.get_shape().as_list()\n",
    "with tf.variable_scope('deconv2'):\n",
    "    deconv2 = deconv2d(tanh4, 3, 2, 16)\n",
    "    tanh5 = tf.nn.relu(deconv2)\n",
    "#print tanh5.get_shape().as_list()\n",
    "\n",
    "with tf.variable_scope('deconv3'):\n",
    "    deconv3 = deconv2d(tanh5, 3, 2, 3)\n",
    "    tanh6 = tf.nn.tanh(deconv3)\n",
    "\n"
   ]
  },
  {
   "cell_type": "code",
   "execution_count": 16,
   "metadata": {
    "collapsed": true
   },
   "outputs": [],
   "source": [
    "\n",
    "#calculate loss\n",
    "loss_op = tf.reduce_mean(abs(tanh6 - targets_))\n",
    "\n",
    "#Optimizer\n",
    "global_step = tf.Variable(0,trainable=False)\n",
    "lr = tf.train.exponential_decay(5e-4, global_step, 1000, 0.96, staircase=True)\n",
    "optimizer = tf.train.AdamOptimizer(lr)\n",
    "train_op = optimizer.minimize(loss=loss_op)\n",
    "\n"
   ]
  },
  {
   "cell_type": "code",
   "execution_count": 17,
   "metadata": {},
   "outputs": [
    {
     "name": "stdout",
     "output_type": "stream",
     "text": [
      "Epoch: 1/100... Training loss: 0.3380\n",
      "Epoch: 2/100... Training loss: 0.3251\n",
      "Epoch: 3/100... Training loss: 0.3189\n",
      "Epoch: 4/100... Training loss: 0.3144\n",
      "Epoch: 5/100... Training loss: 0.3089\n",
      "Epoch: 6/100... Training loss: 0.2970\n",
      "Epoch: 7/100... Training loss: 0.2747\n",
      "Epoch: 8/100... Training loss: 0.2607\n",
      "Epoch: 9/100... Training loss: 0.2322\n",
      "Epoch: 10/100... Training loss: 0.2243\n",
      "Epoch: 11/100... Training loss: 0.2190\n",
      "Epoch: 12/100... Training loss: 0.2151\n",
      "Epoch: 13/100... Training loss: 0.2138\n",
      "Epoch: 14/100... Training loss: 0.2115\n",
      "Epoch: 15/100... Training loss: 0.2108\n",
      "Epoch: 16/100... Training loss: 0.2079\n",
      "Epoch: 17/100... Training loss: 0.2072\n",
      "Epoch: 18/100... Training loss: 0.2057\n",
      "Epoch: 19/100... Training loss: 0.2047\n",
      "Epoch: 20/100... Training loss: 0.2026\n",
      "Epoch: 21/100... Training loss: 0.2015\n",
      "Epoch: 22/100... Training loss: 0.2001\n",
      "Epoch: 23/100... Training loss: 0.1996\n",
      "Epoch: 24/100... Training loss: 0.1987\n",
      "Epoch: 25/100... Training loss: 0.1972\n",
      "Epoch: 26/100... Training loss: 0.1966\n",
      "Epoch: 27/100... Training loss: 0.1946\n",
      "Epoch: 28/100... Training loss: 0.1939\n",
      "Epoch: 29/100... Training loss: 0.1930\n",
      "Epoch: 30/100... Training loss: 0.1923\n",
      "Epoch: 31/100... Training loss: 0.1920\n",
      "Epoch: 32/100... Training loss: 0.1917\n",
      "Epoch: 33/100... Training loss: 0.1914\n",
      "Epoch: 34/100... Training loss: 0.1905\n",
      "Epoch: 35/100... Training loss: 0.1901\n",
      "Epoch: 36/100... Training loss: 0.1895\n",
      "Epoch: 37/100... Training loss: 0.1887\n",
      "Epoch: 38/100... Training loss: 0.1887\n",
      "Epoch: 39/100... Training loss: 0.1887\n",
      "Epoch: 40/100... Training loss: 0.1879\n",
      "Epoch: 41/100... Training loss: 0.1884\n",
      "Epoch: 42/100... Training loss: 0.1869\n",
      "Epoch: 43/100... Training loss: 0.1858\n",
      "Epoch: 44/100... Training loss: 0.1846\n",
      "Epoch: 45/100... Training loss: 0.1833\n",
      "Epoch: 46/100... Training loss: 0.1826\n",
      "Epoch: 47/100... Training loss: 0.1818\n",
      "Epoch: 48/100... Training loss: 0.1558\n",
      "Epoch: 49/100... Training loss: 0.1485\n",
      "Epoch: 50/100... Training loss: 0.1465\n",
      "Epoch: 51/100... Training loss: 0.1458\n",
      "Epoch: 52/100... Training loss: 0.1455\n",
      "Epoch: 53/100... Training loss: 0.1448\n",
      "Epoch: 54/100... Training loss: 0.1437\n",
      "Epoch: 55/100... Training loss: 0.1424\n",
      "Epoch: 56/100... Training loss: 0.1408\n",
      "Epoch: 57/100... Training loss: 0.1396\n",
      "Epoch: 58/100... Training loss: 0.1382\n",
      "Epoch: 59/100... Training loss: 0.1374\n",
      "Epoch: 60/100... Training loss: 0.1367\n",
      "Epoch: 61/100... Training loss: 0.1359\n",
      "Epoch: 62/100... Training loss: 0.1348\n",
      "Epoch: 63/100... Training loss: 0.1340\n",
      "Epoch: 64/100... Training loss: 0.1333\n",
      "Epoch: 65/100... Training loss: 0.1324\n",
      "Epoch: 66/100... Training loss: 0.1317\n",
      "Epoch: 67/100... Training loss: 0.1313\n",
      "Epoch: 68/100... Training loss: 0.1308\n",
      "Epoch: 69/100... Training loss: 0.1303\n",
      "Epoch: 70/100... Training loss: 0.1299\n",
      "Epoch: 71/100... Training loss: 0.1294\n",
      "Epoch: 72/100... Training loss: 0.1292\n",
      "Epoch: 73/100... Training loss: 0.1287\n",
      "Epoch: 74/100... Training loss: 0.1283\n",
      "Epoch: 75/100... Training loss: 0.1280\n",
      "Epoch: 76/100... Training loss: 0.1274\n",
      "Epoch: 77/100... Training loss: 0.1271\n",
      "Epoch: 78/100... Training loss: 0.1263\n",
      "Epoch: 79/100... Training loss: 0.1260\n",
      "Epoch: 80/100... Training loss: 0.1254\n",
      "Epoch: 81/100... Training loss: 0.1251\n",
      "Epoch: 82/100... Training loss: 0.1245\n",
      "Epoch: 83/100... Training loss: 0.1243\n",
      "Epoch: 84/100... Training loss: 0.1239\n",
      "Epoch: 85/100... Training loss: 0.1237\n",
      "Epoch: 86/100... Training loss: 0.1232\n",
      "Epoch: 87/100... Training loss: 0.1227\n",
      "Epoch: 88/100... Training loss: 0.1222\n",
      "Epoch: 89/100... Training loss: 0.1219\n",
      "Epoch: 90/100... Training loss: 0.1216\n",
      "Epoch: 91/100... Training loss: 0.1215\n",
      "Epoch: 92/100... Training loss: 0.1213\n",
      "Epoch: 93/100... Training loss: 0.1210\n",
      "Epoch: 94/100... Training loss: 0.1204\n",
      "Epoch: 95/100... Training loss: 0.1202\n",
      "Epoch: 96/100... Training loss: 0.1199\n",
      "Epoch: 97/100... Training loss: 0.1196\n",
      "Epoch: 98/100... Training loss: 0.1191\n",
      "Epoch: 99/100... Training loss: 0.1189\n",
      "Epoch: 100/100... Training loss: 0.1185\n"
     ]
    }
   ],
   "source": [
    "sess = tf.Session()\n",
    "sess.run(tf.global_variables_initializer())\n",
    "\n",
    "# Training Parameters\n",
    "\n",
    "epochs = 100\n",
    "batch_size = 36\n",
    "total_images = 6120\n",
    "\n",
    "display_step = 1000\n",
    "examples_to_show = 10\n",
    "\n",
    "\n",
    "for e in range(epochs):\n",
    "    for ii in range(total_images // batch_size):\n",
    "        batch = data_train[ii*batch_size : (ii+1)*batch_size]\n",
    "        batch_labels = train_labels[ii*batch_size : (ii+1)*batch_size]\n",
    "        pose_labels = pose[ii*batch_size : (ii+1)*batch_size]\n",
    "        feed_dict = {inputs_: batch, targets_: batch_labels, pose_:pose_labels}\n",
    "\n",
    "        fetches = [train_op, loss_op]\n",
    "        _, loss = sess.run(fetches, feed_dict=feed_dict)\n",
    "    print(\"Epoch: {}/{}...\".format(e+1, epochs),\n",
    "            \"Training loss: {:.4f}\".format(loss))\n"
   ]
  },
  {
   "cell_type": "code",
   "execution_count": 18,
   "metadata": {
    "scrolled": true
   },
   "outputs": [
    {
     "data": {
      "image/png": "[encoded data removed]",
      "text/plain": [
       "<matplotlib.figure.Figure at 0x17e2f3937b8>"
      ]
     },
     "metadata": {},
     "output_type": "display_data"
    }
   ],
   "source": [
    "\n",
    "#compare test image \n",
    "\n",
    "tmp = imageset[6120+4][...,::-1]\n",
    "#print tmp.shape\n",
    "plt.imshow(tmp/255)\n",
    "plt.show()\n"
   ]
  },
  {
   "cell_type": "code",
   "execution_count": 19,
   "metadata": {
    "collapsed": true
   },
   "outputs": [],
   "source": [
    "\n",
    "\n",
    "feed_dict = {inputs_: data_test[100:136], targets_: test_labels[100:136], pose_:pose[6120+100:6120+136]}\n",
    "\n",
    "fetches = [tanh6, loss_op]\n",
    "out, loss = sess.run(fetches, feed_dict=feed_dict)\n",
    "#print loss"
   ]
  },
  {
   "cell_type": "code",
   "execution_count": 20,
   "metadata": {},
   "outputs": [
    {
     "name": "stdout",
     "output_type": "stream",
     "text": [
      "(1584, 64, 64, 3)\n"
     ]
    }
   ],
   "source": [
    "other = np.array(test_labels)\n",
    "\n",
    "print(other.shape)"
   ]
  },
  {
   "cell_type": "code",
   "execution_count": 21,
   "metadata": {
    "collapsed": true
   },
   "outputs": [],
   "source": [
    "# test_labels_copy = test_labels[0:72]\n",
    "\n",
    "# test_labels_copy *= max_labels\n",
    "# test_labels_copy += mean_labels\n",
    "\n",
    "# tmp = test_labels_copy[36]\n",
    "\n",
    "# tmp = np.where(tmp>255,255,tmp)\n",
    "# tmp = np.where(tmp<0,0,tmp)\n",
    "# tmp = tmp\n",
    "# plt.imshow(tmp)\n",
    "# plt.show()"
   ]
  },
  {
   "cell_type": "code",
   "execution_count": null,
   "metadata": {
    "collapsed": true
   },
   "outputs": [],
   "source": []
  },
  {
   "cell_type": "code",
   "execution_count": 22,
   "metadata": {
    "collapsed": true
   },
   "outputs": [],
   "source": [
    "\n",
    "out += 1\n",
    "out *=  255\n",
    "out /= 2\n",
    "\n",
    "# print np.amax(out)\n",
    "# print np.amin(out)\n",
    "# out = np.where(out>255,255,out)\n",
    "# out = np.where(out<0,0,out)\n",
    "\n"
   ]
  },
  {
   "cell_type": "code",
   "execution_count": 23,
   "metadata": {},
   "outputs": [
    {
     "name": "stdout",
     "output_type": "stream",
     "text": [
      "(64, 64, 3)\n"
     ]
    },
    {
     "data": {
      "image/png": "[encoded data removed]",
      "text/plain": [
       "<matplotlib.figure.Figure at 0x17e6cb66438>"
      ]
     },
     "metadata": {},
     "output_type": "display_data"
    }
   ],
   "source": [
    "\n",
    "tmp = out[23]\n",
    "print(tmp.shape)\n",
    "plt.imshow(tmp/255)\n",
    "plt.show()"
   ]
  },
  {
   "cell_type": "code",
   "execution_count": 24,
   "metadata": {
    "collapsed": true
   },
   "outputs": [],
   "source": [
    "other += 1\n",
    "other *=  255\n",
    "other /= 2"
   ]
  },
  {
   "cell_type": "code",
   "execution_count": 25,
   "metadata": {},
   "outputs": [
    {
     "data": {
      "image/png": "[encoded data removed]",
      "text/plain": [
       "<matplotlib.figure.Figure at 0x17e2f403550>"
      ]
     },
     "metadata": {},
     "output_type": "display_data"
    }
   ],
   "source": [
    "tmp = other[135]\n",
    "plt.imshow(tmp/255)\n",
    "plt.show()"
   ]
  },
  {
   "cell_type": "code",
   "execution_count": null,
   "metadata": {
    "collapsed": true
   },
   "outputs": [],
   "source": []
  }
 ],
 "metadata": {
  "kernelspec": {
   "display_name": "Python 3",
   "language": "python",
   "name": "python3"
  },
  "language_info": {
   "codemirror_mode": {
    "name": "ipython",
    "version": 3
   },
   "file_extension": ".py",
   "mimetype": "text/x-python",
   "name": "python",
   "nbconvert_exporter": "python",
   "pygments_lexer": "ipython3",
   "version": "3.5.3"
  }
 },
 "nbformat": 4,
 "nbformat_minor": 1
}
